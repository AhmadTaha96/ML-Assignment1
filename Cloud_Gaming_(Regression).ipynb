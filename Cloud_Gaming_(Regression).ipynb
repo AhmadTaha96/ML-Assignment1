{
  "nbformat": 4,
  "nbformat_minor": 0,
  "metadata": {
    "colab": {
      "provenance": [],
      "collapsed_sections": [
        "AOYZoF1ratgY",
        "v2BV8WJhR04m",
        "KIeHldVmpeEc",
        "CeIUeoAx0Sbn",
        "iNakBoiV4yMW",
        "f3LmRZXfQ6ul",
        "VZrbbBHBZrdo",
        "1QSk-UWpdHj0",
        "wi-ilL5GdKDl",
        "GQ7ilivK6sux"
      ]
    },
    "kernelspec": {
      "name": "python3",
      "display_name": "Python 3"
    },
    "language_info": {
      "name": "python"
    }
  },
  "cells": [
    {
      "cell_type": "markdown",
      "metadata": {
        "id": "hv5CdumW0VcL"
      },
      "source": [
        "# Real-world / Business\n"
      ]
    },
    {
      "cell_type": "markdown",
      "metadata": {
        "id": "8pDki-kiTb-k"
      },
      "source": [
        "### Problem Statment"
      ]
    },
    {
      "cell_type": "markdown",
      "metadata": {
        "id": "Eza_QGJCTgWA"
      },
      "source": [
        "In this task we will use machine learning to detect unstable\n",
        "network which can be used to take steps towards adapting the data streaming and minimizing data packet loss."
      ]
    },
    {
      "cell_type": "markdown",
      "metadata": {
        "id": "z6OUAd6dTN0h"
      },
      "source": [
        "### objectives and constraints"
      ]
    },
    {
      "cell_type": "markdown",
      "metadata": {
        "id": "xFHAWRb42iF7"
      },
      "source": [
        "\n",
        "*   No low-latency requirement.\n",
        "*   Interpretability is not much important (interested in detecting unstable network only)."
      ]
    },
    {
      "cell_type": "markdown",
      "metadata": {
        "id": "QhN3k_0o1C_c"
      },
      "source": [
        "### Performance metrics"
      ]
    },
    {
      "cell_type": "markdown",
      "metadata": {
        "id": "4QMYMjOc2ZXA"
      },
      "source": [
        "For performance measure of regression task we shall the following:\n",
        "\n",
        "\n",
        "*   Adjusted R2 Squared\n",
        "*   Root Mean Squared Error\n",
        "\n"
      ]
    },
    {
      "cell_type": "markdown",
      "metadata": {
        "id": "AOYZoF1ratgY"
      },
      "source": [
        "### Data Overview"
      ]
    },
    {
      "cell_type": "markdown",
      "metadata": {
        "id": "9EKKK9ttUkS2"
      },
      "source": [
        "In Our dataset we have 5 main features, by applying statistical measures on those features we get nine features as predictor (independent features) and we have a target variable (dependent) which we want to predict (approximate) as for regression task.\n",
        "\n",
        "The dataset was splitted in two files, train and test data, the structre of the train data is as follow:\n",
        "\n",
        "Number of instances: 379021 rows\n",
        "\n",
        "Number of features: 10 columns\n",
        "\n",
        "The test set on the other hand as follow:\n",
        "\n",
        "Number of instances: 228145 rows\n",
        "\n",
        "Number of features: 10 columns\n",
        "\n",
        "\n",
        "Main Featuers Explanation (from the source):\n",
        "\n",
        "**RTT**: Round-trip time is the amount of time it takes for a data packet to be sent to server plus the amount of time it takes for acknowledgement of that packet having been received by the client.\n",
        "\n",
        "\n",
        "**Dropped Frames**: Lost  video frames in the process of data transfer. Dropped Frames indicates that the connection to remote server isn't stable or you can't keep up with your set bitrate. If too many frames are dropped, the client may be disconnected from the streaming server.\n",
        "\n",
        "**FPS**: Frames per second is the frequency of individual images that are displayed on a video device per second. FPS can be described as the picture’s smoothness – the higher the FPS, the smoother the final picture.\n",
        "\n",
        "**Adaptive bitrate**: Its a mode on how a bitrate is calculated.\n",
        "\n",
        "**Auto FEC**: Automatic Forward Error Correction mode\n",
        "\n",
        "**target**: the bitrate to be predicted\n"
      ]
    },
    {
      "cell_type": "markdown",
      "source": [
        "# Importing Libraries"
      ],
      "metadata": {
        "id": "v2BV8WJhR04m"
      }
    },
    {
      "cell_type": "code",
      "source": [
        "import pandas as pd\n",
        "import numpy as np\n",
        "import matplotlib.pyplot as plt\n",
        "import seaborn as sns\n",
        "import math\n",
        "from statsmodels.stats.outliers_influence import variance_inflation_factor\n",
        "from sklearn.model_selection import train_test_split, cross_val_score\n",
        "from sklearn.preprocessing import MinMaxScaler, StandardScaler, PolynomialFeatures\n",
        "from sklearn.feature_selection import SelectKBest\n",
        "from sklearn.feature_selection import chi2\n",
        "from sklearn.linear_model import SGDRegressor, LinearRegression\n",
        "from sklearn.pipeline import Pipeline\n",
        "from sklearn.metrics import mean_squared_error, r2_score\n",
        "import warnings\n",
        "warnings.filterwarnings('ignore')\n",
        "%matplotlib inline"
      ],
      "metadata": {
        "id": "-NWTBfoTR7_I"
      },
      "execution_count": null,
      "outputs": []
    },
    {
      "cell_type": "markdown",
      "source": [
        "# Reading Data"
      ],
      "metadata": {
        "id": "JomxQkXEYL41"
      }
    },
    {
      "cell_type": "code",
      "source": [
        "df = pd.read_csv(\"bitrate_train.csv\")"
      ],
      "metadata": {
        "id": "9WI7FszRSLg3"
      },
      "execution_count": null,
      "outputs": []
    },
    {
      "cell_type": "code",
      "source": [
        "print(\"Number of rows in train data =\", df.shape[0])\n",
        "print(\"Number of columns in train data =\", df.shape[1])"
      ],
      "metadata": {
        "colab": {
          "base_uri": "https://localhost:8080/"
        },
        "id": "Mfa_vSqOX5pS",
        "outputId": "bad063c4-d68a-4c79-870c-2516d735f8af"
      },
      "execution_count": null,
      "outputs": [
        {
          "output_type": "stream",
          "name": "stdout",
          "text": [
            "Number of rows in train data = 379021\n",
            "Number of columns in train data = 10\n"
          ]
        }
      ]
    },
    {
      "cell_type": "code",
      "source": [
        "df.head()"
      ],
      "metadata": {
        "colab": {
          "base_uri": "https://localhost:8080/"
        },
        "id": "amA0r_P1TKXK",
        "outputId": "d81413df-2dff-4013-9a9c-52df540b8219"
      },
      "execution_count": null,
      "outputs": [
        {
          "output_type": "execute_result",
          "data": {
            "text/plain": [
              "   fps_mean   fps_std  rtt_mean    rtt_std  dropped_frames_mean  \\\n",
              "0      24.4  0.516398      91.1   6.723921                  0.0   \n",
              "1      28.6  2.065591      99.7  15.923777                  0.0   \n",
              "2      30.0  0.000000      98.1  11.798776                  0.0   \n",
              "3      30.3  0.948683      99.4  13.014522                  0.0   \n",
              "4      29.9  0.316228     123.2  62.476307                  0.0   \n",
              "\n",
              "   dropped_frames_std  dropped_frames_max  bitrate_mean  bitrate_std  target  \n",
              "0                 0.0                 0.0         460.5     7.648529   616.0  \n",
              "1                 0.0                 0.0         616.3   155.414893   565.0  \n",
              "2                 0.0                 0.0         565.2     9.077445   573.0  \n",
              "3                 0.0                 0.0         573.8    28.350191   585.0  \n",
              "4                 0.0                 0.0         585.8    59.458295   555.0  "
            ],
            "text/html": [
              "\n",
              "  <div id=\"df-dd70b85f-9f40-4ff8-9d30-a4954ae8e4f9\">\n",
              "    <div class=\"colab-df-container\">\n",
              "      <div>\n",
              "<style scoped>\n",
              "    .dataframe tbody tr th:only-of-type {\n",
              "        vertical-align: middle;\n",
              "    }\n",
              "\n",
              "    .dataframe tbody tr th {\n",
              "        vertical-align: top;\n",
              "    }\n",
              "\n",
              "    .dataframe thead th {\n",
              "        text-align: right;\n",
              "    }\n",
              "</style>\n",
              "<table border=\"1\" class=\"dataframe\">\n",
              "  <thead>\n",
              "    <tr style=\"text-align: right;\">\n",
              "      <th></th>\n",
              "      <th>fps_mean</th>\n",
              "      <th>fps_std</th>\n",
              "      <th>rtt_mean</th>\n",
              "      <th>rtt_std</th>\n",
              "      <th>dropped_frames_mean</th>\n",
              "      <th>dropped_frames_std</th>\n",
              "      <th>dropped_frames_max</th>\n",
              "      <th>bitrate_mean</th>\n",
              "      <th>bitrate_std</th>\n",
              "      <th>target</th>\n",
              "    </tr>\n",
              "  </thead>\n",
              "  <tbody>\n",
              "    <tr>\n",
              "      <th>0</th>\n",
              "      <td>24.4</td>\n",
              "      <td>0.516398</td>\n",
              "      <td>91.1</td>\n",
              "      <td>6.723921</td>\n",
              "      <td>0.0</td>\n",
              "      <td>0.0</td>\n",
              "      <td>0.0</td>\n",
              "      <td>460.5</td>\n",
              "      <td>7.648529</td>\n",
              "      <td>616.0</td>\n",
              "    </tr>\n",
              "    <tr>\n",
              "      <th>1</th>\n",
              "      <td>28.6</td>\n",
              "      <td>2.065591</td>\n",
              "      <td>99.7</td>\n",
              "      <td>15.923777</td>\n",
              "      <td>0.0</td>\n",
              "      <td>0.0</td>\n",
              "      <td>0.0</td>\n",
              "      <td>616.3</td>\n",
              "      <td>155.414893</td>\n",
              "      <td>565.0</td>\n",
              "    </tr>\n",
              "    <tr>\n",
              "      <th>2</th>\n",
              "      <td>30.0</td>\n",
              "      <td>0.000000</td>\n",
              "      <td>98.1</td>\n",
              "      <td>11.798776</td>\n",
              "      <td>0.0</td>\n",
              "      <td>0.0</td>\n",
              "      <td>0.0</td>\n",
              "      <td>565.2</td>\n",
              "      <td>9.077445</td>\n",
              "      <td>573.0</td>\n",
              "    </tr>\n",
              "    <tr>\n",
              "      <th>3</th>\n",
              "      <td>30.3</td>\n",
              "      <td>0.948683</td>\n",
              "      <td>99.4</td>\n",
              "      <td>13.014522</td>\n",
              "      <td>0.0</td>\n",
              "      <td>0.0</td>\n",
              "      <td>0.0</td>\n",
              "      <td>573.8</td>\n",
              "      <td>28.350191</td>\n",
              "      <td>585.0</td>\n",
              "    </tr>\n",
              "    <tr>\n",
              "      <th>4</th>\n",
              "      <td>29.9</td>\n",
              "      <td>0.316228</td>\n",
              "      <td>123.2</td>\n",
              "      <td>62.476307</td>\n",
              "      <td>0.0</td>\n",
              "      <td>0.0</td>\n",
              "      <td>0.0</td>\n",
              "      <td>585.8</td>\n",
              "      <td>59.458295</td>\n",
              "      <td>555.0</td>\n",
              "    </tr>\n",
              "  </tbody>\n",
              "</table>\n",
              "</div>\n",
              "      <button class=\"colab-df-convert\" onclick=\"convertToInteractive('df-dd70b85f-9f40-4ff8-9d30-a4954ae8e4f9')\"\n",
              "              title=\"Convert this dataframe to an interactive table.\"\n",
              "              style=\"display:none;\">\n",
              "        \n",
              "  <svg xmlns=\"http://www.w3.org/2000/svg\" height=\"24px\"viewBox=\"0 0 24 24\"\n",
              "       width=\"24px\">\n",
              "    <path d=\"M0 0h24v24H0V0z\" fill=\"none\"/>\n",
              "    <path d=\"M18.56 5.44l.94 2.06.94-2.06 2.06-.94-2.06-.94-.94-2.06-.94 2.06-2.06.94zm-11 1L8.5 8.5l.94-2.06 2.06-.94-2.06-.94L8.5 2.5l-.94 2.06-2.06.94zm10 10l.94 2.06.94-2.06 2.06-.94-2.06-.94-.94-2.06-.94 2.06-2.06.94z\"/><path d=\"M17.41 7.96l-1.37-1.37c-.4-.4-.92-.59-1.43-.59-.52 0-1.04.2-1.43.59L10.3 9.45l-7.72 7.72c-.78.78-.78 2.05 0 2.83L4 21.41c.39.39.9.59 1.41.59.51 0 1.02-.2 1.41-.59l7.78-7.78 2.81-2.81c.8-.78.8-2.07 0-2.86zM5.41 20L4 18.59l7.72-7.72 1.47 1.35L5.41 20z\"/>\n",
              "  </svg>\n",
              "      </button>\n",
              "      \n",
              "  <style>\n",
              "    .colab-df-container {\n",
              "      display:flex;\n",
              "      flex-wrap:wrap;\n",
              "      gap: 12px;\n",
              "    }\n",
              "\n",
              "    .colab-df-convert {\n",
              "      background-color: #E8F0FE;\n",
              "      border: none;\n",
              "      border-radius: 50%;\n",
              "      cursor: pointer;\n",
              "      display: none;\n",
              "      fill: #1967D2;\n",
              "      height: 32px;\n",
              "      padding: 0 0 0 0;\n",
              "      width: 32px;\n",
              "    }\n",
              "\n",
              "    .colab-df-convert:hover {\n",
              "      background-color: #E2EBFA;\n",
              "      box-shadow: 0px 1px 2px rgba(60, 64, 67, 0.3), 0px 1px 3px 1px rgba(60, 64, 67, 0.15);\n",
              "      fill: #174EA6;\n",
              "    }\n",
              "\n",
              "    [theme=dark] .colab-df-convert {\n",
              "      background-color: #3B4455;\n",
              "      fill: #D2E3FC;\n",
              "    }\n",
              "\n",
              "    [theme=dark] .colab-df-convert:hover {\n",
              "      background-color: #434B5C;\n",
              "      box-shadow: 0px 1px 3px 1px rgba(0, 0, 0, 0.15);\n",
              "      filter: drop-shadow(0px 1px 2px rgba(0, 0, 0, 0.3));\n",
              "      fill: #FFFFFF;\n",
              "    }\n",
              "  </style>\n",
              "\n",
              "      <script>\n",
              "        const buttonEl =\n",
              "          document.querySelector('#df-dd70b85f-9f40-4ff8-9d30-a4954ae8e4f9 button.colab-df-convert');\n",
              "        buttonEl.style.display =\n",
              "          google.colab.kernel.accessAllowed ? 'block' : 'none';\n",
              "\n",
              "        async function convertToInteractive(key) {\n",
              "          const element = document.querySelector('#df-dd70b85f-9f40-4ff8-9d30-a4954ae8e4f9');\n",
              "          const dataTable =\n",
              "            await google.colab.kernel.invokeFunction('convertToInteractive',\n",
              "                                                     [key], {});\n",
              "          if (!dataTable) return;\n",
              "\n",
              "          const docLinkHtml = 'Like what you see? Visit the ' +\n",
              "            '<a target=\"_blank\" href=https://colab.research.google.com/notebooks/data_table.ipynb>data table notebook</a>'\n",
              "            + ' to learn more about interactive tables.';\n",
              "          element.innerHTML = '';\n",
              "          dataTable['output_type'] = 'display_data';\n",
              "          await google.colab.output.renderOutput(dataTable, element);\n",
              "          const docLink = document.createElement('div');\n",
              "          docLink.innerHTML = docLinkHtml;\n",
              "          element.appendChild(docLink);\n",
              "        }\n",
              "      </script>\n",
              "    </div>\n",
              "  </div>\n",
              "  "
            ]
          },
          "metadata": {},
          "execution_count": 41
        }
      ]
    },
    {
      "cell_type": "code",
      "source": [
        "df.tail()"
      ],
      "metadata": {
        "colab": {
          "base_uri": "https://localhost:8080/"
        },
        "id": "J_7U0ViGVGqU",
        "outputId": "1c750519-748a-44a3-c3bb-8f93bf5c2c3b"
      },
      "execution_count": null,
      "outputs": [
        {
          "output_type": "execute_result",
          "data": {
            "text/plain": [
              "        fps_mean  fps_std  rtt_mean  rtt_std  dropped_frames_mean  \\\n",
              "379016      40.0      0.0       0.0      0.0                  0.0   \n",
              "379017      40.0      0.0       0.0      0.0                  0.0   \n",
              "379018      40.0      0.0       0.0      0.0                  0.0   \n",
              "379019      40.0      0.0       0.0      0.0                  0.0   \n",
              "379020      40.0      0.0       0.0      0.0                  0.0   \n",
              "\n",
              "        dropped_frames_std  dropped_frames_max  bitrate_mean  bitrate_std  \\\n",
              "379016                 0.0                 0.0        3324.9    52.846633   \n",
              "379017                 0.0                 0.0        3325.3    66.015234   \n",
              "379018                 0.0                 0.0        3293.2    43.355892   \n",
              "379019                 0.0                 0.0        3317.0    40.033319   \n",
              "379020                 0.0                 0.0        3283.2    40.575855   \n",
              "\n",
              "        target  \n",
              "379016  3325.0  \n",
              "379017  3293.0  \n",
              "379018  3317.0  \n",
              "379019  3283.0  \n",
              "379020  3314.0  "
            ],
            "text/html": [
              "\n",
              "  <div id=\"df-0714e363-55ad-4618-877a-e879d66def7e\">\n",
              "    <div class=\"colab-df-container\">\n",
              "      <div>\n",
              "<style scoped>\n",
              "    .dataframe tbody tr th:only-of-type {\n",
              "        vertical-align: middle;\n",
              "    }\n",
              "\n",
              "    .dataframe tbody tr th {\n",
              "        vertical-align: top;\n",
              "    }\n",
              "\n",
              "    .dataframe thead th {\n",
              "        text-align: right;\n",
              "    }\n",
              "</style>\n",
              "<table border=\"1\" class=\"dataframe\">\n",
              "  <thead>\n",
              "    <tr style=\"text-align: right;\">\n",
              "      <th></th>\n",
              "      <th>fps_mean</th>\n",
              "      <th>fps_std</th>\n",
              "      <th>rtt_mean</th>\n",
              "      <th>rtt_std</th>\n",
              "      <th>dropped_frames_mean</th>\n",
              "      <th>dropped_frames_std</th>\n",
              "      <th>dropped_frames_max</th>\n",
              "      <th>bitrate_mean</th>\n",
              "      <th>bitrate_std</th>\n",
              "      <th>target</th>\n",
              "    </tr>\n",
              "  </thead>\n",
              "  <tbody>\n",
              "    <tr>\n",
              "      <th>379016</th>\n",
              "      <td>40.0</td>\n",
              "      <td>0.0</td>\n",
              "      <td>0.0</td>\n",
              "      <td>0.0</td>\n",
              "      <td>0.0</td>\n",
              "      <td>0.0</td>\n",
              "      <td>0.0</td>\n",
              "      <td>3324.9</td>\n",
              "      <td>52.846633</td>\n",
              "      <td>3325.0</td>\n",
              "    </tr>\n",
              "    <tr>\n",
              "      <th>379017</th>\n",
              "      <td>40.0</td>\n",
              "      <td>0.0</td>\n",
              "      <td>0.0</td>\n",
              "      <td>0.0</td>\n",
              "      <td>0.0</td>\n",
              "      <td>0.0</td>\n",
              "      <td>0.0</td>\n",
              "      <td>3325.3</td>\n",
              "      <td>66.015234</td>\n",
              "      <td>3293.0</td>\n",
              "    </tr>\n",
              "    <tr>\n",
              "      <th>379018</th>\n",
              "      <td>40.0</td>\n",
              "      <td>0.0</td>\n",
              "      <td>0.0</td>\n",
              "      <td>0.0</td>\n",
              "      <td>0.0</td>\n",
              "      <td>0.0</td>\n",
              "      <td>0.0</td>\n",
              "      <td>3293.2</td>\n",
              "      <td>43.355892</td>\n",
              "      <td>3317.0</td>\n",
              "    </tr>\n",
              "    <tr>\n",
              "      <th>379019</th>\n",
              "      <td>40.0</td>\n",
              "      <td>0.0</td>\n",
              "      <td>0.0</td>\n",
              "      <td>0.0</td>\n",
              "      <td>0.0</td>\n",
              "      <td>0.0</td>\n",
              "      <td>0.0</td>\n",
              "      <td>3317.0</td>\n",
              "      <td>40.033319</td>\n",
              "      <td>3283.0</td>\n",
              "    </tr>\n",
              "    <tr>\n",
              "      <th>379020</th>\n",
              "      <td>40.0</td>\n",
              "      <td>0.0</td>\n",
              "      <td>0.0</td>\n",
              "      <td>0.0</td>\n",
              "      <td>0.0</td>\n",
              "      <td>0.0</td>\n",
              "      <td>0.0</td>\n",
              "      <td>3283.2</td>\n",
              "      <td>40.575855</td>\n",
              "      <td>3314.0</td>\n",
              "    </tr>\n",
              "  </tbody>\n",
              "</table>\n",
              "</div>\n",
              "      <button class=\"colab-df-convert\" onclick=\"convertToInteractive('df-0714e363-55ad-4618-877a-e879d66def7e')\"\n",
              "              title=\"Convert this dataframe to an interactive table.\"\n",
              "              style=\"display:none;\">\n",
              "        \n",
              "  <svg xmlns=\"http://www.w3.org/2000/svg\" height=\"24px\"viewBox=\"0 0 24 24\"\n",
              "       width=\"24px\">\n",
              "    <path d=\"M0 0h24v24H0V0z\" fill=\"none\"/>\n",
              "    <path d=\"M18.56 5.44l.94 2.06.94-2.06 2.06-.94-2.06-.94-.94-2.06-.94 2.06-2.06.94zm-11 1L8.5 8.5l.94-2.06 2.06-.94-2.06-.94L8.5 2.5l-.94 2.06-2.06.94zm10 10l.94 2.06.94-2.06 2.06-.94-2.06-.94-.94-2.06-.94 2.06-2.06.94z\"/><path d=\"M17.41 7.96l-1.37-1.37c-.4-.4-.92-.59-1.43-.59-.52 0-1.04.2-1.43.59L10.3 9.45l-7.72 7.72c-.78.78-.78 2.05 0 2.83L4 21.41c.39.39.9.59 1.41.59.51 0 1.02-.2 1.41-.59l7.78-7.78 2.81-2.81c.8-.78.8-2.07 0-2.86zM5.41 20L4 18.59l7.72-7.72 1.47 1.35L5.41 20z\"/>\n",
              "  </svg>\n",
              "      </button>\n",
              "      \n",
              "  <style>\n",
              "    .colab-df-container {\n",
              "      display:flex;\n",
              "      flex-wrap:wrap;\n",
              "      gap: 12px;\n",
              "    }\n",
              "\n",
              "    .colab-df-convert {\n",
              "      background-color: #E8F0FE;\n",
              "      border: none;\n",
              "      border-radius: 50%;\n",
              "      cursor: pointer;\n",
              "      display: none;\n",
              "      fill: #1967D2;\n",
              "      height: 32px;\n",
              "      padding: 0 0 0 0;\n",
              "      width: 32px;\n",
              "    }\n",
              "\n",
              "    .colab-df-convert:hover {\n",
              "      background-color: #E2EBFA;\n",
              "      box-shadow: 0px 1px 2px rgba(60, 64, 67, 0.3), 0px 1px 3px 1px rgba(60, 64, 67, 0.15);\n",
              "      fill: #174EA6;\n",
              "    }\n",
              "\n",
              "    [theme=dark] .colab-df-convert {\n",
              "      background-color: #3B4455;\n",
              "      fill: #D2E3FC;\n",
              "    }\n",
              "\n",
              "    [theme=dark] .colab-df-convert:hover {\n",
              "      background-color: #434B5C;\n",
              "      box-shadow: 0px 1px 3px 1px rgba(0, 0, 0, 0.15);\n",
              "      filter: drop-shadow(0px 1px 2px rgba(0, 0, 0, 0.3));\n",
              "      fill: #FFFFFF;\n",
              "    }\n",
              "  </style>\n",
              "\n",
              "      <script>\n",
              "        const buttonEl =\n",
              "          document.querySelector('#df-0714e363-55ad-4618-877a-e879d66def7e button.colab-df-convert');\n",
              "        buttonEl.style.display =\n",
              "          google.colab.kernel.accessAllowed ? 'block' : 'none';\n",
              "\n",
              "        async function convertToInteractive(key) {\n",
              "          const element = document.querySelector('#df-0714e363-55ad-4618-877a-e879d66def7e');\n",
              "          const dataTable =\n",
              "            await google.colab.kernel.invokeFunction('convertToInteractive',\n",
              "                                                     [key], {});\n",
              "          if (!dataTable) return;\n",
              "\n",
              "          const docLinkHtml = 'Like what you see? Visit the ' +\n",
              "            '<a target=\"_blank\" href=https://colab.research.google.com/notebooks/data_table.ipynb>data table notebook</a>'\n",
              "            + ' to learn more about interactive tables.';\n",
              "          element.innerHTML = '';\n",
              "          dataTable['output_type'] = 'display_data';\n",
              "          await google.colab.output.renderOutput(dataTable, element);\n",
              "          const docLink = document.createElement('div');\n",
              "          docLink.innerHTML = docLinkHtml;\n",
              "          element.appendChild(docLink);\n",
              "        }\n",
              "      </script>\n",
              "    </div>\n",
              "  </div>\n",
              "  "
            ]
          },
          "metadata": {},
          "execution_count": 42
        }
      ]
    },
    {
      "cell_type": "markdown",
      "source": [
        "# Exploratory Data Analysis"
      ],
      "metadata": {
        "id": "BJ6erWBsYPAO"
      }
    },
    {
      "cell_type": "markdown",
      "source": [
        "For EDA we have three stages to do:\n",
        "\n",
        "1. Structure investigation: Exploring the general shape of the dataset, as well as the data types of your features.\n",
        "\n",
        "2. Quality investigation: Get a feeling for the general quality of the dataset, with regards to duplicates (Not applicable here), missing values and unwanted entries.\n",
        "\n",
        "3. Content investigation: Once the structure and quality of the dataset is understood, we can go ahead and perform a more in-depth exploration on the features values and look at how different features relate to each other."
      ],
      "metadata": {
        "id": "5FBDraxVwcoB"
      }
    },
    {
      "cell_type": "markdown",
      "source": [
        "### General Overview"
      ],
      "metadata": {
        "id": "KIeHldVmpeEc"
      }
    },
    {
      "cell_type": "code",
      "source": [
        "df.info()"
      ],
      "metadata": {
        "colab": {
          "base_uri": "https://localhost:8080/"
        },
        "id": "Pf8tfDL-YQyb",
        "outputId": "2e2482a2-7cd5-4321-9d1c-d80c72c0781d"
      },
      "execution_count": null,
      "outputs": [
        {
          "output_type": "stream",
          "name": "stdout",
          "text": [
            "<class 'pandas.core.frame.DataFrame'>\n",
            "RangeIndex: 379021 entries, 0 to 379020\n",
            "Data columns (total 10 columns):\n",
            " #   Column               Non-Null Count   Dtype  \n",
            "---  ------               --------------   -----  \n",
            " 0   fps_mean             379021 non-null  float64\n",
            " 1   fps_std              379021 non-null  float64\n",
            " 2   rtt_mean             379021 non-null  float64\n",
            " 3   rtt_std              379021 non-null  float64\n",
            " 4   dropped_frames_mean  379021 non-null  float64\n",
            " 5   dropped_frames_std   379021 non-null  float64\n",
            " 6   dropped_frames_max   379021 non-null  float64\n",
            " 7   bitrate_mean         379021 non-null  float64\n",
            " 8   bitrate_std          379021 non-null  float64\n",
            " 9   target               379021 non-null  float64\n",
            "dtypes: float64(10)\n",
            "memory usage: 28.9 MB\n"
          ]
        }
      ]
    },
    {
      "cell_type": "code",
      "source": [
        "df.isnull().sum()"
      ],
      "metadata": {
        "colab": {
          "base_uri": "https://localhost:8080/"
        },
        "id": "dURLlzIgbU1m",
        "outputId": "58a50316-3320-4956-a1ee-b9198d5f0ab0"
      },
      "execution_count": null,
      "outputs": [
        {
          "output_type": "execute_result",
          "data": {
            "text/plain": [
              "fps_mean               0\n",
              "fps_std                0\n",
              "rtt_mean               0\n",
              "rtt_std                0\n",
              "dropped_frames_mean    0\n",
              "dropped_frames_std     0\n",
              "dropped_frames_max     0\n",
              "bitrate_mean           0\n",
              "bitrate_std            0\n",
              "target                 0\n",
              "dtype: int64"
            ]
          },
          "metadata": {},
          "execution_count": 7
        }
      ]
    },
    {
      "cell_type": "markdown",
      "source": [
        "So based on the previous output we don't have any missing values or any cells which containts nan or Null values and all the features we have are numerical float features."
      ],
      "metadata": {
        "id": "nC8g69kfYYLs"
      }
    },
    {
      "cell_type": "markdown",
      "source": [
        "### Descriptive Statistics"
      ],
      "metadata": {
        "id": "NCpWxvRkc4h6"
      }
    },
    {
      "cell_type": "code",
      "source": [
        "df.describe().T"
      ],
      "metadata": {
        "colab": {
          "base_uri": "https://localhost:8080/",
          "height": 363
        },
        "id": "P72xJnAJbeAZ",
        "outputId": "340a1bf3-0617-44de-e94c-8ace0a93ea68"
      },
      "execution_count": null,
      "outputs": [
        {
          "output_type": "execute_result",
          "data": {
            "text/plain": [
              "                        count         mean          std   min          25%  \\\n",
              "fps_mean             379021.0    35.231127    10.975010  10.0    28.800000   \n",
              "fps_std              379021.0     1.725705     2.505942   0.0     0.316228   \n",
              "rtt_mean             379021.0    49.623858    94.781098   0.0    14.300000   \n",
              "rtt_std              379021.0    12.763672   112.684460   0.0     0.699206   \n",
              "dropped_frames_mean  379021.0     0.180451     1.732890   0.0     0.000000   \n",
              "dropped_frames_std   379021.0     0.469548     3.157866   0.0     0.000000   \n",
              "dropped_frames_max   379021.0     1.450719     9.670928   0.0     0.000000   \n",
              "bitrate_mean         379021.0  7516.585502  6073.992189   0.0  2773.300000   \n",
              "bitrate_std          379021.0  1603.487501  1721.021623   0.0   383.683550   \n",
              "target               379021.0  7525.396231  6070.817736   0.0  2785.000000   \n",
              "\n",
              "                             50%           75%           max  \n",
              "fps_mean               30.000000     43.600000    125.800000  \n",
              "fps_std                 0.942809      2.233582    307.167273  \n",
              "rtt_mean               32.200000     55.900000  12898.400000  \n",
              "rtt_std                 1.433721      4.948625  40721.933293  \n",
              "dropped_frames_mean     0.000000      0.000000    540.000000  \n",
              "dropped_frames_std      0.000000      0.000000    202.385770  \n",
              "dropped_frames_max      0.000000      0.000000    640.000000  \n",
              "bitrate_mean         6287.200000  10187.200000  64913.500000  \n",
              "bitrate_std          1112.710010   2241.848801  26908.532303  \n",
              "target               6296.000000  10192.000000  64913.000000  "
            ],
            "text/html": [
              "\n",
              "  <div id=\"df-887b9b57-69d7-4626-925d-1033744c545d\">\n",
              "    <div class=\"colab-df-container\">\n",
              "      <div>\n",
              "<style scoped>\n",
              "    .dataframe tbody tr th:only-of-type {\n",
              "        vertical-align: middle;\n",
              "    }\n",
              "\n",
              "    .dataframe tbody tr th {\n",
              "        vertical-align: top;\n",
              "    }\n",
              "\n",
              "    .dataframe thead th {\n",
              "        text-align: right;\n",
              "    }\n",
              "</style>\n",
              "<table border=\"1\" class=\"dataframe\">\n",
              "  <thead>\n",
              "    <tr style=\"text-align: right;\">\n",
              "      <th></th>\n",
              "      <th>count</th>\n",
              "      <th>mean</th>\n",
              "      <th>std</th>\n",
              "      <th>min</th>\n",
              "      <th>25%</th>\n",
              "      <th>50%</th>\n",
              "      <th>75%</th>\n",
              "      <th>max</th>\n",
              "    </tr>\n",
              "  </thead>\n",
              "  <tbody>\n",
              "    <tr>\n",
              "      <th>fps_mean</th>\n",
              "      <td>379021.0</td>\n",
              "      <td>35.231127</td>\n",
              "      <td>10.975010</td>\n",
              "      <td>10.0</td>\n",
              "      <td>28.800000</td>\n",
              "      <td>30.000000</td>\n",
              "      <td>43.600000</td>\n",
              "      <td>125.800000</td>\n",
              "    </tr>\n",
              "    <tr>\n",
              "      <th>fps_std</th>\n",
              "      <td>379021.0</td>\n",
              "      <td>1.725705</td>\n",
              "      <td>2.505942</td>\n",
              "      <td>0.0</td>\n",
              "      <td>0.316228</td>\n",
              "      <td>0.942809</td>\n",
              "      <td>2.233582</td>\n",
              "      <td>307.167273</td>\n",
              "    </tr>\n",
              "    <tr>\n",
              "      <th>rtt_mean</th>\n",
              "      <td>379021.0</td>\n",
              "      <td>49.623858</td>\n",
              "      <td>94.781098</td>\n",
              "      <td>0.0</td>\n",
              "      <td>14.300000</td>\n",
              "      <td>32.200000</td>\n",
              "      <td>55.900000</td>\n",
              "      <td>12898.400000</td>\n",
              "    </tr>\n",
              "    <tr>\n",
              "      <th>rtt_std</th>\n",
              "      <td>379021.0</td>\n",
              "      <td>12.763672</td>\n",
              "      <td>112.684460</td>\n",
              "      <td>0.0</td>\n",
              "      <td>0.699206</td>\n",
              "      <td>1.433721</td>\n",
              "      <td>4.948625</td>\n",
              "      <td>40721.933293</td>\n",
              "    </tr>\n",
              "    <tr>\n",
              "      <th>dropped_frames_mean</th>\n",
              "      <td>379021.0</td>\n",
              "      <td>0.180451</td>\n",
              "      <td>1.732890</td>\n",
              "      <td>0.0</td>\n",
              "      <td>0.000000</td>\n",
              "      <td>0.000000</td>\n",
              "      <td>0.000000</td>\n",
              "      <td>540.000000</td>\n",
              "    </tr>\n",
              "    <tr>\n",
              "      <th>dropped_frames_std</th>\n",
              "      <td>379021.0</td>\n",
              "      <td>0.469548</td>\n",
              "      <td>3.157866</td>\n",
              "      <td>0.0</td>\n",
              "      <td>0.000000</td>\n",
              "      <td>0.000000</td>\n",
              "      <td>0.000000</td>\n",
              "      <td>202.385770</td>\n",
              "    </tr>\n",
              "    <tr>\n",
              "      <th>dropped_frames_max</th>\n",
              "      <td>379021.0</td>\n",
              "      <td>1.450719</td>\n",
              "      <td>9.670928</td>\n",
              "      <td>0.0</td>\n",
              "      <td>0.000000</td>\n",
              "      <td>0.000000</td>\n",
              "      <td>0.000000</td>\n",
              "      <td>640.000000</td>\n",
              "    </tr>\n",
              "    <tr>\n",
              "      <th>bitrate_mean</th>\n",
              "      <td>379021.0</td>\n",
              "      <td>7516.585502</td>\n",
              "      <td>6073.992189</td>\n",
              "      <td>0.0</td>\n",
              "      <td>2773.300000</td>\n",
              "      <td>6287.200000</td>\n",
              "      <td>10187.200000</td>\n",
              "      <td>64913.500000</td>\n",
              "    </tr>\n",
              "    <tr>\n",
              "      <th>bitrate_std</th>\n",
              "      <td>379021.0</td>\n",
              "      <td>1603.487501</td>\n",
              "      <td>1721.021623</td>\n",
              "      <td>0.0</td>\n",
              "      <td>383.683550</td>\n",
              "      <td>1112.710010</td>\n",
              "      <td>2241.848801</td>\n",
              "      <td>26908.532303</td>\n",
              "    </tr>\n",
              "    <tr>\n",
              "      <th>target</th>\n",
              "      <td>379021.0</td>\n",
              "      <td>7525.396231</td>\n",
              "      <td>6070.817736</td>\n",
              "      <td>0.0</td>\n",
              "      <td>2785.000000</td>\n",
              "      <td>6296.000000</td>\n",
              "      <td>10192.000000</td>\n",
              "      <td>64913.000000</td>\n",
              "    </tr>\n",
              "  </tbody>\n",
              "</table>\n",
              "</div>\n",
              "      <button class=\"colab-df-convert\" onclick=\"convertToInteractive('df-887b9b57-69d7-4626-925d-1033744c545d')\"\n",
              "              title=\"Convert this dataframe to an interactive table.\"\n",
              "              style=\"display:none;\">\n",
              "        \n",
              "  <svg xmlns=\"http://www.w3.org/2000/svg\" height=\"24px\"viewBox=\"0 0 24 24\"\n",
              "       width=\"24px\">\n",
              "    <path d=\"M0 0h24v24H0V0z\" fill=\"none\"/>\n",
              "    <path d=\"M18.56 5.44l.94 2.06.94-2.06 2.06-.94-2.06-.94-.94-2.06-.94 2.06-2.06.94zm-11 1L8.5 8.5l.94-2.06 2.06-.94-2.06-.94L8.5 2.5l-.94 2.06-2.06.94zm10 10l.94 2.06.94-2.06 2.06-.94-2.06-.94-.94-2.06-.94 2.06-2.06.94z\"/><path d=\"M17.41 7.96l-1.37-1.37c-.4-.4-.92-.59-1.43-.59-.52 0-1.04.2-1.43.59L10.3 9.45l-7.72 7.72c-.78.78-.78 2.05 0 2.83L4 21.41c.39.39.9.59 1.41.59.51 0 1.02-.2 1.41-.59l7.78-7.78 2.81-2.81c.8-.78.8-2.07 0-2.86zM5.41 20L4 18.59l7.72-7.72 1.47 1.35L5.41 20z\"/>\n",
              "  </svg>\n",
              "      </button>\n",
              "      \n",
              "  <style>\n",
              "    .colab-df-container {\n",
              "      display:flex;\n",
              "      flex-wrap:wrap;\n",
              "      gap: 12px;\n",
              "    }\n",
              "\n",
              "    .colab-df-convert {\n",
              "      background-color: #E8F0FE;\n",
              "      border: none;\n",
              "      border-radius: 50%;\n",
              "      cursor: pointer;\n",
              "      display: none;\n",
              "      fill: #1967D2;\n",
              "      height: 32px;\n",
              "      padding: 0 0 0 0;\n",
              "      width: 32px;\n",
              "    }\n",
              "\n",
              "    .colab-df-convert:hover {\n",
              "      background-color: #E2EBFA;\n",
              "      box-shadow: 0px 1px 2px rgba(60, 64, 67, 0.3), 0px 1px 3px 1px rgba(60, 64, 67, 0.15);\n",
              "      fill: #174EA6;\n",
              "    }\n",
              "\n",
              "    [theme=dark] .colab-df-convert {\n",
              "      background-color: #3B4455;\n",
              "      fill: #D2E3FC;\n",
              "    }\n",
              "\n",
              "    [theme=dark] .colab-df-convert:hover {\n",
              "      background-color: #434B5C;\n",
              "      box-shadow: 0px 1px 3px 1px rgba(0, 0, 0, 0.15);\n",
              "      filter: drop-shadow(0px 1px 2px rgba(0, 0, 0, 0.3));\n",
              "      fill: #FFFFFF;\n",
              "    }\n",
              "  </style>\n",
              "\n",
              "      <script>\n",
              "        const buttonEl =\n",
              "          document.querySelector('#df-887b9b57-69d7-4626-925d-1033744c545d button.colab-df-convert');\n",
              "        buttonEl.style.display =\n",
              "          google.colab.kernel.accessAllowed ? 'block' : 'none';\n",
              "\n",
              "        async function convertToInteractive(key) {\n",
              "          const element = document.querySelector('#df-887b9b57-69d7-4626-925d-1033744c545d');\n",
              "          const dataTable =\n",
              "            await google.colab.kernel.invokeFunction('convertToInteractive',\n",
              "                                                     [key], {});\n",
              "          if (!dataTable) return;\n",
              "\n",
              "          const docLinkHtml = 'Like what you see? Visit the ' +\n",
              "            '<a target=\"_blank\" href=https://colab.research.google.com/notebooks/data_table.ipynb>data table notebook</a>'\n",
              "            + ' to learn more about interactive tables.';\n",
              "          element.innerHTML = '';\n",
              "          dataTable['output_type'] = 'display_data';\n",
              "          await google.colab.output.renderOutput(dataTable, element);\n",
              "          const docLink = document.createElement('div');\n",
              "          docLink.innerHTML = docLinkHtml;\n",
              "          element.appendChild(docLink);\n",
              "        }\n",
              "      </script>\n",
              "    </div>\n",
              "  </div>\n",
              "  "
            ]
          },
          "metadata": {},
          "execution_count": 8
        }
      ]
    },
    {
      "cell_type": "markdown",
      "source": [
        "From the table aboove we can conclude that we don't have any negarive values as expected because those features measure quantity of something, also features vary in term of scaling, some of them have narrow scale and some have large scal, also some of our features have a larger std than others which mean those features maybe need to be centerd around the mean and rescale."
      ],
      "metadata": {
        "id": "mZ4dKmlQcUig"
      }
    },
    {
      "cell_type": "markdown",
      "source": [
        "### Features Distribution"
      ],
      "metadata": {
        "id": "3G92YfJHcwpx"
      }
    },
    {
      "cell_type": "code",
      "source": [
        "df.plot(lw = 0, marker = \".\", subplots = True, layout = (-1, 4), figsize = (15, 10), markersize = 1);"
      ],
      "metadata": {
        "colab": {
          "base_uri": "https://localhost:8080/",
          "height": 592
        },
        "id": "ye4BViI3xk69",
        "outputId": "d5af8e82-9d6a-44a6-f936-8044017cdeee"
      },
      "execution_count": null,
      "outputs": [
        {
          "output_type": "display_data",
          "data": {
            "text/plain": [
              "<Figure size 1080x720 with 12 Axes>"
            ],
            "image/png": "[encoded data removed]"
          },
          "metadata": {
            "needs_background": "light"
          }
        }
      ]
    },
    {
      "cell_type": "code",
      "source": [
        "df.hist(bins = 25, figsize = (15, 5), layout = (-1, 5), edgecolor = \"black\")\n",
        "plt.tight_layout();"
      ],
      "metadata": {
        "colab": {
          "base_uri": "https://localhost:8080/",
          "height": 369
        },
        "id": "QQOUeW40ykDi",
        "outputId": "0687df43-edf4-4236-dd33-d7d697997736"
      },
      "execution_count": null,
      "outputs": [
        {
          "output_type": "display_data",
          "data": {
            "text/plain": [
              "<Figure size 1080x360 with 10 Axes>"
            ],
            "image/png": "[encoded data removed]"
          },
          "metadata": {
            "needs_background": "light"
          }
        }
      ]
    },
    {
      "cell_type": "markdown",
      "source": [
        "We can gain useful insight from the general overview of feautes plot, but still we should plot each feature on it's own."
      ],
      "metadata": {
        "id": "ZrIi_Hm50ZSv"
      }
    },
    {
      "cell_type": "code",
      "source": [
        "def plot_feature(feature):\n",
        "  plt.figure(figsize = (18, 6))\n",
        "  sns.kdeplot(feature, color = \"blue\", fill = True)\n",
        "  plt.show()  "
      ],
      "metadata": {
        "id": "BAYgIzKbNqTD"
      },
      "execution_count": null,
      "outputs": []
    },
    {
      "cell_type": "code",
      "source": [
        "plot_feature(df[\"fps_mean\"])"
      ],
      "metadata": {
        "id": "j3HtOJRPcuGQ",
        "colab": {
          "base_uri": "https://localhost:8080/",
          "height": 389
        },
        "outputId": "94e0bf76-22e7-4e9e-8eab-ff5a6d05c5fe"
      },
      "execution_count": null,
      "outputs": [
        {
          "output_type": "display_data",
          "data": {
            "text/plain": [
              "<Figure size 1296x432 with 1 Axes>"
            ],
            "image/png": "[encoded data removed]"
          },
          "metadata": {
            "needs_background": "light"
          }
        }
      ]
    },
    {
      "cell_type": "markdown",
      "source": [
        "It's something look like log-normal distribution but not normal, so let's try some transformation of data like log, but we can conclude that we have some variety in term of average of fps, some of them speically at first part of the plot could be outliers."
      ],
      "metadata": {
        "id": "_h26gCGjSrQJ"
      }
    },
    {
      "cell_type": "code",
      "source": [
        "plot_feature(np.log(df[\"fps_mean\"]))"
      ],
      "metadata": {
        "colab": {
          "base_uri": "https://localhost:8080/",
          "height": 389
        },
        "id": "S9punkNATpOW",
        "outputId": "0c463e98-2de2-4339-c2ac-ada3f497dd6b"
      },
      "execution_count": null,
      "outputs": [
        {
          "output_type": "display_data",
          "data": {
            "text/plain": [
              "<Figure size 1296x432 with 1 Axes>"
            ],
            "image/png": "[encoded data removed]"
          },
          "metadata": {
            "needs_background": "light"
          }
        }
      ]
    },
    {
      "cell_type": "code",
      "source": [
        "plot_feature(df[\"fps_std\"])"
      ],
      "metadata": {
        "colab": {
          "base_uri": "https://localhost:8080/",
          "height": 389
        },
        "id": "rRlC9b50UeAF",
        "outputId": "031f53a9-ce47-4a27-ded3-7e589a452583"
      },
      "execution_count": null,
      "outputs": [
        {
          "output_type": "display_data",
          "data": {
            "text/plain": [
              "<Figure size 1296x432 with 1 Axes>"
            ],
            "image/png": "[encoded data removed]"
          },
          "metadata": {
            "needs_background": "light"
          }
        }
      ]
    },
    {
      "cell_type": "markdown",
      "source": [
        "Given the previous plot, we can see that all the std data of fps gathered in same place, actually this was expected as the mean of std of fps was 1.725705\tand the std of it was only 2.505942 so we have really narrow distribuiton of this feature, unlike the average of fps, let's try some mathematical transformation on it."
      ],
      "metadata": {
        "id": "rIPcEUKSVI-X"
      }
    },
    {
      "cell_type": "code",
      "source": [
        "plot_feature(np.sqrt(df[\"fps_mean\"]))"
      ],
      "metadata": {
        "colab": {
          "base_uri": "https://localhost:8080/",
          "height": 389
        },
        "id": "1GLQhGNrVmb6",
        "outputId": "b583fa79-e348-41af-f770-52794b2bf689"
      },
      "execution_count": null,
      "outputs": [
        {
          "output_type": "display_data",
          "data": {
            "text/plain": [
              "<Figure size 1296x432 with 1 Axes>"
            ],
            "image/png": "[encoded data removed]"
          },
          "metadata": {
            "needs_background": "light"
          }
        }
      ]
    },
    {
      "cell_type": "code",
      "source": [
        "plot_feature(df[\"rtt_mean\"])"
      ],
      "metadata": {
        "id": "KvfGDKiYVfNH",
        "colab": {
          "base_uri": "https://localhost:8080/",
          "height": 388
        },
        "outputId": "b300f52a-5550-49c9-d671-11a59f819bfd"
      },
      "execution_count": null,
      "outputs": [
        {
          "output_type": "display_data",
          "data": {
            "text/plain": [
              "<Figure size 1296x432 with 1 Axes>"
            ],
            "image/png": "[encoded data removed]"
          },
          "metadata": {
            "needs_background": "light"
          }
        }
      ]
    },
    {
      "cell_type": "markdown",
      "source": [
        "From the above plot and from the table in the describtion cell we can s see that our feature centered around 50 as a mean of this column with 94 std, as there is no negative values here hence to skewed a little bit to the right with few extremely large values to consider when cleaning, hence the mean maybe baised here by those large values, for that let's conside using the median to inspect."
      ],
      "metadata": {
        "id": "51NXOvSdgNql"
      }
    },
    {
      "cell_type": "code",
      "source": [
        "print(\"Mean of the feature =\", np.mean(df[\"rtt_mean\"]))\n",
        "print(\"Median of the feature =\", np.median(df[\"rtt_mean\"]))"
      ],
      "metadata": {
        "colab": {
          "base_uri": "https://localhost:8080/"
        },
        "id": "jTPErzwJhnBA",
        "outputId": "bb057c06-6ad4-4267-82bf-b94a9006ed2f"
      },
      "execution_count": null,
      "outputs": [
        {
          "output_type": "stream",
          "name": "stdout",
          "text": [
            "Mean of the feature = 49.62385778096728\n",
            "Median of the feature = 32.2\n"
          ]
        }
      ]
    },
    {
      "cell_type": "code",
      "source": [
        "plot_feature(np.log(df[\"rtt_mean\"]))"
      ],
      "metadata": {
        "colab": {
          "base_uri": "https://localhost:8080/",
          "height": 388
        },
        "id": "ivqLgOCYe_Vo",
        "outputId": "52e75dfa-ff9a-47ef-a31b-48c79ecfdc2f"
      },
      "execution_count": null,
      "outputs": [
        {
          "output_type": "display_data",
          "data": {
            "text/plain": [
              "<Figure size 1296x432 with 1 Axes>"
            ],
            "image/png": "[encoded data removed]"
          },
          "metadata": {
            "needs_background": "light"
          }
        }
      ]
    },
    {
      "cell_type": "code",
      "source": [
        "plot_feature(df[\"rtt_std\"])"
      ],
      "metadata": {
        "colab": {
          "base_uri": "https://localhost:8080/",
          "height": 389
        },
        "id": "kHuK8GHkg_FJ",
        "outputId": "f7c0495c-1cea-4994-9ff6-fbb4f7d55bae"
      },
      "execution_count": null,
      "outputs": [
        {
          "output_type": "display_data",
          "data": {
            "text/plain": [
              "<Figure size 1296x432 with 1 Axes>"
            ],
            "image/png": "[encoded data removed]"
          },
          "metadata": {
            "needs_background": "light"
          }
        }
      ]
    },
    {
      "cell_type": "code",
      "source": [
        "print(\"Mean of the feature =\", np.mean(df[\"rtt_std\"]))\n",
        "print(\"Median of the feature =\", np.median(df[\"rtt_std\"]))"
      ],
      "metadata": {
        "colab": {
          "base_uri": "https://localhost:8080/"
        },
        "id": "YAObPLY4hSnp",
        "outputId": "d7a785c8-1372-46b8-c430-36fa4404c8cf"
      },
      "execution_count": null,
      "outputs": [
        {
          "output_type": "stream",
          "name": "stdout",
          "text": [
            "Mean of the feature = 12.763671881381255\n",
            "Median of the feature = 1.433720877840438\n"
          ]
        }
      ]
    },
    {
      "cell_type": "markdown",
      "source": [
        "Those features are biased to the right as we just said because of some large values, as the difference between mean and median not very large but still not close enough to disregard this difference."
      ],
      "metadata": {
        "id": "Vxnic7EYh9rL"
      }
    },
    {
      "cell_type": "code",
      "source": [
        "plot_feature(df[\"dropped_frames_mean\"])"
      ],
      "metadata": {
        "colab": {
          "base_uri": "https://localhost:8080/",
          "height": 389
        },
        "id": "2c9-mSSAiIq9",
        "outputId": "78b08a37-5c1e-49f9-d195-93c3460910a8"
      },
      "execution_count": null,
      "outputs": [
        {
          "output_type": "display_data",
          "data": {
            "text/plain": [
              "<Figure size 1296x432 with 1 Axes>"
            ],
            "image/png": "[encoded data removed]"
          },
          "metadata": {
            "needs_background": "light"
          }
        }
      ]
    },
    {
      "cell_type": "markdown",
      "source": [
        "This distribution look more like pareto distribution than a log normal distribution, and to investigate more we will draw it's log transformation.\n",
        "\n",
        "we can see that it's mean is smaller than 1 but we have some values larger speicall some extrem large values comparing to the mean of this feature so let's see what is this percentage."
      ],
      "metadata": {
        "id": "xHX6UlkWm-1c"
      }
    },
    {
      "cell_type": "code",
      "source": [
        "print(\"Percentage of values grater than 1 =\", (np.sum(df[\"dropped_frames_mean\"] > 1) / len(df[\"dropped_frames_mean\"])) * 100, '%')"
      ],
      "metadata": {
        "colab": {
          "base_uri": "https://localhost:8080/"
        },
        "id": "1nBf5i2tnUPv",
        "outputId": "bd030035-82cb-4321-9606-e96d4d902d1c"
      },
      "execution_count": null,
      "outputs": [
        {
          "output_type": "stream",
          "name": "stdout",
          "text": [
            "Percentage of values grater than 1 = 2.6658153506006266 %\n"
          ]
        }
      ]
    },
    {
      "cell_type": "code",
      "source": [
        "plot_feature(np.log(df[\"dropped_frames_mean\"]))"
      ],
      "metadata": {
        "id": "tfUyY-JVlCA8",
        "colab": {
          "base_uri": "https://localhost:8080/",
          "height": 389
        },
        "outputId": "247b85d1-a0b6-4606-e4fa-a51d7f0d0a5e"
      },
      "execution_count": null,
      "outputs": [
        {
          "output_type": "display_data",
          "data": {
            "text/plain": [
              "<Figure size 1296x432 with 1 Axes>"
            ],
            "image/png": "[encoded data removed]"
          },
          "metadata": {
            "needs_background": "light"
          }
        }
      ]
    },
    {
      "cell_type": "code",
      "source": [
        "plot_feature(df[\"dropped_frames_std\"])"
      ],
      "metadata": {
        "id": "ArdAOrdDodr8",
        "outputId": "39ecf6e2-06dc-4183-9081-d760d28da4fb",
        "colab": {
          "base_uri": "https://localhost:8080/",
          "height": 389
        }
      },
      "execution_count": null,
      "outputs": [
        {
          "output_type": "display_data",
          "data": {
            "text/plain": [
              "<Figure size 1296x432 with 1 Axes>"
            ],
            "image/png": "[encoded data removed]"
          },
          "metadata": {
            "needs_background": "light"
          }
        }
      ]
    },
    {
      "cell_type": "code",
      "source": [
        "plot_feature(df[\"dropped_frames_max\"])"
      ],
      "metadata": {
        "colab": {
          "base_uri": "https://localhost:8080/",
          "height": 389
        },
        "id": "p1WJrS5jP27y",
        "outputId": "bcc251e4-7950-417b-b307-a1dfc194c542"
      },
      "execution_count": null,
      "outputs": [
        {
          "output_type": "display_data",
          "data": {
            "text/plain": [
              "<Figure size 1296x432 with 1 Axes>"
            ],
            "image/png": "[encoded data removed]"
          },
          "metadata": {
            "needs_background": "light"
          }
        }
      ]
    },
    {
      "cell_type": "markdown",
      "source": [
        "almost all features took the same shape as the previous features, majority of the values gathered togeather except couple of values who tend to be larger than others."
      ],
      "metadata": {
        "id": "5sIReIG5QDRu"
      }
    },
    {
      "cell_type": "code",
      "source": [
        "plot_feature(df[\"bitrate_mean\"])"
      ],
      "metadata": {
        "colab": {
          "base_uri": "https://localhost:8080/"
        },
        "id": "JWYzw15HQRjk",
        "outputId": "34d5f7f1-f47c-4c1c-ac62-23c19380b54b"
      },
      "execution_count": null,
      "outputs": [
        {
          "output_type": "display_data",
          "data": {
            "text/plain": [
              "<Figure size 1296x432 with 1 Axes>"
            ],
            "image/png": "[encoded data removed]"
          },
          "metadata": {
            "needs_background": "light"
          }
        }
      ]
    },
    {
      "cell_type": "markdown",
      "source": [
        "Now from the plot above we can see that this feature has a wide scale, not all it's values gather togeather in the same plcae, but it's has a much larger scale than other features, but still values tend to be at first part of the plot taking not very large values in comparing to some vlaues at the right, let's take a look at the percentil values to see the growth of this feature."
      ],
      "metadata": {
        "id": "ZyrlM04uQX-Z"
      }
    },
    {
      "cell_type": "code",
      "source": [
        "# 10th step\n",
        "rg = np.arange(0, 110, 10)\n",
        "perc = np.percentile(df[\"bitrate_mean\"], rg)\n",
        "for index, value in enumerate(perc):\n",
        "  if index == 0:\n",
        "    print(\"the min =\", value)\n",
        "  elif index == len(np.percentile(df[\"bitrate_mean\"], rg)) - 1:\n",
        "    print(\"the max =\", value)\n",
        "  else:\n",
        "    print(f\"{index}th percentile =\", value)"
      ],
      "metadata": {
        "colab": {
          "base_uri": "https://localhost:8080/"
        },
        "id": "qbRZL0rSQ1R_",
        "outputId": "9521689b-d782-4a6c-a41f-faba113dc57d"
      },
      "execution_count": null,
      "outputs": [
        {
          "output_type": "stream",
          "name": "stdout",
          "text": [
            "the min = 0.0\n",
            "1th percentile = 806.1\n",
            "2th percentile = 2040.0\n",
            "3th percentile = 3329.0\n",
            "4th percentile = 4946.4\n",
            "5th percentile = 6287.2\n",
            "6th percentile = 8176.2\n",
            "7th percentile = 9747.2\n",
            "8th percentile = 10837.4\n",
            "9th percentile = 16694.0\n",
            "the max = 64913.5\n"
          ]
        }
      ]
    },
    {
      "cell_type": "code",
      "source": [
        "for i in range(len(perc) - 1):\n",
        "  first, second = perc[i], perc[i + 1]\n",
        "  print(f\"The differenc between the {i + 1}th percentile and the {i}th percentile =\", np.round(second - first, 4))"
      ],
      "metadata": {
        "colab": {
          "base_uri": "https://localhost:8080/"
        },
        "id": "KT6zjO20TCWB",
        "outputId": "6bca9f72-127a-4a33-f8da-c035d1a92e7a"
      },
      "execution_count": null,
      "outputs": [
        {
          "output_type": "stream",
          "name": "stdout",
          "text": [
            "The differenc between the 1th percentile and the 0th percentile = 806.1\n",
            "The differenc between the 2th percentile and the 1th percentile = 1233.9\n",
            "The differenc between the 3th percentile and the 2th percentile = 1289.0\n",
            "The differenc between the 4th percentile and the 3th percentile = 1617.4\n",
            "The differenc between the 5th percentile and the 4th percentile = 1340.8\n",
            "The differenc between the 6th percentile and the 5th percentile = 1889.0\n",
            "The differenc between the 7th percentile and the 6th percentile = 1571.0\n",
            "The differenc between the 8th percentile and the 7th percentile = 1090.2\n",
            "The differenc between the 9th percentile and the 8th percentile = 5856.6\n",
            "The differenc between the 10th percentile and the 9th percentile = 48219.5\n"
          ]
        }
      ]
    },
    {
      "cell_type": "code",
      "source": [
        "plt.figure(figsize = (18, 6))\n",
        "plt.subplot(121)\n",
        "plt.plot(np.arange(len(df)), sorted(df[\"bitrate_mean\"]))\n",
        "plt.title(\"bitrate mean plot\")\n",
        "plt.subplot(122)\n",
        "plt.plot(rg, perc)\n",
        "plt.title(\"bitrate mean percentile plot\")\n",
        "plt.show()"
      ],
      "metadata": {
        "colab": {
          "base_uri": "https://localhost:8080/"
        },
        "id": "SmNleg2kTgde",
        "outputId": "e140c9cd-cf27-4ce5-9905-b2c2a9a9a036"
      },
      "execution_count": null,
      "outputs": [
        {
          "output_type": "display_data",
          "data": {
            "text/plain": [
              "<Figure size 1296x432 with 2 Axes>"
            ],
            "image/png": "[encoded data removed]"
          },
          "metadata": {
            "needs_background": "light"
          }
        }
      ]
    },
    {
      "cell_type": "markdown",
      "source": [
        "So we have steady increasing in term of the values except for the last 10th pernectile approxiamately of our feature."
      ],
      "metadata": {
        "id": "Xj9rM9aXUV7w"
      }
    },
    {
      "cell_type": "code",
      "source": [
        "plot_feature(df[\"bitrate_std\"])"
      ],
      "metadata": {
        "colab": {
          "base_uri": "https://localhost:8080/"
        },
        "id": "sRgqiNLTUlB2",
        "outputId": "4123e0e0-0ce5-4506-ebe1-a5d8ace31a4b"
      },
      "execution_count": null,
      "outputs": [
        {
          "output_type": "display_data",
          "data": {
            "text/plain": [
              "<Figure size 1296x432 with 1 Axes>"
            ],
            "image/png": "[encoded data removed]"
          },
          "metadata": {
            "needs_background": "light"
          }
        }
      ]
    },
    {
      "cell_type": "markdown",
      "source": [
        "This feature look similar to the previous one but with smaller variance, it's std equal to 1603 comparing to 7516 which lead to smoother shape."
      ],
      "metadata": {
        "id": "SDRUAgLRU7zg"
      }
    },
    {
      "cell_type": "markdown",
      "source": [
        "### Multicollinearity"
      ],
      "metadata": {
        "id": "WLkJzJ0cVQjm"
      }
    },
    {
      "cell_type": "markdown",
      "source": [
        "Multicollinearity happens when independent variables are highly correlated with each other. It makes interpretation of model difficult and sometimes creates an overfitting problem. so we will check it now using correlation matrix, we can use it later in variable selection."
      ],
      "metadata": {
        "id": "sYkGwZS1f_dM"
      }
    },
    {
      "cell_type": "code",
      "source": [
        "def plot_correlation_matrix(data, threshold = None):\n",
        "  corr = data.corr()\n",
        "  if threshold is None:\n",
        "    # plt.figure(figsize = (10, 8))\n",
        "    return corr.style.background_gradient(cmap = 'coolwarm').set_precision(2)\n",
        "  else:\n",
        "    # get variables with more than threshold or less than -threshold correlation with the dependent variable(target)\n",
        "    vars = corr[abs(corr[\"target\"]) > threshold].index\n",
        "    return corr[vars].corr().style.background_gradient(cmap = 'coolwarm').set_precision(2)"
      ],
      "metadata": {
        "id": "pnI3KD3iVSOH"
      },
      "execution_count": null,
      "outputs": []
    },
    {
      "cell_type": "code",
      "source": [
        "plot_correlation_matrix(df)"
      ],
      "metadata": {
        "colab": {
          "base_uri": "https://localhost:8080/"
        },
        "id": "DP8KnV50V-vJ",
        "outputId": "c290559e-7692-4a6c-a86a-b0fb4c2a4fd8"
      },
      "execution_count": null,
      "outputs": [
        {
          "output_type": "execute_result",
          "data": {
            "text/plain": [
              "<pandas.io.formats.style.Styler at 0x7f6e5bf1ff90>"
            ],
            "text/html": [
              "<style type=\"text/css\">\n",
              "#T_41c73_row0_col0, #T_41c73_row1_col1, #T_41c73_row2_col2, #T_41c73_row3_col3, #T_41c73_row4_col4, #T_41c73_row5_col5, #T_41c73_row6_col6, #T_41c73_row7_col7, #T_41c73_row8_col8, #T_41c73_row9_col9 {\n",
              "  background-color: #b40426;\n",
              "  color: #f1f1f1;\n",
              "}\n",
              "#T_41c73_row0_col1 {\n",
              "  background-color: #8badfd;\n",
              "  color: #000000;\n",
              "}\n",
              "#T_41c73_row0_col2 {\n",
              "  background-color: #5977e3;\n",
              "  color: #f1f1f1;\n",
              "}\n",
              "#T_41c73_row0_col3, #T_41c73_row8_col3 {\n",
              "  background-color: #4358cb;\n",
              "  color: #f1f1f1;\n",
              "}\n",
              "#T_41c73_row0_col4, #T_41c73_row2_col4, #T_41c73_row2_col5, #T_41c73_row2_col6, #T_41c73_row8_col4 {\n",
              "  background-color: #3e51c5;\n",
              "  color: #f1f1f1;\n",
              "}\n",
              "#T_41c73_row0_col5 {\n",
              "  background-color: #4a63d3;\n",
              "  color: #f1f1f1;\n",
              "}\n",
              "#T_41c73_row0_col6, #T_41c73_row3_col8 {\n",
              "  background-color: #4961d2;\n",
              "  color: #f1f1f1;\n",
              "}\n",
              "#T_41c73_row0_col7 {\n",
              "  background-color: #97b8ff;\n",
              "  color: #000000;\n",
              "}\n",
              "#T_41c73_row0_col8 {\n",
              "  background-color: #85a8fc;\n",
              "  color: #f1f1f1;\n",
              "}\n",
              "#T_41c73_row0_col9 {\n",
              "  background-color: #96b7ff;\n",
              "  color: #000000;\n",
              "}\n",
              "#T_41c73_row1_col0 {\n",
              "  background-color: #9bbcff;\n",
              "  color: #000000;\n",
              "}\n",
              "#T_41c73_row1_col2 {\n",
              "  background-color: #7ea1fa;\n",
              "  color: #f1f1f1;\n",
              "}\n",
              "#T_41c73_row1_col3, #T_41c73_row8_col0 {\n",
              "  background-color: #779af7;\n",
              "  color: #f1f1f1;\n",
              "}\n",
              "#T_41c73_row1_col4 {\n",
              "  background-color: #90b2fe;\n",
              "  color: #000000;\n",
              "}\n",
              "#T_41c73_row1_col5 {\n",
              "  background-color: #c3d5f4;\n",
              "  color: #000000;\n",
              "}\n",
              "#T_41c73_row1_col6 {\n",
              "  background-color: #c0d4f5;\n",
              "  color: #000000;\n",
              "}\n",
              "#T_41c73_row1_col7 {\n",
              "  background-color: #688aef;\n",
              "  color: #f1f1f1;\n",
              "}\n",
              "#T_41c73_row1_col8 {\n",
              "  background-color: #a1c0ff;\n",
              "  color: #000000;\n",
              "}\n",
              "#T_41c73_row1_col9 {\n",
              "  background-color: #6a8bef;\n",
              "  color: #f1f1f1;\n",
              "}\n",
              "#T_41c73_row2_col0 {\n",
              "  background-color: #3d50c3;\n",
              "  color: #f1f1f1;\n",
              "}\n",
              "#T_41c73_row2_col1 {\n",
              "  background-color: #506bda;\n",
              "  color: #f1f1f1;\n",
              "}\n",
              "#T_41c73_row2_col3 {\n",
              "  background-color: #f7a889;\n",
              "  color: #000000;\n",
              "}\n",
              "#T_41c73_row2_col7, #T_41c73_row2_col8, #T_41c73_row2_col9, #T_41c73_row3_col0, #T_41c73_row7_col1, #T_41c73_row7_col2, #T_41c73_row7_col3, #T_41c73_row7_col4, #T_41c73_row7_col5, #T_41c73_row7_col6, #T_41c73_row9_col2, #T_41c73_row9_col3, #T_41c73_row9_col4, #T_41c73_row9_col5, #T_41c73_row9_col6 {\n",
              "  background-color: #3b4cc0;\n",
              "  color: #f1f1f1;\n",
              "}\n",
              "#T_41c73_row3_col1 {\n",
              "  background-color: #5d7ce6;\n",
              "  color: #f1f1f1;\n",
              "}\n",
              "#T_41c73_row3_col2 {\n",
              "  background-color: #f6a283;\n",
              "  color: #000000;\n",
              "}\n",
              "#T_41c73_row3_col4 {\n",
              "  background-color: #4055c8;\n",
              "  color: #f1f1f1;\n",
              "}\n",
              "#T_41c73_row3_col5, #T_41c73_row3_col6, #T_41c73_row8_col5, #T_41c73_row8_col6 {\n",
              "  background-color: #445acc;\n",
              "  color: #f1f1f1;\n",
              "}\n",
              "#T_41c73_row3_col7, #T_41c73_row3_col9 {\n",
              "  background-color: #4e68d8;\n",
              "  color: #f1f1f1;\n",
              "}\n",
              "#T_41c73_row4_col0, #T_41c73_row8_col2 {\n",
              "  background-color: #485fd1;\n",
              "  color: #f1f1f1;\n",
              "}\n",
              "#T_41c73_row4_col1 {\n",
              "  background-color: #88abfd;\n",
              "  color: #000000;\n",
              "}\n",
              "#T_41c73_row4_col2, #T_41c73_row5_col7, #T_41c73_row5_col9, #T_41c73_row6_col9 {\n",
              "  background-color: #6384eb;\n",
              "  color: #f1f1f1;\n",
              "}\n",
              "#T_41c73_row4_col3 {\n",
              "  background-color: #536edd;\n",
              "  color: #f1f1f1;\n",
              "}\n",
              "#T_41c73_row4_col5 {\n",
              "  background-color: #f7b194;\n",
              "  color: #000000;\n",
              "}\n",
              "#T_41c73_row4_col6 {\n",
              "  background-color: #f7a688;\n",
              "  color: #000000;\n",
              "}\n",
              "#T_41c73_row4_col7, #T_41c73_row4_col9, #T_41c73_row5_col8, #T_41c73_row6_col8 {\n",
              "  background-color: #5f7fe8;\n",
              "  color: #f1f1f1;\n",
              "}\n",
              "#T_41c73_row4_col8, #T_41c73_row5_col0, #T_41c73_row6_col0 {\n",
              "  background-color: #5673e0;\n",
              "  color: #f1f1f1;\n",
              "}\n",
              "#T_41c73_row5_col1 {\n",
              "  background-color: #bfd3f6;\n",
              "  color: #000000;\n",
              "}\n",
              "#T_41c73_row5_col2, #T_41c73_row6_col2 {\n",
              "  background-color: #6788ee;\n",
              "  color: #f1f1f1;\n",
              "}\n",
              "#T_41c73_row5_col3, #T_41c73_row6_col3 {\n",
              "  background-color: #5a78e4;\n",
              "  color: #f1f1f1;\n",
              "}\n",
              "#T_41c73_row5_col4 {\n",
              "  background-color: #f7b093;\n",
              "  color: #000000;\n",
              "}\n",
              "#T_41c73_row5_col6, #T_41c73_row6_col5 {\n",
              "  background-color: #b70d28;\n",
              "  color: #f1f1f1;\n",
              "}\n",
              "#T_41c73_row6_col1 {\n",
              "  background-color: #bcd2f7;\n",
              "  color: #000000;\n",
              "}\n",
              "#T_41c73_row6_col4 {\n",
              "  background-color: #f6a586;\n",
              "  color: #000000;\n",
              "}\n",
              "#T_41c73_row6_col7 {\n",
              "  background-color: #6485ec;\n",
              "  color: #f1f1f1;\n",
              "}\n",
              "#T_41c73_row7_col0 {\n",
              "  background-color: #7da0f9;\n",
              "  color: #f1f1f1;\n",
              "}\n",
              "#T_41c73_row7_col8 {\n",
              "  background-color: #e8d6cc;\n",
              "  color: #000000;\n",
              "}\n",
              "#T_41c73_row7_col9, #T_41c73_row9_col7 {\n",
              "  background-color: #c53334;\n",
              "  color: #f1f1f1;\n",
              "}\n",
              "#T_41c73_row8_col1 {\n",
              "  background-color: #84a7fc;\n",
              "  color: #f1f1f1;\n",
              "}\n",
              "#T_41c73_row8_col7, #T_41c73_row8_col9 {\n",
              "  background-color: #ecd3c5;\n",
              "  color: #000000;\n",
              "}\n",
              "#T_41c73_row9_col0 {\n",
              "  background-color: #7b9ff9;\n",
              "  color: #f1f1f1;\n",
              "}\n",
              "#T_41c73_row9_col1 {\n",
              "  background-color: #3c4ec2;\n",
              "  color: #f1f1f1;\n",
              "}\n",
              "#T_41c73_row9_col8 {\n",
              "  background-color: #e7d7ce;\n",
              "  color: #000000;\n",
              "}\n",
              "</style>\n",
              "<table id=\"T_41c73_\" class=\"dataframe\">\n",
              "  <thead>\n",
              "    <tr>\n",
              "      <th class=\"blank level0\" >&nbsp;</th>\n",
              "      <th class=\"col_heading level0 col0\" >fps_mean</th>\n",
              "      <th class=\"col_heading level0 col1\" >fps_std</th>\n",
              "      <th class=\"col_heading level0 col2\" >rtt_mean</th>\n",
              "      <th class=\"col_heading level0 col3\" >rtt_std</th>\n",
              "      <th class=\"col_heading level0 col4\" >dropped_frames_mean</th>\n",
              "      <th class=\"col_heading level0 col5\" >dropped_frames_std</th>\n",
              "      <th class=\"col_heading level0 col6\" >dropped_frames_max</th>\n",
              "      <th class=\"col_heading level0 col7\" >bitrate_mean</th>\n",
              "      <th class=\"col_heading level0 col8\" >bitrate_std</th>\n",
              "      <th class=\"col_heading level0 col9\" >target</th>\n",
              "    </tr>\n",
              "  </thead>\n",
              "  <tbody>\n",
              "    <tr>\n",
              "      <th id=\"T_41c73_level0_row0\" class=\"row_heading level0 row0\" >fps_mean</th>\n",
              "      <td id=\"T_41c73_row0_col0\" class=\"data row0 col0\" >1.00</td>\n",
              "      <td id=\"T_41c73_row0_col1\" class=\"data row0 col1\" >0.29</td>\n",
              "      <td id=\"T_41c73_row0_col2\" class=\"data row0 col2\" >0.01</td>\n",
              "      <td id=\"T_41c73_row0_col3\" class=\"data row0 col3\" >0.00</td>\n",
              "      <td id=\"T_41c73_row0_col4\" class=\"data row0 col4\" >0.04</td>\n",
              "      <td id=\"T_41c73_row0_col5\" class=\"data row0 col5\" >0.09</td>\n",
              "      <td id=\"T_41c73_row0_col6\" class=\"data row0 col6\" >0.09</td>\n",
              "      <td id=\"T_41c73_row0_col7\" class=\"data row0 col7\" >0.21</td>\n",
              "      <td id=\"T_41c73_row0_col8\" class=\"data row0 col8\" >0.19</td>\n",
              "      <td id=\"T_41c73_row0_col9\" class=\"data row0 col9\" >0.20</td>\n",
              "    </tr>\n",
              "    <tr>\n",
              "      <th id=\"T_41c73_level0_row1\" class=\"row_heading level0 row1\" >fps_std</th>\n",
              "      <td id=\"T_41c73_row1_col0\" class=\"data row1 col0\" >0.29</td>\n",
              "      <td id=\"T_41c73_row1_col1\" class=\"data row1 col1\" >1.00</td>\n",
              "      <td id=\"T_41c73_row1_col2\" class=\"data row1 col2\" >0.13</td>\n",
              "      <td id=\"T_41c73_row1_col3\" class=\"data row1 col3\" >0.16</td>\n",
              "      <td id=\"T_41c73_row1_col4\" class=\"data row1 col4\" >0.28</td>\n",
              "      <td id=\"T_41c73_row1_col5\" class=\"data row1 col5\" >0.43</td>\n",
              "      <td id=\"T_41c73_row1_col6\" class=\"data row1 col6\" >0.43</td>\n",
              "      <td id=\"T_41c73_row1_col7\" class=\"data row1 col7\" >0.06</td>\n",
              "      <td id=\"T_41c73_row1_col8\" class=\"data row1 col8\" >0.27</td>\n",
              "      <td id=\"T_41c73_row1_col9\" class=\"data row1 col9\" >0.07</td>\n",
              "    </tr>\n",
              "    <tr>\n",
              "      <th id=\"T_41c73_level0_row2\" class=\"row_heading level0 row2\" >rtt_mean</th>\n",
              "      <td id=\"T_41c73_row2_col0\" class=\"data row2 col0\" >0.01</td>\n",
              "      <td id=\"T_41c73_row2_col1\" class=\"data row2 col1\" >0.13</td>\n",
              "      <td id=\"T_41c73_row2_col2\" class=\"data row2 col2\" >1.00</td>\n",
              "      <td id=\"T_41c73_row2_col3\" class=\"data row2 col3\" >0.70</td>\n",
              "      <td id=\"T_41c73_row2_col4\" class=\"data row2 col4\" >0.04</td>\n",
              "      <td id=\"T_41c73_row2_col5\" class=\"data row2 col5\" >0.06</td>\n",
              "      <td id=\"T_41c73_row2_col6\" class=\"data row2 col6\" >0.06</td>\n",
              "      <td id=\"T_41c73_row2_col7\" class=\"data row2 col7\" >-0.10</td>\n",
              "      <td id=\"T_41c73_row2_col8\" class=\"data row2 col8\" >-0.05</td>\n",
              "      <td id=\"T_41c73_row2_col9\" class=\"data row2 col9\" >-0.10</td>\n",
              "    </tr>\n",
              "    <tr>\n",
              "      <th id=\"T_41c73_level0_row3\" class=\"row_heading level0 row3\" >rtt_std</th>\n",
              "      <td id=\"T_41c73_row3_col0\" class=\"data row3 col0\" >0.00</td>\n",
              "      <td id=\"T_41c73_row3_col1\" class=\"data row3 col1\" >0.16</td>\n",
              "      <td id=\"T_41c73_row3_col2\" class=\"data row3 col2\" >0.70</td>\n",
              "      <td id=\"T_41c73_row3_col3\" class=\"data row3 col3\" >1.00</td>\n",
              "      <td id=\"T_41c73_row3_col4\" class=\"data row3 col4\" >0.05</td>\n",
              "      <td id=\"T_41c73_row3_col5\" class=\"data row3 col5\" >0.08</td>\n",
              "      <td id=\"T_41c73_row3_col6\" class=\"data row3 col6\" >0.08</td>\n",
              "      <td id=\"T_41c73_row3_col7\" class=\"data row3 col7\" >-0.03</td>\n",
              "      <td id=\"T_41c73_row3_col8\" class=\"data row3 col8\" >0.00</td>\n",
              "      <td id=\"T_41c73_row3_col9\" class=\"data row3 col9\" >-0.03</td>\n",
              "    </tr>\n",
              "    <tr>\n",
              "      <th id=\"T_41c73_level0_row4\" class=\"row_heading level0 row4\" >dropped_frames_mean</th>\n",
              "      <td id=\"T_41c73_row4_col0\" class=\"data row4 col0\" >0.04</td>\n",
              "      <td id=\"T_41c73_row4_col1\" class=\"data row4 col1\" >0.28</td>\n",
              "      <td id=\"T_41c73_row4_col2\" class=\"data row4 col2\" >0.04</td>\n",
              "      <td id=\"T_41c73_row4_col3\" class=\"data row4 col3\" >0.05</td>\n",
              "      <td id=\"T_41c73_row4_col4\" class=\"data row4 col4\" >1.00</td>\n",
              "      <td id=\"T_41c73_row4_col5\" class=\"data row4 col5\" >0.70</td>\n",
              "      <td id=\"T_41c73_row4_col6\" class=\"data row4 col6\" >0.73</td>\n",
              "      <td id=\"T_41c73_row4_col7\" class=\"data row4 col7\" >0.03</td>\n",
              "      <td id=\"T_41c73_row4_col8\" class=\"data row4 col8\" >0.05</td>\n",
              "      <td id=\"T_41c73_row4_col9\" class=\"data row4 col9\" >0.03</td>\n",
              "    </tr>\n",
              "    <tr>\n",
              "      <th id=\"T_41c73_level0_row5\" class=\"row_heading level0 row5\" >dropped_frames_std</th>\n",
              "      <td id=\"T_41c73_row5_col0\" class=\"data row5 col0\" >0.09</td>\n",
              "      <td id=\"T_41c73_row5_col1\" class=\"data row5 col1\" >0.43</td>\n",
              "      <td id=\"T_41c73_row5_col2\" class=\"data row5 col2\" >0.06</td>\n",
              "      <td id=\"T_41c73_row5_col3\" class=\"data row5 col3\" >0.08</td>\n",
              "      <td id=\"T_41c73_row5_col4\" class=\"data row5 col4\" >0.70</td>\n",
              "      <td id=\"T_41c73_row5_col5\" class=\"data row5 col5\" >1.00</td>\n",
              "      <td id=\"T_41c73_row5_col6\" class=\"data row5 col6\" >0.99</td>\n",
              "      <td id=\"T_41c73_row5_col7\" class=\"data row5 col7\" >0.05</td>\n",
              "      <td id=\"T_41c73_row5_col8\" class=\"data row5 col8\" >0.08</td>\n",
              "      <td id=\"T_41c73_row5_col9\" class=\"data row5 col9\" >0.04</td>\n",
              "    </tr>\n",
              "    <tr>\n",
              "      <th id=\"T_41c73_level0_row6\" class=\"row_heading level0 row6\" >dropped_frames_max</th>\n",
              "      <td id=\"T_41c73_row6_col0\" class=\"data row6 col0\" >0.09</td>\n",
              "      <td id=\"T_41c73_row6_col1\" class=\"data row6 col1\" >0.43</td>\n",
              "      <td id=\"T_41c73_row6_col2\" class=\"data row6 col2\" >0.06</td>\n",
              "      <td id=\"T_41c73_row6_col3\" class=\"data row6 col3\" >0.08</td>\n",
              "      <td id=\"T_41c73_row6_col4\" class=\"data row6 col4\" >0.73</td>\n",
              "      <td id=\"T_41c73_row6_col5\" class=\"data row6 col5\" >0.99</td>\n",
              "      <td id=\"T_41c73_row6_col6\" class=\"data row6 col6\" >1.00</td>\n",
              "      <td id=\"T_41c73_row6_col7\" class=\"data row6 col7\" >0.05</td>\n",
              "      <td id=\"T_41c73_row6_col8\" class=\"data row6 col8\" >0.08</td>\n",
              "      <td id=\"T_41c73_row6_col9\" class=\"data row6 col9\" >0.05</td>\n",
              "    </tr>\n",
              "    <tr>\n",
              "      <th id=\"T_41c73_level0_row7\" class=\"row_heading level0 row7\" >bitrate_mean</th>\n",
              "      <td id=\"T_41c73_row7_col0\" class=\"data row7 col0\" >0.21</td>\n",
              "      <td id=\"T_41c73_row7_col1\" class=\"data row7 col1\" >0.06</td>\n",
              "      <td id=\"T_41c73_row7_col2\" class=\"data row7 col2\" >-0.10</td>\n",
              "      <td id=\"T_41c73_row7_col3\" class=\"data row7 col3\" >-0.03</td>\n",
              "      <td id=\"T_41c73_row7_col4\" class=\"data row7 col4\" >0.03</td>\n",
              "      <td id=\"T_41c73_row7_col5\" class=\"data row7 col5\" >0.05</td>\n",
              "      <td id=\"T_41c73_row7_col6\" class=\"data row7 col6\" >0.05</td>\n",
              "      <td id=\"T_41c73_row7_col7\" class=\"data row7 col7\" >1.00</td>\n",
              "      <td id=\"T_41c73_row7_col8\" class=\"data row7 col8\" >0.52</td>\n",
              "      <td id=\"T_41c73_row7_col9\" class=\"data row7 col9\" >0.95</td>\n",
              "    </tr>\n",
              "    <tr>\n",
              "      <th id=\"T_41c73_level0_row8\" class=\"row_heading level0 row8\" >bitrate_std</th>\n",
              "      <td id=\"T_41c73_row8_col0\" class=\"data row8 col0\" >0.19</td>\n",
              "      <td id=\"T_41c73_row8_col1\" class=\"data row8 col1\" >0.27</td>\n",
              "      <td id=\"T_41c73_row8_col2\" class=\"data row8 col2\" >-0.05</td>\n",
              "      <td id=\"T_41c73_row8_col3\" class=\"data row8 col3\" >0.00</td>\n",
              "      <td id=\"T_41c73_row8_col4\" class=\"data row8 col4\" >0.05</td>\n",
              "      <td id=\"T_41c73_row8_col5\" class=\"data row8 col5\" >0.08</td>\n",
              "      <td id=\"T_41c73_row8_col6\" class=\"data row8 col6\" >0.08</td>\n",
              "      <td id=\"T_41c73_row8_col7\" class=\"data row8 col7\" >0.52</td>\n",
              "      <td id=\"T_41c73_row8_col8\" class=\"data row8 col8\" >1.00</td>\n",
              "      <td id=\"T_41c73_row8_col9\" class=\"data row8 col9\" >0.52</td>\n",
              "    </tr>\n",
              "    <tr>\n",
              "      <th id=\"T_41c73_level0_row9\" class=\"row_heading level0 row9\" >target</th>\n",
              "      <td id=\"T_41c73_row9_col0\" class=\"data row9 col0\" >0.20</td>\n",
              "      <td id=\"T_41c73_row9_col1\" class=\"data row9 col1\" >0.07</td>\n",
              "      <td id=\"T_41c73_row9_col2\" class=\"data row9 col2\" >-0.10</td>\n",
              "      <td id=\"T_41c73_row9_col3\" class=\"data row9 col3\" >-0.03</td>\n",
              "      <td id=\"T_41c73_row9_col4\" class=\"data row9 col4\" >0.03</td>\n",
              "      <td id=\"T_41c73_row9_col5\" class=\"data row9 col5\" >0.04</td>\n",
              "      <td id=\"T_41c73_row9_col6\" class=\"data row9 col6\" >0.05</td>\n",
              "      <td id=\"T_41c73_row9_col7\" class=\"data row9 col7\" >0.95</td>\n",
              "      <td id=\"T_41c73_row9_col8\" class=\"data row9 col8\" >0.52</td>\n",
              "      <td id=\"T_41c73_row9_col9\" class=\"data row9 col9\" >1.00</td>\n",
              "    </tr>\n",
              "  </tbody>\n",
              "</table>\n"
            ]
          },
          "metadata": {},
          "execution_count": 32
        }
      ]
    },
    {
      "cell_type": "markdown",
      "source": [
        "We can see that most of the independent variables are not really correlated togeather, which is good but some of the do, some of them correlated with the target which is good as well."
      ],
      "metadata": {
        "id": "q2eum3Y4iDwd"
      }
    },
    {
      "cell_type": "code",
      "source": [
        "plot_correlation_matrix(df, 0.4)"
      ],
      "metadata": {
        "colab": {
          "base_uri": "https://localhost:8080/"
        },
        "id": "UxEvAuvRnOuH",
        "outputId": "28d08b4e-030d-4cf6-f3aa-f4f4951cf74e"
      },
      "execution_count": null,
      "outputs": [
        {
          "output_type": "execute_result",
          "data": {
            "text/plain": [
              "<pandas.io.formats.style.Styler at 0x7f6e60a56c10>"
            ],
            "text/html": [
              "<style type=\"text/css\">\n",
              "#T_9cc24_row0_col0, #T_9cc24_row1_col1, #T_9cc24_row2_col2 {\n",
              "  background-color: #b40426;\n",
              "  color: #f1f1f1;\n",
              "}\n",
              "#T_9cc24_row0_col1, #T_9cc24_row1_col0, #T_9cc24_row1_col2, #T_9cc24_row2_col1 {\n",
              "  background-color: #3b4cc0;\n",
              "  color: #f1f1f1;\n",
              "}\n",
              "#T_9cc24_row0_col2, #T_9cc24_row2_col0 {\n",
              "  background-color: #b50927;\n",
              "  color: #f1f1f1;\n",
              "}\n",
              "</style>\n",
              "<table id=\"T_9cc24_\" class=\"dataframe\">\n",
              "  <thead>\n",
              "    <tr>\n",
              "      <th class=\"blank level0\" >&nbsp;</th>\n",
              "      <th class=\"col_heading level0 col0\" >bitrate_mean</th>\n",
              "      <th class=\"col_heading level0 col1\" >bitrate_std</th>\n",
              "      <th class=\"col_heading level0 col2\" >target</th>\n",
              "    </tr>\n",
              "  </thead>\n",
              "  <tbody>\n",
              "    <tr>\n",
              "      <th id=\"T_9cc24_level0_row0\" class=\"row_heading level0 row0\" >bitrate_mean</th>\n",
              "      <td id=\"T_9cc24_row0_col0\" class=\"data row0 col0\" >1.00</td>\n",
              "      <td id=\"T_9cc24_row0_col1\" class=\"data row0 col1\" >0.74</td>\n",
              "      <td id=\"T_9cc24_row0_col2\" class=\"data row0 col2\" >1.00</td>\n",
              "    </tr>\n",
              "    <tr>\n",
              "      <th id=\"T_9cc24_level0_row1\" class=\"row_heading level0 row1\" >bitrate_std</th>\n",
              "      <td id=\"T_9cc24_row1_col0\" class=\"data row1 col0\" >0.74</td>\n",
              "      <td id=\"T_9cc24_row1_col1\" class=\"data row1 col1\" >1.00</td>\n",
              "      <td id=\"T_9cc24_row1_col2\" class=\"data row1 col2\" >0.74</td>\n",
              "    </tr>\n",
              "    <tr>\n",
              "      <th id=\"T_9cc24_level0_row2\" class=\"row_heading level0 row2\" >target</th>\n",
              "      <td id=\"T_9cc24_row2_col0\" class=\"data row2 col0\" >1.00</td>\n",
              "      <td id=\"T_9cc24_row2_col1\" class=\"data row2 col1\" >0.74</td>\n",
              "      <td id=\"T_9cc24_row2_col2\" class=\"data row2 col2\" >1.00</td>\n",
              "    </tr>\n",
              "  </tbody>\n",
              "</table>\n"
            ]
          },
          "metadata": {},
          "execution_count": 33
        }
      ]
    },
    {
      "cell_type": "code",
      "source": [
        "sns.set(rc={'figure.figsize':(15, 10)})\n",
        "sns.pairplot(df, y_vars = \"target\", x_vars = df.columns[:-1].values)\n",
        "plt.show()"
      ],
      "metadata": {
        "colab": {
          "base_uri": "https://localhost:8080/"
        },
        "id": "c5imOUSROAz5",
        "outputId": "2e78ce1b-ca38-4d6c-9480-248d75410c71"
      },
      "execution_count": null,
      "outputs": [
        {
          "output_type": "display_data",
          "data": {
            "text/plain": [
              "<Figure size 1620x180 with 9 Axes>"
            ],
            "image/png": "[encoded data removed]"
          },
          "metadata": {}
        }
      ]
    },
    {
      "cell_type": "code",
      "source": [
        "def joint(feature1, feature2):\n",
        "  sns.jointplot(x = feature1, y = feature1, data = df, gridsize = 10, kind = \"hex\")\n",
        "  plt.show()"
      ],
      "metadata": {
        "id": "Nj3uTLtIvhcK"
      },
      "execution_count": null,
      "outputs": []
    },
    {
      "cell_type": "code",
      "source": [
        "joint(\"bitrate_mean\", \"bitrate_std\")"
      ],
      "metadata": {
        "colab": {
          "base_uri": "https://localhost:8080/"
        },
        "id": "dpFOeRmAu33T",
        "outputId": "4f1110b5-3205-4692-cbf1-6d8ac129187c"
      },
      "execution_count": null,
      "outputs": [
        {
          "output_type": "display_data",
          "data": {
            "text/plain": [
              "<Figure size 432x432 with 3 Axes>"
            ],
            "image/png": "[encoded data removed]"
          },
          "metadata": {}
        }
      ]
    },
    {
      "cell_type": "code",
      "source": [
        "joint(\"bitrate_mean\", \"target\")"
      ],
      "metadata": {
        "colab": {
          "base_uri": "https://localhost:8080/"
        },
        "id": "bVWyPE8tvytS",
        "outputId": "64923463-d83e-4b74-9d8b-fd740aacc29f"
      },
      "execution_count": null,
      "outputs": [
        {
          "output_type": "display_data",
          "data": {
            "text/plain": [
              "<Figure size 432x432 with 3 Axes>"
            ],
            "image/png": "[encoded data removed]"
          },
          "metadata": {}
        }
      ]
    },
    {
      "cell_type": "code",
      "source": [
        "joint(\"bitrate_std\", \"target\")"
      ],
      "metadata": {
        "colab": {
          "base_uri": "https://localhost:8080/"
        },
        "id": "eNNBdYRWv1uR",
        "outputId": "383a4430-b26f-4ea7-e844-6bfc54e784e0"
      },
      "execution_count": null,
      "outputs": [
        {
          "output_type": "display_data",
          "data": {
            "text/plain": [
              "<Figure size 432x432 with 3 Axes>"
            ],
            "image/png": "[encoded data removed]"
          },
          "metadata": {}
        }
      ]
    },
    {
      "cell_type": "markdown",
      "source": [
        "Now, we can see that bitrate features are the most correlated with target aka dependent variable, probably those features will be more important than others but not neccessary, to be it need not to be really correlated with other features (independent variables), those two features are correlated with each other actually, to take a deeper look, let's try to calculate Variance Inflation Factor (VIF) for each independent variable then sort them, It is a measure of multicollinearity in the set of multiple regression variables. The higher the value of VIF the higher correlation between this variable and the rest, as a rule of thump if vif factor for a variable is 10 or we can consider this variable as highly correlated variable."
      ],
      "metadata": {
        "id": "MtLiIWsCnbbS"
      }
    },
    {
      "cell_type": "code",
      "source": [
        "vif = pd.DataFrame()\n",
        "vif[\"features\"] = df.columns\n",
        "vif[\"vif_factor\"] = [variance_inflation_factor(df.values, i) for i in range(df.shape[1])]\n",
        "vif.sort_values([\"vif_factor\"], ascending = False)"
      ],
      "metadata": {
        "colab": {
          "base_uri": "https://localhost:8080/"
        },
        "id": "LB-C202DnlJq",
        "outputId": "6d950c36-102b-4dcd-8bcd-39149a3bd3cc"
      },
      "execution_count": null,
      "outputs": [
        {
          "output_type": "execute_result",
          "data": {
            "text/plain": [
              "              features  vif_factor\n",
              "6   dropped_frames_max   68.936624\n",
              "5   dropped_frames_std   63.666961\n",
              "7         bitrate_mean   24.141788\n",
              "9               target   23.899798\n",
              "0             fps_mean    3.782273\n",
              "8          bitrate_std    2.830726\n",
              "2             rtt_mean    2.466115\n",
              "4  dropped_frames_mean    2.306281\n",
              "1              fps_std    2.172961\n",
              "3              rtt_std    2.016951"
            ],
            "text/html": [
              "\n",
              "  <div id=\"df-9ba3e2c8-9af2-4afc-8325-6ba18a029aa7\">\n",
              "    <div class=\"colab-df-container\">\n",
              "      <div>\n",
              "<style scoped>\n",
              "    .dataframe tbody tr th:only-of-type {\n",
              "        vertical-align: middle;\n",
              "    }\n",
              "\n",
              "    .dataframe tbody tr th {\n",
              "        vertical-align: top;\n",
              "    }\n",
              "\n",
              "    .dataframe thead th {\n",
              "        text-align: right;\n",
              "    }\n",
              "</style>\n",
              "<table border=\"1\" class=\"dataframe\">\n",
              "  <thead>\n",
              "    <tr style=\"text-align: right;\">\n",
              "      <th></th>\n",
              "      <th>features</th>\n",
              "      <th>vif_factor</th>\n",
              "    </tr>\n",
              "  </thead>\n",
              "  <tbody>\n",
              "    <tr>\n",
              "      <th>6</th>\n",
              "      <td>dropped_frames_max</td>\n",
              "      <td>68.936624</td>\n",
              "    </tr>\n",
              "    <tr>\n",
              "      <th>5</th>\n",
              "      <td>dropped_frames_std</td>\n",
              "      <td>63.666961</td>\n",
              "    </tr>\n",
              "    <tr>\n",
              "      <th>7</th>\n",
              "      <td>bitrate_mean</td>\n",
              "      <td>24.141788</td>\n",
              "    </tr>\n",
              "    <tr>\n",
              "      <th>9</th>\n",
              "      <td>target</td>\n",
              "      <td>23.899798</td>\n",
              "    </tr>\n",
              "    <tr>\n",
              "      <th>0</th>\n",
              "      <td>fps_mean</td>\n",
              "      <td>3.782273</td>\n",
              "    </tr>\n",
              "    <tr>\n",
              "      <th>8</th>\n",
              "      <td>bitrate_std</td>\n",
              "      <td>2.830726</td>\n",
              "    </tr>\n",
              "    <tr>\n",
              "      <th>2</th>\n",
              "      <td>rtt_mean</td>\n",
              "      <td>2.466115</td>\n",
              "    </tr>\n",
              "    <tr>\n",
              "      <th>4</th>\n",
              "      <td>dropped_frames_mean</td>\n",
              "      <td>2.306281</td>\n",
              "    </tr>\n",
              "    <tr>\n",
              "      <th>1</th>\n",
              "      <td>fps_std</td>\n",
              "      <td>2.172961</td>\n",
              "    </tr>\n",
              "    <tr>\n",
              "      <th>3</th>\n",
              "      <td>rtt_std</td>\n",
              "      <td>2.016951</td>\n",
              "    </tr>\n",
              "  </tbody>\n",
              "</table>\n",
              "</div>\n",
              "      <button class=\"colab-df-convert\" onclick=\"convertToInteractive('df-9ba3e2c8-9af2-4afc-8325-6ba18a029aa7')\"\n",
              "              title=\"Convert this dataframe to an interactive table.\"\n",
              "              style=\"display:none;\">\n",
              "        \n",
              "  <svg xmlns=\"http://www.w3.org/2000/svg\" height=\"24px\"viewBox=\"0 0 24 24\"\n",
              "       width=\"24px\">\n",
              "    <path d=\"M0 0h24v24H0V0z\" fill=\"none\"/>\n",
              "    <path d=\"M18.56 5.44l.94 2.06.94-2.06 2.06-.94-2.06-.94-.94-2.06-.94 2.06-2.06.94zm-11 1L8.5 8.5l.94-2.06 2.06-.94-2.06-.94L8.5 2.5l-.94 2.06-2.06.94zm10 10l.94 2.06.94-2.06 2.06-.94-2.06-.94-.94-2.06-.94 2.06-2.06.94z\"/><path d=\"M17.41 7.96l-1.37-1.37c-.4-.4-.92-.59-1.43-.59-.52 0-1.04.2-1.43.59L10.3 9.45l-7.72 7.72c-.78.78-.78 2.05 0 2.83L4 21.41c.39.39.9.59 1.41.59.51 0 1.02-.2 1.41-.59l7.78-7.78 2.81-2.81c.8-.78.8-2.07 0-2.86zM5.41 20L4 18.59l7.72-7.72 1.47 1.35L5.41 20z\"/>\n",
              "  </svg>\n",
              "      </button>\n",
              "      \n",
              "  <style>\n",
              "    .colab-df-container {\n",
              "      display:flex;\n",
              "      flex-wrap:wrap;\n",
              "      gap: 12px;\n",
              "    }\n",
              "\n",
              "    .colab-df-convert {\n",
              "      background-color: #E8F0FE;\n",
              "      border: none;\n",
              "      border-radius: 50%;\n",
              "      cursor: pointer;\n",
              "      display: none;\n",
              "      fill: #1967D2;\n",
              "      height: 32px;\n",
              "      padding: 0 0 0 0;\n",
              "      width: 32px;\n",
              "    }\n",
              "\n",
              "    .colab-df-convert:hover {\n",
              "      background-color: #E2EBFA;\n",
              "      box-shadow: 0px 1px 2px rgba(60, 64, 67, 0.3), 0px 1px 3px 1px rgba(60, 64, 67, 0.15);\n",
              "      fill: #174EA6;\n",
              "    }\n",
              "\n",
              "    [theme=dark] .colab-df-convert {\n",
              "      background-color: #3B4455;\n",
              "      fill: #D2E3FC;\n",
              "    }\n",
              "\n",
              "    [theme=dark] .colab-df-convert:hover {\n",
              "      background-color: #434B5C;\n",
              "      box-shadow: 0px 1px 3px 1px rgba(0, 0, 0, 0.15);\n",
              "      filter: drop-shadow(0px 1px 2px rgba(0, 0, 0, 0.3));\n",
              "      fill: #FFFFFF;\n",
              "    }\n",
              "  </style>\n",
              "\n",
              "      <script>\n",
              "        const buttonEl =\n",
              "          document.querySelector('#df-9ba3e2c8-9af2-4afc-8325-6ba18a029aa7 button.colab-df-convert');\n",
              "        buttonEl.style.display =\n",
              "          google.colab.kernel.accessAllowed ? 'block' : 'none';\n",
              "\n",
              "        async function convertToInteractive(key) {\n",
              "          const element = document.querySelector('#df-9ba3e2c8-9af2-4afc-8325-6ba18a029aa7');\n",
              "          const dataTable =\n",
              "            await google.colab.kernel.invokeFunction('convertToInteractive',\n",
              "                                                     [key], {});\n",
              "          if (!dataTable) return;\n",
              "\n",
              "          const docLinkHtml = 'Like what you see? Visit the ' +\n",
              "            '<a target=\"_blank\" href=https://colab.research.google.com/notebooks/data_table.ipynb>data table notebook</a>'\n",
              "            + ' to learn more about interactive tables.';\n",
              "          element.innerHTML = '';\n",
              "          dataTable['output_type'] = 'display_data';\n",
              "          await google.colab.output.renderOutput(dataTable, element);\n",
              "          const docLink = document.createElement('div');\n",
              "          docLink.innerHTML = docLinkHtml;\n",
              "          element.appendChild(docLink);\n",
              "        }\n",
              "      </script>\n",
              "    </div>\n",
              "  </div>\n",
              "  "
            ]
          },
          "metadata": {},
          "execution_count": 39
        }
      ]
    },
    {
      "cell_type": "markdown",
      "source": [
        "# Data Cleaning (Cleansing)"
      ],
      "metadata": {
        "id": "CeIUeoAx0Sbn"
      }
    },
    {
      "cell_type": "markdown",
      "source": [
        "problems with data can vary according to the task and the dataset, in general it is something like : Inconsistent column names, irrelevant columns, missing values, outliers, duplicate rows, the data types, unexpected values in columns.\n",
        "\n",
        "as we don't have any missing values, we should check our data for duplicate values (rows) and removing outliers from our data, sepcially considering all the columns in order to detect duplication."
      ],
      "metadata": {
        "id": "ZPSTtBlv38b7"
      }
    },
    {
      "cell_type": "markdown",
      "source": [
        "### Duplicate Records Processing"
      ],
      "metadata": {
        "id": "iNakBoiV4yMW"
      }
    },
    {
      "cell_type": "code",
      "source": [
        "duplicated = df[df.duplicated()]\n",
        "print(\"Number of duplicated records in dataset =\", len(duplicated))"
      ],
      "metadata": {
        "colab": {
          "base_uri": "https://localhost:8080/"
        },
        "id": "kcKevH6A0U6_",
        "outputId": "42cd3a75-7684-4987-f376-971eb78752b2"
      },
      "execution_count": null,
      "outputs": [
        {
          "output_type": "stream",
          "name": "stdout",
          "text": [
            "Number of duplicated records in dataset = 3361\n"
          ]
        }
      ]
    },
    {
      "cell_type": "code",
      "source": [
        "# print the first five rows\n",
        "duplicated.head()"
      ],
      "metadata": {
        "colab": {
          "base_uri": "https://localhost:8080/",
          "height": 206
        },
        "id": "GTO9sAe4P5in",
        "outputId": "49e837fb-b08e-497d-9bb3-1b42b13f2ffd"
      },
      "execution_count": null,
      "outputs": [
        {
          "output_type": "execute_result",
          "data": {
            "text/plain": [
              "    fps_mean  fps_std  rtt_mean  rtt_std  dropped_frames_mean  \\\n",
              "31      30.0      0.0      82.0      0.0                  0.0   \n",
              "32      30.0      0.0      82.0      0.0                  0.0   \n",
              "33      30.0      0.0      82.0      0.0                  0.0   \n",
              "34      30.0      0.0      82.0      0.0                  0.0   \n",
              "35      30.0      0.0      82.0      0.0                  0.0   \n",
              "\n",
              "    dropped_frames_std  dropped_frames_max  bitrate_mean  bitrate_std  target  \n",
              "31                 0.0                 0.0         575.0          0.0   575.0  \n",
              "32                 0.0                 0.0         575.0          0.0   575.0  \n",
              "33                 0.0                 0.0         575.0          0.0   575.0  \n",
              "34                 0.0                 0.0         575.0          0.0   575.0  \n",
              "35                 0.0                 0.0         575.0          0.0   575.0  "
            ],
            "text/html": [
              "\n",
              "  <div id=\"df-be629778-33a9-4a6f-87ef-639d7ec602d0\">\n",
              "    <div class=\"colab-df-container\">\n",
              "      <div>\n",
              "<style scoped>\n",
              "    .dataframe tbody tr th:only-of-type {\n",
              "        vertical-align: middle;\n",
              "    }\n",
              "\n",
              "    .dataframe tbody tr th {\n",
              "        vertical-align: top;\n",
              "    }\n",
              "\n",
              "    .dataframe thead th {\n",
              "        text-align: right;\n",
              "    }\n",
              "</style>\n",
              "<table border=\"1\" class=\"dataframe\">\n",
              "  <thead>\n",
              "    <tr style=\"text-align: right;\">\n",
              "      <th></th>\n",
              "      <th>fps_mean</th>\n",
              "      <th>fps_std</th>\n",
              "      <th>rtt_mean</th>\n",
              "      <th>rtt_std</th>\n",
              "      <th>dropped_frames_mean</th>\n",
              "      <th>dropped_frames_std</th>\n",
              "      <th>dropped_frames_max</th>\n",
              "      <th>bitrate_mean</th>\n",
              "      <th>bitrate_std</th>\n",
              "      <th>target</th>\n",
              "    </tr>\n",
              "  </thead>\n",
              "  <tbody>\n",
              "    <tr>\n",
              "      <th>31</th>\n",
              "      <td>30.0</td>\n",
              "      <td>0.0</td>\n",
              "      <td>82.0</td>\n",
              "      <td>0.0</td>\n",
              "      <td>0.0</td>\n",
              "      <td>0.0</td>\n",
              "      <td>0.0</td>\n",
              "      <td>575.0</td>\n",
              "      <td>0.0</td>\n",
              "      <td>575.0</td>\n",
              "    </tr>\n",
              "    <tr>\n",
              "      <th>32</th>\n",
              "      <td>30.0</td>\n",
              "      <td>0.0</td>\n",
              "      <td>82.0</td>\n",
              "      <td>0.0</td>\n",
              "      <td>0.0</td>\n",
              "      <td>0.0</td>\n",
              "      <td>0.0</td>\n",
              "      <td>575.0</td>\n",
              "      <td>0.0</td>\n",
              "      <td>575.0</td>\n",
              "    </tr>\n",
              "    <tr>\n",
              "      <th>33</th>\n",
              "      <td>30.0</td>\n",
              "      <td>0.0</td>\n",
              "      <td>82.0</td>\n",
              "      <td>0.0</td>\n",
              "      <td>0.0</td>\n",
              "      <td>0.0</td>\n",
              "      <td>0.0</td>\n",
              "      <td>575.0</td>\n",
              "      <td>0.0</td>\n",
              "      <td>575.0</td>\n",
              "    </tr>\n",
              "    <tr>\n",
              "      <th>34</th>\n",
              "      <td>30.0</td>\n",
              "      <td>0.0</td>\n",
              "      <td>82.0</td>\n",
              "      <td>0.0</td>\n",
              "      <td>0.0</td>\n",
              "      <td>0.0</td>\n",
              "      <td>0.0</td>\n",
              "      <td>575.0</td>\n",
              "      <td>0.0</td>\n",
              "      <td>575.0</td>\n",
              "    </tr>\n",
              "    <tr>\n",
              "      <th>35</th>\n",
              "      <td>30.0</td>\n",
              "      <td>0.0</td>\n",
              "      <td>82.0</td>\n",
              "      <td>0.0</td>\n",
              "      <td>0.0</td>\n",
              "      <td>0.0</td>\n",
              "      <td>0.0</td>\n",
              "      <td>575.0</td>\n",
              "      <td>0.0</td>\n",
              "      <td>575.0</td>\n",
              "    </tr>\n",
              "  </tbody>\n",
              "</table>\n",
              "</div>\n",
              "      <button class=\"colab-df-convert\" onclick=\"convertToInteractive('df-be629778-33a9-4a6f-87ef-639d7ec602d0')\"\n",
              "              title=\"Convert this dataframe to an interactive table.\"\n",
              "              style=\"display:none;\">\n",
              "        \n",
              "  <svg xmlns=\"http://www.w3.org/2000/svg\" height=\"24px\"viewBox=\"0 0 24 24\"\n",
              "       width=\"24px\">\n",
              "    <path d=\"M0 0h24v24H0V0z\" fill=\"none\"/>\n",
              "    <path d=\"M18.56 5.44l.94 2.06.94-2.06 2.06-.94-2.06-.94-.94-2.06-.94 2.06-2.06.94zm-11 1L8.5 8.5l.94-2.06 2.06-.94-2.06-.94L8.5 2.5l-.94 2.06-2.06.94zm10 10l.94 2.06.94-2.06 2.06-.94-2.06-.94-.94-2.06-.94 2.06-2.06.94z\"/><path d=\"M17.41 7.96l-1.37-1.37c-.4-.4-.92-.59-1.43-.59-.52 0-1.04.2-1.43.59L10.3 9.45l-7.72 7.72c-.78.78-.78 2.05 0 2.83L4 21.41c.39.39.9.59 1.41.59.51 0 1.02-.2 1.41-.59l7.78-7.78 2.81-2.81c.8-.78.8-2.07 0-2.86zM5.41 20L4 18.59l7.72-7.72 1.47 1.35L5.41 20z\"/>\n",
              "  </svg>\n",
              "      </button>\n",
              "      \n",
              "  <style>\n",
              "    .colab-df-container {\n",
              "      display:flex;\n",
              "      flex-wrap:wrap;\n",
              "      gap: 12px;\n",
              "    }\n",
              "\n",
              "    .colab-df-convert {\n",
              "      background-color: #E8F0FE;\n",
              "      border: none;\n",
              "      border-radius: 50%;\n",
              "      cursor: pointer;\n",
              "      display: none;\n",
              "      fill: #1967D2;\n",
              "      height: 32px;\n",
              "      padding: 0 0 0 0;\n",
              "      width: 32px;\n",
              "    }\n",
              "\n",
              "    .colab-df-convert:hover {\n",
              "      background-color: #E2EBFA;\n",
              "      box-shadow: 0px 1px 2px rgba(60, 64, 67, 0.3), 0px 1px 3px 1px rgba(60, 64, 67, 0.15);\n",
              "      fill: #174EA6;\n",
              "    }\n",
              "\n",
              "    [theme=dark] .colab-df-convert {\n",
              "      background-color: #3B4455;\n",
              "      fill: #D2E3FC;\n",
              "    }\n",
              "\n",
              "    [theme=dark] .colab-df-convert:hover {\n",
              "      background-color: #434B5C;\n",
              "      box-shadow: 0px 1px 3px 1px rgba(0, 0, 0, 0.15);\n",
              "      filter: drop-shadow(0px 1px 2px rgba(0, 0, 0, 0.3));\n",
              "      fill: #FFFFFF;\n",
              "    }\n",
              "  </style>\n",
              "\n",
              "      <script>\n",
              "        const buttonEl =\n",
              "          document.querySelector('#df-be629778-33a9-4a6f-87ef-639d7ec602d0 button.colab-df-convert');\n",
              "        buttonEl.style.display =\n",
              "          google.colab.kernel.accessAllowed ? 'block' : 'none';\n",
              "\n",
              "        async function convertToInteractive(key) {\n",
              "          const element = document.querySelector('#df-be629778-33a9-4a6f-87ef-639d7ec602d0');\n",
              "          const dataTable =\n",
              "            await google.colab.kernel.invokeFunction('convertToInteractive',\n",
              "                                                     [key], {});\n",
              "          if (!dataTable) return;\n",
              "\n",
              "          const docLinkHtml = 'Like what you see? Visit the ' +\n",
              "            '<a target=\"_blank\" href=https://colab.research.google.com/notebooks/data_table.ipynb>data table notebook</a>'\n",
              "            + ' to learn more about interactive tables.';\n",
              "          element.innerHTML = '';\n",
              "          dataTable['output_type'] = 'display_data';\n",
              "          await google.colab.output.renderOutput(dataTable, element);\n",
              "          const docLink = document.createElement('div');\n",
              "          docLink.innerHTML = docLinkHtml;\n",
              "          element.appendChild(docLink);\n",
              "        }\n",
              "      </script>\n",
              "    </div>\n",
              "  </div>\n",
              "  "
            ]
          },
          "metadata": {},
          "execution_count": 7
        }
      ]
    },
    {
      "cell_type": "code",
      "source": [
        "# print the last five rows\n",
        "duplicated.tail()"
      ],
      "metadata": {
        "colab": {
          "base_uri": "https://localhost:8080/",
          "height": 206
        },
        "id": "iieyqqouQRWP",
        "outputId": "a638c429-d060-4b11-f00f-6252b63f5718"
      },
      "execution_count": null,
      "outputs": [
        {
          "output_type": "execute_result",
          "data": {
            "text/plain": [
              "        fps_mean  fps_std  rtt_mean  rtt_std  dropped_frames_mean  \\\n",
              "378677      53.0      0.0       0.0      0.0                  0.0   \n",
              "378678      53.0      0.0       0.0      0.0                  0.0   \n",
              "378679      53.0      0.0       0.0      0.0                  0.0   \n",
              "378680      53.0      0.0       0.0      0.0                  0.0   \n",
              "378681      53.0      0.0       0.0      0.0                  0.0   \n",
              "\n",
              "        dropped_frames_std  dropped_frames_max  bitrate_mean  bitrate_std  \\\n",
              "378677                 0.0                 0.0        1580.0          0.0   \n",
              "378678                 0.0                 0.0        1580.0          0.0   \n",
              "378679                 0.0                 0.0        1580.0          0.0   \n",
              "378680                 0.0                 0.0        1580.0          0.0   \n",
              "378681                 0.0                 0.0        1580.0          0.0   \n",
              "\n",
              "        target  \n",
              "378677  1580.0  \n",
              "378678  1580.0  \n",
              "378679  1580.0  \n",
              "378680  1580.0  \n",
              "378681  1580.0  "
            ],
            "text/html": [
              "\n",
              "  <div id=\"df-0e00219a-c54e-4eca-b645-b0524da932ad\">\n",
              "    <div class=\"colab-df-container\">\n",
              "      <div>\n",
              "<style scoped>\n",
              "    .dataframe tbody tr th:only-of-type {\n",
              "        vertical-align: middle;\n",
              "    }\n",
              "\n",
              "    .dataframe tbody tr th {\n",
              "        vertical-align: top;\n",
              "    }\n",
              "\n",
              "    .dataframe thead th {\n",
              "        text-align: right;\n",
              "    }\n",
              "</style>\n",
              "<table border=\"1\" class=\"dataframe\">\n",
              "  <thead>\n",
              "    <tr style=\"text-align: right;\">\n",
              "      <th></th>\n",
              "      <th>fps_mean</th>\n",
              "      <th>fps_std</th>\n",
              "      <th>rtt_mean</th>\n",
              "      <th>rtt_std</th>\n",
              "      <th>dropped_frames_mean</th>\n",
              "      <th>dropped_frames_std</th>\n",
              "      <th>dropped_frames_max</th>\n",
              "      <th>bitrate_mean</th>\n",
              "      <th>bitrate_std</th>\n",
              "      <th>target</th>\n",
              "    </tr>\n",
              "  </thead>\n",
              "  <tbody>\n",
              "    <tr>\n",
              "      <th>378677</th>\n",
              "      <td>53.0</td>\n",
              "      <td>0.0</td>\n",
              "      <td>0.0</td>\n",
              "      <td>0.0</td>\n",
              "      <td>0.0</td>\n",
              "      <td>0.0</td>\n",
              "      <td>0.0</td>\n",
              "      <td>1580.0</td>\n",
              "      <td>0.0</td>\n",
              "      <td>1580.0</td>\n",
              "    </tr>\n",
              "    <tr>\n",
              "      <th>378678</th>\n",
              "      <td>53.0</td>\n",
              "      <td>0.0</td>\n",
              "      <td>0.0</td>\n",
              "      <td>0.0</td>\n",
              "      <td>0.0</td>\n",
              "      <td>0.0</td>\n",
              "      <td>0.0</td>\n",
              "      <td>1580.0</td>\n",
              "      <td>0.0</td>\n",
              "      <td>1580.0</td>\n",
              "    </tr>\n",
              "    <tr>\n",
              "      <th>378679</th>\n",
              "      <td>53.0</td>\n",
              "      <td>0.0</td>\n",
              "      <td>0.0</td>\n",
              "      <td>0.0</td>\n",
              "      <td>0.0</td>\n",
              "      <td>0.0</td>\n",
              "      <td>0.0</td>\n",
              "      <td>1580.0</td>\n",
              "      <td>0.0</td>\n",
              "      <td>1580.0</td>\n",
              "    </tr>\n",
              "    <tr>\n",
              "      <th>378680</th>\n",
              "      <td>53.0</td>\n",
              "      <td>0.0</td>\n",
              "      <td>0.0</td>\n",
              "      <td>0.0</td>\n",
              "      <td>0.0</td>\n",
              "      <td>0.0</td>\n",
              "      <td>0.0</td>\n",
              "      <td>1580.0</td>\n",
              "      <td>0.0</td>\n",
              "      <td>1580.0</td>\n",
              "    </tr>\n",
              "    <tr>\n",
              "      <th>378681</th>\n",
              "      <td>53.0</td>\n",
              "      <td>0.0</td>\n",
              "      <td>0.0</td>\n",
              "      <td>0.0</td>\n",
              "      <td>0.0</td>\n",
              "      <td>0.0</td>\n",
              "      <td>0.0</td>\n",
              "      <td>1580.0</td>\n",
              "      <td>0.0</td>\n",
              "      <td>1580.0</td>\n",
              "    </tr>\n",
              "  </tbody>\n",
              "</table>\n",
              "</div>\n",
              "      <button class=\"colab-df-convert\" onclick=\"convertToInteractive('df-0e00219a-c54e-4eca-b645-b0524da932ad')\"\n",
              "              title=\"Convert this dataframe to an interactive table.\"\n",
              "              style=\"display:none;\">\n",
              "        \n",
              "  <svg xmlns=\"http://www.w3.org/2000/svg\" height=\"24px\"viewBox=\"0 0 24 24\"\n",
              "       width=\"24px\">\n",
              "    <path d=\"M0 0h24v24H0V0z\" fill=\"none\"/>\n",
              "    <path d=\"M18.56 5.44l.94 2.06.94-2.06 2.06-.94-2.06-.94-.94-2.06-.94 2.06-2.06.94zm-11 1L8.5 8.5l.94-2.06 2.06-.94-2.06-.94L8.5 2.5l-.94 2.06-2.06.94zm10 10l.94 2.06.94-2.06 2.06-.94-2.06-.94-.94-2.06-.94 2.06-2.06.94z\"/><path d=\"M17.41 7.96l-1.37-1.37c-.4-.4-.92-.59-1.43-.59-.52 0-1.04.2-1.43.59L10.3 9.45l-7.72 7.72c-.78.78-.78 2.05 0 2.83L4 21.41c.39.39.9.59 1.41.59.51 0 1.02-.2 1.41-.59l7.78-7.78 2.81-2.81c.8-.78.8-2.07 0-2.86zM5.41 20L4 18.59l7.72-7.72 1.47 1.35L5.41 20z\"/>\n",
              "  </svg>\n",
              "      </button>\n",
              "      \n",
              "  <style>\n",
              "    .colab-df-container {\n",
              "      display:flex;\n",
              "      flex-wrap:wrap;\n",
              "      gap: 12px;\n",
              "    }\n",
              "\n",
              "    .colab-df-convert {\n",
              "      background-color: #E8F0FE;\n",
              "      border: none;\n",
              "      border-radius: 50%;\n",
              "      cursor: pointer;\n",
              "      display: none;\n",
              "      fill: #1967D2;\n",
              "      height: 32px;\n",
              "      padding: 0 0 0 0;\n",
              "      width: 32px;\n",
              "    }\n",
              "\n",
              "    .colab-df-convert:hover {\n",
              "      background-color: #E2EBFA;\n",
              "      box-shadow: 0px 1px 2px rgba(60, 64, 67, 0.3), 0px 1px 3px 1px rgba(60, 64, 67, 0.15);\n",
              "      fill: #174EA6;\n",
              "    }\n",
              "\n",
              "    [theme=dark] .colab-df-convert {\n",
              "      background-color: #3B4455;\n",
              "      fill: #D2E3FC;\n",
              "    }\n",
              "\n",
              "    [theme=dark] .colab-df-convert:hover {\n",
              "      background-color: #434B5C;\n",
              "      box-shadow: 0px 1px 3px 1px rgba(0, 0, 0, 0.15);\n",
              "      filter: drop-shadow(0px 1px 2px rgba(0, 0, 0, 0.3));\n",
              "      fill: #FFFFFF;\n",
              "    }\n",
              "  </style>\n",
              "\n",
              "      <script>\n",
              "        const buttonEl =\n",
              "          document.querySelector('#df-0e00219a-c54e-4eca-b645-b0524da932ad button.colab-df-convert');\n",
              "        buttonEl.style.display =\n",
              "          google.colab.kernel.accessAllowed ? 'block' : 'none';\n",
              "\n",
              "        async function convertToInteractive(key) {\n",
              "          const element = document.querySelector('#df-0e00219a-c54e-4eca-b645-b0524da932ad');\n",
              "          const dataTable =\n",
              "            await google.colab.kernel.invokeFunction('convertToInteractive',\n",
              "                                                     [key], {});\n",
              "          if (!dataTable) return;\n",
              "\n",
              "          const docLinkHtml = 'Like what you see? Visit the ' +\n",
              "            '<a target=\"_blank\" href=https://colab.research.google.com/notebooks/data_table.ipynb>data table notebook</a>'\n",
              "            + ' to learn more about interactive tables.';\n",
              "          element.innerHTML = '';\n",
              "          dataTable['output_type'] = 'display_data';\n",
              "          await google.colab.output.renderOutput(dataTable, element);\n",
              "          const docLink = document.createElement('div');\n",
              "          docLink.innerHTML = docLinkHtml;\n",
              "          element.appendChild(docLink);\n",
              "        }\n",
              "      </script>\n",
              "    </div>\n",
              "  </div>\n",
              "  "
            ]
          },
          "metadata": {},
          "execution_count": 8
        }
      ]
    },
    {
      "cell_type": "code",
      "source": [
        "# Remove duplicated records from our dataset, keeping only the first instance\n",
        "print(\"Number of rows before removing duplicate records =\", len(df))\n",
        "df.drop_duplicates(keep = \"first\", inplace = True)\n",
        "print(\"Number of rows after removing duplicate records =\", len(df))"
      ],
      "metadata": {
        "colab": {
          "base_uri": "https://localhost:8080/"
        },
        "id": "C9axORNWP-1k",
        "outputId": "6bf6e1e3-3859-468b-a7d6-63329fe9df92"
      },
      "execution_count": null,
      "outputs": [
        {
          "output_type": "stream",
          "name": "stdout",
          "text": [
            "Number of rows before removing duplicate records = 379021\n",
            "Number of rows after removing duplicate records = 375660\n"
          ]
        }
      ]
    },
    {
      "cell_type": "markdown",
      "source": [
        "### Removing Outliers"
      ],
      "metadata": {
        "id": "f3LmRZXfQ6ul"
      }
    },
    {
      "cell_type": "markdown",
      "source": [
        "Before removing outliers we should only check if our data contains any outliers, based on our past analysis of the data it seems that the dataset contains outliers, we should consider do more analysis to be suer that those extrem values could be considered as outliers.\n",
        "\n",
        "As we have a skewed distributions for most of our features, we shall used IQR or Percentile method to detect outliers, then based on the number of those points we decide how to deal with them either by trimming, Capping or Binning."
      ],
      "metadata": {
        "id": "Uu0lKGuCRI_Z"
      }
    },
    {
      "cell_type": "code",
      "source": [
        "df.columns"
      ],
      "metadata": {
        "colab": {
          "base_uri": "https://localhost:8080/"
        },
        "id": "fiSsZbDzT4U1",
        "outputId": "2e4adef8-fb69-4f81-a268-bb69619248d6"
      },
      "execution_count": null,
      "outputs": [
        {
          "output_type": "execute_result",
          "data": {
            "text/plain": [
              "Index(['fps_mean', 'fps_std', 'rtt_mean', 'rtt_std', 'dropped_frames_mean',\n",
              "       'dropped_frames_std', 'dropped_frames_max', 'bitrate_mean',\n",
              "       'bitrate_std', 'target'],\n",
              "      dtype='object')"
            ]
          },
          "metadata": {},
          "execution_count": 45
        }
      ]
    },
    {
      "cell_type": "code",
      "source": [
        "def plot_boxplot(feature):\n",
        "  sns.boxplot(df[feature])\n",
        "  plt.show()"
      ],
      "metadata": {
        "id": "bzwHloZbT6aG"
      },
      "execution_count": null,
      "outputs": []
    },
    {
      "cell_type": "code",
      "source": [
        "plot_boxplot(\"fps_mean\")"
      ],
      "metadata": {
        "colab": {
          "base_uri": "https://localhost:8080/"
        },
        "id": "LYk81eQEQ9B-",
        "outputId": "86c0fd43-0be1-4205-835f-132ed1b29818"
      },
      "execution_count": null,
      "outputs": [
        {
          "output_type": "display_data",
          "data": {
            "text/plain": [
              "<Figure size 432x288 with 1 Axes>"
            ],
            "image/png": "[encoded data removed]"
          },
          "metadata": {
            "needs_background": "light"
          }
        }
      ]
    },
    {
      "cell_type": "code",
      "source": [
        "plot_boxplot(\"fps_std\")"
      ],
      "metadata": {
        "colab": {
          "base_uri": "https://localhost:8080/"
        },
        "id": "e66pOTKpUEsh",
        "outputId": "a949f531-21e3-4121-db02-dff455257334"
      },
      "execution_count": null,
      "outputs": [
        {
          "output_type": "display_data",
          "data": {
            "text/plain": [
              "<Figure size 432x288 with 1 Axes>"
            ],
            "image/png": "[encoded data removed]"
          },
          "metadata": {
            "needs_background": "light"
          }
        }
      ]
    },
    {
      "cell_type": "code",
      "source": [
        "plot_boxplot(\"rtt_mean\")"
      ],
      "metadata": {
        "colab": {
          "base_uri": "https://localhost:8080/"
        },
        "id": "JZ7X5Yx0UFri",
        "outputId": "bb4d4b2f-2e1f-4e43-d677-0e6c86de5df7"
      },
      "execution_count": null,
      "outputs": [
        {
          "output_type": "display_data",
          "data": {
            "text/plain": [
              "<Figure size 432x288 with 1 Axes>"
            ],
            "image/png": "[encoded data removed]"
          },
          "metadata": {
            "needs_background": "light"
          }
        }
      ]
    },
    {
      "cell_type": "code",
      "source": [
        "plot_boxplot(\"rtt_std\")"
      ],
      "metadata": {
        "colab": {
          "base_uri": "https://localhost:8080/"
        },
        "id": "UqqpV3jTUK0T",
        "outputId": "1d11512f-e450-48b8-fe5e-38e26ab9dcbf"
      },
      "execution_count": null,
      "outputs": [
        {
          "output_type": "display_data",
          "data": {
            "text/plain": [
              "<Figure size 432x288 with 1 Axes>"
            ],
            "image/png": "[encoded data removed]"
          },
          "metadata": {
            "needs_background": "light"
          }
        }
      ]
    },
    {
      "cell_type": "code",
      "source": [
        "plot_boxplot(\"dropped_frames_mean\")"
      ],
      "metadata": {
        "colab": {
          "base_uri": "https://localhost:8080/"
        },
        "id": "ZSbdOPP2UM8p",
        "outputId": "719bcfc5-b45f-4238-cdf5-b7f452bd5507"
      },
      "execution_count": null,
      "outputs": [
        {
          "output_type": "display_data",
          "data": {
            "text/plain": [
              "<Figure size 432x288 with 1 Axes>"
            ],
            "image/png": "[encoded data removed]"
          },
          "metadata": {
            "needs_background": "light"
          }
        }
      ]
    },
    {
      "cell_type": "code",
      "source": [
        "plot_boxplot(\"dropped_frames_std\")"
      ],
      "metadata": {
        "colab": {
          "base_uri": "https://localhost:8080/"
        },
        "id": "Ly-MLPprUYNF",
        "outputId": "60d45b0b-1949-4614-980e-51bfa0b6c5a4"
      },
      "execution_count": null,
      "outputs": [
        {
          "output_type": "display_data",
          "data": {
            "text/plain": [
              "<Figure size 432x288 with 1 Axes>"
            ],
            "image/png": "[encoded data removed]"
          },
          "metadata": {
            "needs_background": "light"
          }
        }
      ]
    },
    {
      "cell_type": "code",
      "source": [
        "plot_boxplot(\"dropped_frames_max\")"
      ],
      "metadata": {
        "colab": {
          "base_uri": "https://localhost:8080/"
        },
        "id": "4nc5xPD-UaKU",
        "outputId": "256a509b-2dc0-4b0c-bff7-ee0c090de247"
      },
      "execution_count": null,
      "outputs": [
        {
          "output_type": "display_data",
          "data": {
            "text/plain": [
              "<Figure size 432x288 with 1 Axes>"
            ],
            "image/png": "[encoded data removed]"
          },
          "metadata": {
            "needs_background": "light"
          }
        }
      ]
    },
    {
      "cell_type": "code",
      "source": [
        "plot_boxplot(\"bitrate_mean\")"
      ],
      "metadata": {
        "colab": {
          "base_uri": "https://localhost:8080/"
        },
        "id": "bOaoym5UUbCm",
        "outputId": "bd5854ae-478d-469d-a76e-c0edb18ab344"
      },
      "execution_count": null,
      "outputs": [
        {
          "output_type": "display_data",
          "data": {
            "text/plain": [
              "<Figure size 432x288 with 1 Axes>"
            ],
            "image/png": "[encoded data removed]"
          },
          "metadata": {
            "needs_background": "light"
          }
        }
      ]
    },
    {
      "cell_type": "code",
      "source": [
        "plot_boxplot(\"bitrate_std\")"
      ],
      "metadata": {
        "colab": {
          "base_uri": "https://localhost:8080/"
        },
        "id": "UM2m5dhXUeBx",
        "outputId": "4181d1bc-afba-48bf-af8c-024da9a4c129"
      },
      "execution_count": null,
      "outputs": [
        {
          "output_type": "display_data",
          "data": {
            "text/plain": [
              "<Figure size 432x288 with 1 Axes>"
            ],
            "image/png": "[encoded data removed]"
          },
          "metadata": {
            "needs_background": "light"
          }
        }
      ]
    },
    {
      "cell_type": "markdown",
      "source": [
        "Based on our previous boxplot we can see that we have some outliers but not all points outside the whiskers to be considerd as outliers so we will relay on percentile method "
      ],
      "metadata": {
        "id": "LdREd7ykUhvV"
      }
    },
    {
      "cell_type": "code",
      "source": [
        "def number_of_outliers(feature, threshold = 0.99):\n",
        "  upper_limit = df[feature].quantile(threshold)\n",
        "  num_of_outliers = len(df) - len(df[(df[feature] <= upper_limit)])\n",
        "  print(f\"number of outliers in feature {feature} =\", num_of_outliers)"
      ],
      "metadata": {
        "id": "VoOKK0eoUhO8"
      },
      "execution_count": null,
      "outputs": []
    },
    {
      "cell_type": "code",
      "source": [
        "def get_upper_limit(feature, threshold = 0.99):\n",
        "    return df[feature].quantile(threshold)"
      ],
      "metadata": {
        "id": "9YglReq2YZDM"
      },
      "execution_count": null,
      "outputs": []
    },
    {
      "cell_type": "code",
      "source": [
        "number_of_outliers(\"fps_mean\")\n",
        "number_of_outliers(\"fps_std\")\n",
        "number_of_outliers(\"rtt_mean\")\n",
        "number_of_outliers(\"rtt_std\")\n",
        "number_of_outliers(\"dropped_frames_mean\")\n",
        "number_of_outliers(\"dropped_frames_std\")\n",
        "number_of_outliers(\"dropped_frames_max\")\n",
        "number_of_outliers(\"bitrate_mean\")\n",
        "number_of_outliers(\"bitrate_std\")"
      ],
      "metadata": {
        "colab": {
          "base_uri": "https://localhost:8080/"
        },
        "id": "w5Y4ftkBVW-C",
        "outputId": "d6a9096f-5cce-4f13-b46b-11ade6abf022"
      },
      "execution_count": null,
      "outputs": [
        {
          "output_type": "stream",
          "name": "stdout",
          "text": [
            "number of outliers in feature fps_mean = 2939\n",
            "number of outliers in feature fps_std = 3756\n",
            "number of outliers in feature rtt_mean = 3740\n",
            "number of outliers in feature rtt_std = 3757\n",
            "number of outliers in feature dropped_frames_mean = 3634\n",
            "number of outliers in feature dropped_frames_std = 3757\n",
            "number of outliers in feature dropped_frames_max = 3704\n",
            "number of outliers in feature bitrate_mean = 3757\n",
            "number of outliers in feature bitrate_std = 3757\n"
          ]
        }
      ]
    },
    {
      "cell_type": "code",
      "source": [
        "def remove_outliers(data):\n",
        "  for col in data.columns:\n",
        "    data = data[(data[col] <= get_upper_limit(col))]\n",
        "  return data"
      ],
      "metadata": {
        "id": "5K__hVJzYIMz"
      },
      "execution_count": null,
      "outputs": []
    },
    {
      "cell_type": "code",
      "source": [
        "before = len(df)\n",
        "print(\"Number of data points before removing outliers =\", len(df))"
      ],
      "metadata": {
        "colab": {
          "base_uri": "https://localhost:8080/"
        },
        "id": "L4LfEvp-YEKO",
        "outputId": "ea734ede-eb26-4829-e2df-b4e5c79a1f19"
      },
      "execution_count": null,
      "outputs": [
        {
          "output_type": "stream",
          "name": "stdout",
          "text": [
            "Number of data points before removing outliers = 375660\n"
          ]
        }
      ]
    },
    {
      "cell_type": "code",
      "source": [
        "df = remove_outliers(df)\n",
        "print(\"Number of data points after removing outliers =\", len(df))\n",
        "print(\"Number of removed data points =\", before - len(df))"
      ],
      "metadata": {
        "colab": {
          "base_uri": "https://localhost:8080/"
        },
        "id": "a7xN5_WkYquH",
        "outputId": "093920a5-9c2b-49f4-d8a9-4687dc2eb963"
      },
      "execution_count": null,
      "outputs": [
        {
          "output_type": "stream",
          "name": "stdout",
          "text": [
            "Number of data points after removing outliers = 353774\n",
            "Number of removed data points = 21886\n"
          ]
        }
      ]
    },
    {
      "cell_type": "markdown",
      "source": [
        "Let's check the how our data descriptive statistcs now after removing abouyt 22K rows from it."
      ],
      "metadata": {
        "id": "Xbv0hFgMZOGj"
      }
    },
    {
      "cell_type": "code",
      "source": [
        "df.describe().T"
      ],
      "metadata": {
        "colab": {
          "base_uri": "https://localhost:8080/"
        },
        "id": "f-GklBIMZWjD",
        "outputId": "5ebd5478-6d71-4367-de15-0d49f7dc9d6f"
      },
      "execution_count": null,
      "outputs": [
        {
          "output_type": "execute_result",
          "data": {
            "text/plain": [
              "                        count         mean          std   min          25%  \\\n",
              "fps_mean             353774.0    34.696748    10.591439  10.0    28.800000   \n",
              "fps_std              353774.0     1.521046     1.852292   0.0     0.316228   \n",
              "rtt_mean             353774.0    43.380973    46.462859   0.0    14.000000   \n",
              "rtt_std              353774.0     6.235691    15.000111   0.0     0.699206   \n",
              "dropped_frames_mean  353774.0     0.058971     0.499988   0.0     0.000000   \n",
              "dropped_frames_std   353774.0     0.185120     1.570918   0.0     0.000000   \n",
              "dropped_frames_max   353774.0     0.584636     4.961235   0.0     0.000000   \n",
              "bitrate_mean         353774.0  7233.218539  5537.545315   0.0  2775.400000   \n",
              "bitrate_std          353774.0  1501.151688  1464.380657   0.0   385.786466   \n",
              "target               353774.0  7245.350040  5521.320357   0.0  2799.000000   \n",
              "\n",
              "                             50%           75%           max  \n",
              "fps_mean               30.000000     42.200000     59.900000  \n",
              "fps_std                 0.918937      2.118700     11.720827  \n",
              "rtt_mean               31.500000     53.400000    303.800000  \n",
              "rtt_std                 1.429841      4.709329    180.764703  \n",
              "dropped_frames_mean     0.000000      0.000000      6.400000  \n",
              "dropped_frames_std      0.000000      0.000000     18.973666  \n",
              "dropped_frames_max      0.000000      0.000000     60.000000  \n",
              "bitrate_mean         6221.100000  10091.200000  26122.900000  \n",
              "bitrate_std          1089.308042   2155.897501   7888.431336  \n",
              "target               6243.000000  10101.000000  26116.000000  "
            ],
            "text/html": [
              "\n",
              "  <div id=\"df-28ae2b32-b2c0-4ccc-814a-b16a65a9cd34\">\n",
              "    <div class=\"colab-df-container\">\n",
              "      <div>\n",
              "<style scoped>\n",
              "    .dataframe tbody tr th:only-of-type {\n",
              "        vertical-align: middle;\n",
              "    }\n",
              "\n",
              "    .dataframe tbody tr th {\n",
              "        vertical-align: top;\n",
              "    }\n",
              "\n",
              "    .dataframe thead th {\n",
              "        text-align: right;\n",
              "    }\n",
              "</style>\n",
              "<table border=\"1\" class=\"dataframe\">\n",
              "  <thead>\n",
              "    <tr style=\"text-align: right;\">\n",
              "      <th></th>\n",
              "      <th>count</th>\n",
              "      <th>mean</th>\n",
              "      <th>std</th>\n",
              "      <th>min</th>\n",
              "      <th>25%</th>\n",
              "      <th>50%</th>\n",
              "      <th>75%</th>\n",
              "      <th>max</th>\n",
              "    </tr>\n",
              "  </thead>\n",
              "  <tbody>\n",
              "    <tr>\n",
              "      <th>fps_mean</th>\n",
              "      <td>353774.0</td>\n",
              "      <td>34.696748</td>\n",
              "      <td>10.591439</td>\n",
              "      <td>10.0</td>\n",
              "      <td>28.800000</td>\n",
              "      <td>30.000000</td>\n",
              "      <td>42.200000</td>\n",
              "      <td>59.900000</td>\n",
              "    </tr>\n",
              "    <tr>\n",
              "      <th>fps_std</th>\n",
              "      <td>353774.0</td>\n",
              "      <td>1.521046</td>\n",
              "      <td>1.852292</td>\n",
              "      <td>0.0</td>\n",
              "      <td>0.316228</td>\n",
              "      <td>0.918937</td>\n",
              "      <td>2.118700</td>\n",
              "      <td>11.720827</td>\n",
              "    </tr>\n",
              "    <tr>\n",
              "      <th>rtt_mean</th>\n",
              "      <td>353774.0</td>\n",
              "      <td>43.380973</td>\n",
              "      <td>46.462859</td>\n",
              "      <td>0.0</td>\n",
              "      <td>14.000000</td>\n",
              "      <td>31.500000</td>\n",
              "      <td>53.400000</td>\n",
              "      <td>303.800000</td>\n",
              "    </tr>\n",
              "    <tr>\n",
              "      <th>rtt_std</th>\n",
              "      <td>353774.0</td>\n",
              "      <td>6.235691</td>\n",
              "      <td>15.000111</td>\n",
              "      <td>0.0</td>\n",
              "      <td>0.699206</td>\n",
              "      <td>1.429841</td>\n",
              "      <td>4.709329</td>\n",
              "      <td>180.764703</td>\n",
              "    </tr>\n",
              "    <tr>\n",
              "      <th>dropped_frames_mean</th>\n",
              "      <td>353774.0</td>\n",
              "      <td>0.058971</td>\n",
              "      <td>0.499988</td>\n",
              "      <td>0.0</td>\n",
              "      <td>0.000000</td>\n",
              "      <td>0.000000</td>\n",
              "      <td>0.000000</td>\n",
              "      <td>6.400000</td>\n",
              "    </tr>\n",
              "    <tr>\n",
              "      <th>dropped_frames_std</th>\n",
              "      <td>353774.0</td>\n",
              "      <td>0.185120</td>\n",
              "      <td>1.570918</td>\n",
              "      <td>0.0</td>\n",
              "      <td>0.000000</td>\n",
              "      <td>0.000000</td>\n",
              "      <td>0.000000</td>\n",
              "      <td>18.973666</td>\n",
              "    </tr>\n",
              "    <tr>\n",
              "      <th>dropped_frames_max</th>\n",
              "      <td>353774.0</td>\n",
              "      <td>0.584636</td>\n",
              "      <td>4.961235</td>\n",
              "      <td>0.0</td>\n",
              "      <td>0.000000</td>\n",
              "      <td>0.000000</td>\n",
              "      <td>0.000000</td>\n",
              "      <td>60.000000</td>\n",
              "    </tr>\n",
              "    <tr>\n",
              "      <th>bitrate_mean</th>\n",
              "      <td>353774.0</td>\n",
              "      <td>7233.218539</td>\n",
              "      <td>5537.545315</td>\n",
              "      <td>0.0</td>\n",
              "      <td>2775.400000</td>\n",
              "      <td>6221.100000</td>\n",
              "      <td>10091.200000</td>\n",
              "      <td>26122.900000</td>\n",
              "    </tr>\n",
              "    <tr>\n",
              "      <th>bitrate_std</th>\n",
              "      <td>353774.0</td>\n",
              "      <td>1501.151688</td>\n",
              "      <td>1464.380657</td>\n",
              "      <td>0.0</td>\n",
              "      <td>385.786466</td>\n",
              "      <td>1089.308042</td>\n",
              "      <td>2155.897501</td>\n",
              "      <td>7888.431336</td>\n",
              "    </tr>\n",
              "    <tr>\n",
              "      <th>target</th>\n",
              "      <td>353774.0</td>\n",
              "      <td>7245.350040</td>\n",
              "      <td>5521.320357</td>\n",
              "      <td>0.0</td>\n",
              "      <td>2799.000000</td>\n",
              "      <td>6243.000000</td>\n",
              "      <td>10101.000000</td>\n",
              "      <td>26116.000000</td>\n",
              "    </tr>\n",
              "  </tbody>\n",
              "</table>\n",
              "</div>\n",
              "      <button class=\"colab-df-convert\" onclick=\"convertToInteractive('df-28ae2b32-b2c0-4ccc-814a-b16a65a9cd34')\"\n",
              "              title=\"Convert this dataframe to an interactive table.\"\n",
              "              style=\"display:none;\">\n",
              "        \n",
              "  <svg xmlns=\"http://www.w3.org/2000/svg\" height=\"24px\"viewBox=\"0 0 24 24\"\n",
              "       width=\"24px\">\n",
              "    <path d=\"M0 0h24v24H0V0z\" fill=\"none\"/>\n",
              "    <path d=\"M18.56 5.44l.94 2.06.94-2.06 2.06-.94-2.06-.94-.94-2.06-.94 2.06-2.06.94zm-11 1L8.5 8.5l.94-2.06 2.06-.94-2.06-.94L8.5 2.5l-.94 2.06-2.06.94zm10 10l.94 2.06.94-2.06 2.06-.94-2.06-.94-.94-2.06-.94 2.06-2.06.94z\"/><path d=\"M17.41 7.96l-1.37-1.37c-.4-.4-.92-.59-1.43-.59-.52 0-1.04.2-1.43.59L10.3 9.45l-7.72 7.72c-.78.78-.78 2.05 0 2.83L4 21.41c.39.39.9.59 1.41.59.51 0 1.02-.2 1.41-.59l7.78-7.78 2.81-2.81c.8-.78.8-2.07 0-2.86zM5.41 20L4 18.59l7.72-7.72 1.47 1.35L5.41 20z\"/>\n",
              "  </svg>\n",
              "      </button>\n",
              "      \n",
              "  <style>\n",
              "    .colab-df-container {\n",
              "      display:flex;\n",
              "      flex-wrap:wrap;\n",
              "      gap: 12px;\n",
              "    }\n",
              "\n",
              "    .colab-df-convert {\n",
              "      background-color: #E8F0FE;\n",
              "      border: none;\n",
              "      border-radius: 50%;\n",
              "      cursor: pointer;\n",
              "      display: none;\n",
              "      fill: #1967D2;\n",
              "      height: 32px;\n",
              "      padding: 0 0 0 0;\n",
              "      width: 32px;\n",
              "    }\n",
              "\n",
              "    .colab-df-convert:hover {\n",
              "      background-color: #E2EBFA;\n",
              "      box-shadow: 0px 1px 2px rgba(60, 64, 67, 0.3), 0px 1px 3px 1px rgba(60, 64, 67, 0.15);\n",
              "      fill: #174EA6;\n",
              "    }\n",
              "\n",
              "    [theme=dark] .colab-df-convert {\n",
              "      background-color: #3B4455;\n",
              "      fill: #D2E3FC;\n",
              "    }\n",
              "\n",
              "    [theme=dark] .colab-df-convert:hover {\n",
              "      background-color: #434B5C;\n",
              "      box-shadow: 0px 1px 3px 1px rgba(0, 0, 0, 0.15);\n",
              "      filter: drop-shadow(0px 1px 2px rgba(0, 0, 0, 0.3));\n",
              "      fill: #FFFFFF;\n",
              "    }\n",
              "  </style>\n",
              "\n",
              "      <script>\n",
              "        const buttonEl =\n",
              "          document.querySelector('#df-28ae2b32-b2c0-4ccc-814a-b16a65a9cd34 button.colab-df-convert');\n",
              "        buttonEl.style.display =\n",
              "          google.colab.kernel.accessAllowed ? 'block' : 'none';\n",
              "\n",
              "        async function convertToInteractive(key) {\n",
              "          const element = document.querySelector('#df-28ae2b32-b2c0-4ccc-814a-b16a65a9cd34');\n",
              "          const dataTable =\n",
              "            await google.colab.kernel.invokeFunction('convertToInteractive',\n",
              "                                                     [key], {});\n",
              "          if (!dataTable) return;\n",
              "\n",
              "          const docLinkHtml = 'Like what you see? Visit the ' +\n",
              "            '<a target=\"_blank\" href=https://colab.research.google.com/notebooks/data_table.ipynb>data table notebook</a>'\n",
              "            + ' to learn more about interactive tables.';\n",
              "          element.innerHTML = '';\n",
              "          dataTable['output_type'] = 'display_data';\n",
              "          await google.colab.output.renderOutput(dataTable, element);\n",
              "          const docLink = document.createElement('div');\n",
              "          docLink.innerHTML = docLinkHtml;\n",
              "          element.appendChild(docLink);\n",
              "        }\n",
              "      </script>\n",
              "    </div>\n",
              "  </div>\n",
              "  "
            ]
          },
          "metadata": {},
          "execution_count": 62
        }
      ]
    },
    {
      "cell_type": "markdown",
      "source": [
        "# Data PreProcessing"
      ],
      "metadata": {
        "id": "VZrbbBHBZrdo"
      }
    },
    {
      "cell_type": "markdown",
      "source": [
        "As we saw earlier our data features has different scaler, so we neet to rescale the data we have to achieve better result and faster performance, but first thing first, we should split data into train and cross-validation data for tuning hyperparameter later when we build our models, we will take only 10% of our data as cross-validation data and the rest will be for training as we already have test data."
      ],
      "metadata": {
        "id": "68Ea9QXaZ71P"
      }
    },
    {
      "cell_type": "markdown",
      "source": [
        "### Features Scaling"
      ],
      "metadata": {
        "id": "1QSk-UWpdHj0"
      }
    },
    {
      "cell_type": "code",
      "source": [
        "x_train, x_cv, y_train, y_cv = train_test_split(df[df.columns[:-1]], df[\"target\"], test_size = 0.1)"
      ],
      "metadata": {
        "id": "ZuOcHJU-Zu5E"
      },
      "execution_count": null,
      "outputs": []
    },
    {
      "cell_type": "code",
      "source": [
        "x_train.columns"
      ],
      "metadata": {
        "colab": {
          "base_uri": "https://localhost:8080/"
        },
        "id": "4fjIYh7MoO5p",
        "outputId": "08fe13cf-d6c5-47ca-9396-4ca256e4c1eb"
      },
      "execution_count": null,
      "outputs": [
        {
          "output_type": "execute_result",
          "data": {
            "text/plain": [
              "Index(['fps_mean', 'fps_std', 'rtt_mean', 'rtt_std', 'dropped_frames_mean',\n",
              "       'dropped_frames_std', 'dropped_frames_max', 'bitrate_mean',\n",
              "       'bitrate_std'],\n",
              "      dtype='object')"
            ]
          },
          "metadata": {},
          "execution_count": 63
        }
      ]
    },
    {
      "cell_type": "code",
      "source": [
        "x_cv.columns"
      ],
      "metadata": {
        "colab": {
          "base_uri": "https://localhost:8080/"
        },
        "id": "PjcnwiZsoQ5a",
        "outputId": "3f876432-ca9a-4daa-8ad2-e4830f34dfed"
      },
      "execution_count": null,
      "outputs": [
        {
          "output_type": "execute_result",
          "data": {
            "text/plain": [
              "Index(['fps_mean', 'fps_std', 'rtt_mean', 'rtt_std', 'dropped_frames_mean',\n",
              "       'dropped_frames_std', 'dropped_frames_max', 'bitrate_mean',\n",
              "       'bitrate_std'],\n",
              "      dtype='object')"
            ]
          },
          "metadata": {},
          "execution_count": 64
        }
      ]
    },
    {
      "cell_type": "code",
      "source": [
        "print(\"Number or rows in train data =\", len(x_train))\n",
        "print(\"Number or rows in validation data =\", len(x_cv))\n",
        "\n",
        "print(\"Number or rows in target train data =\", len(y_train))\n",
        "print(\"Number or rows in target validation data =\", len(y_cv))"
      ],
      "metadata": {
        "colab": {
          "base_uri": "https://localhost:8080/"
        },
        "id": "-cmLuTfaa91p",
        "outputId": "5341a62b-c8ce-45e3-b96b-306e77122113"
      },
      "execution_count": null,
      "outputs": [
        {
          "output_type": "stream",
          "name": "stdout",
          "text": [
            "Number or rows in train data = 318396\n",
            "Number or rows in validation data = 35378\n",
            "Number or rows in target train data = 318396\n",
            "Number or rows in target validation data = 35378\n"
          ]
        }
      ]
    },
    {
      "cell_type": "code",
      "source": [
        "print(\"Number or columns in train data =\", x_train.shape[1])\n",
        "print(\"Number or column in validation data =\", x_cv.shape[1])"
      ],
      "metadata": {
        "colab": {
          "base_uri": "https://localhost:8080/"
        },
        "id": "5M2T3bkuoVEa",
        "outputId": "2aeb1b72-a33d-4f25-cf3e-bc3f128b598e"
      },
      "execution_count": null,
      "outputs": [
        {
          "output_type": "stream",
          "name": "stdout",
          "text": [
            "Number or columns in train data = 9\n",
            "Number or column in validation data = 9\n"
          ]
        }
      ]
    },
    {
      "cell_type": "code",
      "source": [
        "scaler = MinMaxScaler()\n",
        "x_train = scaler.fit_transform(x_train)\n",
        "x_cv = scaler.transform(x_cv)"
      ],
      "metadata": {
        "id": "KaXqm1nUakE6"
      },
      "execution_count": null,
      "outputs": []
    },
    {
      "cell_type": "code",
      "source": [
        "def print_rows(data, n_rows):\n",
        "  for i in range(n_rows):\n",
        "    print(data[i])"
      ],
      "metadata": {
        "id": "x6rWPua9cZOl"
      },
      "execution_count": null,
      "outputs": []
    },
    {
      "cell_type": "code",
      "source": [
        "# Checking The result of scaling our data\n",
        "n_rows = 5\n",
        "print(f\"printing the top five {n_rows} of training data\")\n",
        "print_rows(x_train, n_rows)"
      ],
      "metadata": {
        "colab": {
          "base_uri": "https://localhost:8080/"
        },
        "id": "UJ1SnKuecGSH",
        "outputId": "dc225f60-6de7-4568-b689-6fed203df5df"
      },
      "execution_count": null,
      "outputs": [
        {
          "output_type": "stream",
          "name": "stdout",
          "text": [
            "printing the top five 5 of training data\n",
            "[0.85771543 0.15472709 0.080316   0.03587077 0.         0.\n",
            " 0.         0.3304189  0.39629487]\n",
            "[0.39679359 0.03597332 0.0437788  0.00267224 0.         0.\n",
            " 0.         0.34245815 0.17031018]\n",
            "[0.4008016  0.20109696 0.0921659  0.07481351 0.         0.\n",
            " 0.         0.79245413 0.3404524 ]\n",
            "[0.38476954 0.21583991 0.29690586 0.00233252 0.         0.\n",
            " 0.         0.31644649 0.29595045]\n",
            "[0.40681363 0.49266703 0.01217907 0.00373385 0.         0.\n",
            " 0.         0.38305471 0.24463956]\n"
          ]
        }
      ]
    },
    {
      "cell_type": "code",
      "source": [
        "n_rows = 5\n",
        "print(f\"printing the top five {n_rows} of validataion data\")\n",
        "print_rows(x_cv, n_rows)"
      ],
      "metadata": {
        "colab": {
          "base_uri": "https://localhost:8080/"
        },
        "id": "ouvIAAs1cLtX",
        "outputId": "96c0a58a-9716-4f37-a0ca-4cface107f38"
      },
      "execution_count": null,
      "outputs": [
        {
          "output_type": "stream",
          "name": "stdout",
          "text": [
            "printing the top five 5 of validataion data\n",
            "[0.85370741 0.51850268 0.14351547 0.03351854 0.         0.\n",
            " 0.         0.26264312 0.42322065]\n",
            "[0.30661323 0.04121261 0.38709677 0.01049633 0.         0.\n",
            " 0.         0.01787321 0.00178723]\n",
            "[0.39078156 0.06032909 0.23798552 0.13179375 0.         0.\n",
            " 0.         0.08921291 0.33805705]\n",
            "[0.69138277 0.04496665 0.13857801 0.00882435 0.         0.\n",
            " 0.         0.61403979 0.63380497]\n",
            "[0.73346693 0.46937943 0.02271231 0.00174939 0.         0.\n",
            " 0.         0.13895854 0.21470063]\n"
          ]
        }
      ]
    },
    {
      "cell_type": "markdown",
      "source": [
        "### Feature Selection"
      ],
      "metadata": {
        "id": "wi-ilL5GdKDl"
      }
    },
    {
      "cell_type": "markdown",
      "source": [
        "We mainly have three methods of feature selection:\n",
        "\n",
        "1. Filter based: We specify some metric and based on that filter features. An example of such a metric could be correlation / chi-square.\n",
        "\n",
        "2. Wrapper-based: Wrapper methods consider the selection of a set of features as a search problem. Example: Recursive Feature Elimination\n",
        "\n",
        "3. Embedded: Embedded methods use algorithms that have built-in feature selection methods. For instance, Lasso and Random Forests have their own feature selection methods.\n",
        "\n",
        "We will try several methods of them then we will decide what to eliminate and we shall also keep all the features we have as well just for comparison, but feature selection in this case probably will not be very useful for several reasons one of then the fact that we don't have many features to drop, so we maybe should Keep them all to gain more powerful regressor model."
      ],
      "metadata": {
        "id": "-Js0FbVBlpFn"
      }
    },
    {
      "cell_type": "code",
      "source": [
        "columns = ['fps_mean', 'fps_std', 'rtt_mean', 'rtt_std', 'dropped_frames_mean',\n",
        "       'dropped_frames_std', 'dropped_frames_max', 'bitrate_mean',\n",
        "       'bitrate_std']"
      ],
      "metadata": {
        "id": "62SxMT1hpiLO"
      },
      "execution_count": null,
      "outputs": []
    },
    {
      "cell_type": "code",
      "source": [
        "# # Chi-Square Feature Selection\n",
        "# # we will take a sample of the train dataset we have so the session will not crashed\n",
        "selector = SelectKBest(chi2, k = 5)\n",
        "selector.fit(x_train[:40000], y_train[:40000])\n",
        "chi_support = selector.get_support()\n",
        "x_train = pd.DataFrame(x_train, columns = columns)\n",
        "x_cv = pd.DataFrame(x_cv, columns = columns)\n",
        "# chi_support = list(map(int, chi_support))\n",
        "chi_feature = x_train.loc[:,chi_support].columns.tolist()\n",
        "print(str(len(chi_feature)), 'selected features')\n",
        "print(\"The selectd features are:\", chi_feature)"
      ],
      "metadata": {
        "id": "GjqlSuN3dLlA",
        "colab": {
          "base_uri": "https://localhost:8080/"
        },
        "outputId": "4a52796c-8658-45a9-9656-cd8c74de53d4"
      },
      "execution_count": null,
      "outputs": [
        {
          "output_type": "stream",
          "name": "stdout",
          "text": [
            "5 selected features\n",
            "The selectd features are: ['dropped_frames_mean', 'dropped_frames_std', 'dropped_frames_max', 'bitrate_mean', 'bitrate_std']\n"
          ]
        }
      ]
    },
    {
      "cell_type": "markdown",
      "source": [
        "As expected, those features were the chi square method choose were the best features based on our analysism we will use another method of feature selection using embedded method (Lasso Regression) later on when we build our model."
      ],
      "metadata": {
        "id": "QpVAFuhdqU0z"
      }
    },
    {
      "cell_type": "code",
      "source": [
        "# Removing unwanted features\n",
        "x_train_new, x_cv_new = x_train[chi_feature], x_cv[chi_feature]"
      ],
      "metadata": {
        "id": "jV1ZJiHpqvTm"
      },
      "execution_count": null,
      "outputs": []
    },
    {
      "cell_type": "code",
      "source": [
        "x_train.head()"
      ],
      "metadata": {
        "colab": {
          "base_uri": "https://localhost:8080/"
        },
        "id": "Ce7Gj2wcq4qE",
        "outputId": "6baa9cca-3cd0-427e-cb77-d2151cdaa86e"
      },
      "execution_count": null,
      "outputs": [
        {
          "output_type": "execute_result",
          "data": {
            "text/plain": [
              "   fps_mean   fps_std  rtt_mean   rtt_std  dropped_frames_mean  \\\n",
              "0  0.857715  0.154727  0.080316  0.035871                  0.0   \n",
              "1  0.396794  0.035973  0.043779  0.002672                  0.0   \n",
              "2  0.400802  0.201097  0.092166  0.074814                  0.0   \n",
              "3  0.384770  0.215840  0.296906  0.002333                  0.0   \n",
              "4  0.406814  0.492667  0.012179  0.003734                  0.0   \n",
              "\n",
              "   dropped_frames_std  dropped_frames_max  bitrate_mean  bitrate_std  \n",
              "0                 0.0                 0.0      0.330419     0.396295  \n",
              "1                 0.0                 0.0      0.342458     0.170310  \n",
              "2                 0.0                 0.0      0.792454     0.340452  \n",
              "3                 0.0                 0.0      0.316446     0.295950  \n",
              "4                 0.0                 0.0      0.383055     0.244640  "
            ],
            "text/html": [
              "\n",
              "  <div id=\"df-9ff7e4bf-c5c6-4999-b436-7cedd21a5833\">\n",
              "    <div class=\"colab-df-container\">\n",
              "      <div>\n",
              "<style scoped>\n",
              "    .dataframe tbody tr th:only-of-type {\n",
              "        vertical-align: middle;\n",
              "    }\n",
              "\n",
              "    .dataframe tbody tr th {\n",
              "        vertical-align: top;\n",
              "    }\n",
              "\n",
              "    .dataframe thead th {\n",
              "        text-align: right;\n",
              "    }\n",
              "</style>\n",
              "<table border=\"1\" class=\"dataframe\">\n",
              "  <thead>\n",
              "    <tr style=\"text-align: right;\">\n",
              "      <th></th>\n",
              "      <th>fps_mean</th>\n",
              "      <th>fps_std</th>\n",
              "      <th>rtt_mean</th>\n",
              "      <th>rtt_std</th>\n",
              "      <th>dropped_frames_mean</th>\n",
              "      <th>dropped_frames_std</th>\n",
              "      <th>dropped_frames_max</th>\n",
              "      <th>bitrate_mean</th>\n",
              "      <th>bitrate_std</th>\n",
              "    </tr>\n",
              "  </thead>\n",
              "  <tbody>\n",
              "    <tr>\n",
              "      <th>0</th>\n",
              "      <td>0.857715</td>\n",
              "      <td>0.154727</td>\n",
              "      <td>0.080316</td>\n",
              "      <td>0.035871</td>\n",
              "      <td>0.0</td>\n",
              "      <td>0.0</td>\n",
              "      <td>0.0</td>\n",
              "      <td>0.330419</td>\n",
              "      <td>0.396295</td>\n",
              "    </tr>\n",
              "    <tr>\n",
              "      <th>1</th>\n",
              "      <td>0.396794</td>\n",
              "      <td>0.035973</td>\n",
              "      <td>0.043779</td>\n",
              "      <td>0.002672</td>\n",
              "      <td>0.0</td>\n",
              "      <td>0.0</td>\n",
              "      <td>0.0</td>\n",
              "      <td>0.342458</td>\n",
              "      <td>0.170310</td>\n",
              "    </tr>\n",
              "    <tr>\n",
              "      <th>2</th>\n",
              "      <td>0.400802</td>\n",
              "      <td>0.201097</td>\n",
              "      <td>0.092166</td>\n",
              "      <td>0.074814</td>\n",
              "      <td>0.0</td>\n",
              "      <td>0.0</td>\n",
              "      <td>0.0</td>\n",
              "      <td>0.792454</td>\n",
              "      <td>0.340452</td>\n",
              "    </tr>\n",
              "    <tr>\n",
              "      <th>3</th>\n",
              "      <td>0.384770</td>\n",
              "      <td>0.215840</td>\n",
              "      <td>0.296906</td>\n",
              "      <td>0.002333</td>\n",
              "      <td>0.0</td>\n",
              "      <td>0.0</td>\n",
              "      <td>0.0</td>\n",
              "      <td>0.316446</td>\n",
              "      <td>0.295950</td>\n",
              "    </tr>\n",
              "    <tr>\n",
              "      <th>4</th>\n",
              "      <td>0.406814</td>\n",
              "      <td>0.492667</td>\n",
              "      <td>0.012179</td>\n",
              "      <td>0.003734</td>\n",
              "      <td>0.0</td>\n",
              "      <td>0.0</td>\n",
              "      <td>0.0</td>\n",
              "      <td>0.383055</td>\n",
              "      <td>0.244640</td>\n",
              "    </tr>\n",
              "  </tbody>\n",
              "</table>\n",
              "</div>\n",
              "      <button class=\"colab-df-convert\" onclick=\"convertToInteractive('df-9ff7e4bf-c5c6-4999-b436-7cedd21a5833')\"\n",
              "              title=\"Convert this dataframe to an interactive table.\"\n",
              "              style=\"display:none;\">\n",
              "        \n",
              "  <svg xmlns=\"http://www.w3.org/2000/svg\" height=\"24px\"viewBox=\"0 0 24 24\"\n",
              "       width=\"24px\">\n",
              "    <path d=\"M0 0h24v24H0V0z\" fill=\"none\"/>\n",
              "    <path d=\"M18.56 5.44l.94 2.06.94-2.06 2.06-.94-2.06-.94-.94-2.06-.94 2.06-2.06.94zm-11 1L8.5 8.5l.94-2.06 2.06-.94-2.06-.94L8.5 2.5l-.94 2.06-2.06.94zm10 10l.94 2.06.94-2.06 2.06-.94-2.06-.94-.94-2.06-.94 2.06-2.06.94z\"/><path d=\"M17.41 7.96l-1.37-1.37c-.4-.4-.92-.59-1.43-.59-.52 0-1.04.2-1.43.59L10.3 9.45l-7.72 7.72c-.78.78-.78 2.05 0 2.83L4 21.41c.39.39.9.59 1.41.59.51 0 1.02-.2 1.41-.59l7.78-7.78 2.81-2.81c.8-.78.8-2.07 0-2.86zM5.41 20L4 18.59l7.72-7.72 1.47 1.35L5.41 20z\"/>\n",
              "  </svg>\n",
              "      </button>\n",
              "      \n",
              "  <style>\n",
              "    .colab-df-container {\n",
              "      display:flex;\n",
              "      flex-wrap:wrap;\n",
              "      gap: 12px;\n",
              "    }\n",
              "\n",
              "    .colab-df-convert {\n",
              "      background-color: #E8F0FE;\n",
              "      border: none;\n",
              "      border-radius: 50%;\n",
              "      cursor: pointer;\n",
              "      display: none;\n",
              "      fill: #1967D2;\n",
              "      height: 32px;\n",
              "      padding: 0 0 0 0;\n",
              "      width: 32px;\n",
              "    }\n",
              "\n",
              "    .colab-df-convert:hover {\n",
              "      background-color: #E2EBFA;\n",
              "      box-shadow: 0px 1px 2px rgba(60, 64, 67, 0.3), 0px 1px 3px 1px rgba(60, 64, 67, 0.15);\n",
              "      fill: #174EA6;\n",
              "    }\n",
              "\n",
              "    [theme=dark] .colab-df-convert {\n",
              "      background-color: #3B4455;\n",
              "      fill: #D2E3FC;\n",
              "    }\n",
              "\n",
              "    [theme=dark] .colab-df-convert:hover {\n",
              "      background-color: #434B5C;\n",
              "      box-shadow: 0px 1px 3px 1px rgba(0, 0, 0, 0.15);\n",
              "      filter: drop-shadow(0px 1px 2px rgba(0, 0, 0, 0.3));\n",
              "      fill: #FFFFFF;\n",
              "    }\n",
              "  </style>\n",
              "\n",
              "      <script>\n",
              "        const buttonEl =\n",
              "          document.querySelector('#df-9ff7e4bf-c5c6-4999-b436-7cedd21a5833 button.colab-df-convert');\n",
              "        buttonEl.style.display =\n",
              "          google.colab.kernel.accessAllowed ? 'block' : 'none';\n",
              "\n",
              "        async function convertToInteractive(key) {\n",
              "          const element = document.querySelector('#df-9ff7e4bf-c5c6-4999-b436-7cedd21a5833');\n",
              "          const dataTable =\n",
              "            await google.colab.kernel.invokeFunction('convertToInteractive',\n",
              "                                                     [key], {});\n",
              "          if (!dataTable) return;\n",
              "\n",
              "          const docLinkHtml = 'Like what you see? Visit the ' +\n",
              "            '<a target=\"_blank\" href=https://colab.research.google.com/notebooks/data_table.ipynb>data table notebook</a>'\n",
              "            + ' to learn more about interactive tables.';\n",
              "          element.innerHTML = '';\n",
              "          dataTable['output_type'] = 'display_data';\n",
              "          await google.colab.output.renderOutput(dataTable, element);\n",
              "          const docLink = document.createElement('div');\n",
              "          docLink.innerHTML = docLinkHtml;\n",
              "          element.appendChild(docLink);\n",
              "        }\n",
              "      </script>\n",
              "    </div>\n",
              "  </div>\n",
              "  "
            ]
          },
          "metadata": {},
          "execution_count": 83
        }
      ]
    },
    {
      "cell_type": "code",
      "source": [
        "x_cv.head()"
      ],
      "metadata": {
        "colab": {
          "base_uri": "https://localhost:8080/"
        },
        "id": "8Z_EMSAKq9FQ",
        "outputId": "738ec4e5-44fd-4370-9e28-27959ddeb2a3"
      },
      "execution_count": null,
      "outputs": [
        {
          "output_type": "execute_result",
          "data": {
            "text/plain": [
              "   fps_mean   fps_std  rtt_mean   rtt_std  dropped_frames_mean  \\\n",
              "0  0.853707  0.518503  0.143515  0.033519                  0.0   \n",
              "1  0.306613  0.041213  0.387097  0.010496                  0.0   \n",
              "2  0.390782  0.060329  0.237986  0.131794                  0.0   \n",
              "3  0.691383  0.044967  0.138578  0.008824                  0.0   \n",
              "4  0.733467  0.469379  0.022712  0.001749                  0.0   \n",
              "\n",
              "   dropped_frames_std  dropped_frames_max  bitrate_mean  bitrate_std  \n",
              "0                 0.0                 0.0      0.262643     0.423221  \n",
              "1                 0.0                 0.0      0.017873     0.001787  \n",
              "2                 0.0                 0.0      0.089213     0.338057  \n",
              "3                 0.0                 0.0      0.614040     0.633805  \n",
              "4                 0.0                 0.0      0.138959     0.214701  "
            ],
            "text/html": [
              "\n",
              "  <div id=\"df-1d70fa50-bb6f-415c-8ee1-8443e6af85f6\">\n",
              "    <div class=\"colab-df-container\">\n",
              "      <div>\n",
              "<style scoped>\n",
              "    .dataframe tbody tr th:only-of-type {\n",
              "        vertical-align: middle;\n",
              "    }\n",
              "\n",
              "    .dataframe tbody tr th {\n",
              "        vertical-align: top;\n",
              "    }\n",
              "\n",
              "    .dataframe thead th {\n",
              "        text-align: right;\n",
              "    }\n",
              "</style>\n",
              "<table border=\"1\" class=\"dataframe\">\n",
              "  <thead>\n",
              "    <tr style=\"text-align: right;\">\n",
              "      <th></th>\n",
              "      <th>fps_mean</th>\n",
              "      <th>fps_std</th>\n",
              "      <th>rtt_mean</th>\n",
              "      <th>rtt_std</th>\n",
              "      <th>dropped_frames_mean</th>\n",
              "      <th>dropped_frames_std</th>\n",
              "      <th>dropped_frames_max</th>\n",
              "      <th>bitrate_mean</th>\n",
              "      <th>bitrate_std</th>\n",
              "    </tr>\n",
              "  </thead>\n",
              "  <tbody>\n",
              "    <tr>\n",
              "      <th>0</th>\n",
              "      <td>0.853707</td>\n",
              "      <td>0.518503</td>\n",
              "      <td>0.143515</td>\n",
              "      <td>0.033519</td>\n",
              "      <td>0.0</td>\n",
              "      <td>0.0</td>\n",
              "      <td>0.0</td>\n",
              "      <td>0.262643</td>\n",
              "      <td>0.423221</td>\n",
              "    </tr>\n",
              "    <tr>\n",
              "      <th>1</th>\n",
              "      <td>0.306613</td>\n",
              "      <td>0.041213</td>\n",
              "      <td>0.387097</td>\n",
              "      <td>0.010496</td>\n",
              "      <td>0.0</td>\n",
              "      <td>0.0</td>\n",
              "      <td>0.0</td>\n",
              "      <td>0.017873</td>\n",
              "      <td>0.001787</td>\n",
              "    </tr>\n",
              "    <tr>\n",
              "      <th>2</th>\n",
              "      <td>0.390782</td>\n",
              "      <td>0.060329</td>\n",
              "      <td>0.237986</td>\n",
              "      <td>0.131794</td>\n",
              "      <td>0.0</td>\n",
              "      <td>0.0</td>\n",
              "      <td>0.0</td>\n",
              "      <td>0.089213</td>\n",
              "      <td>0.338057</td>\n",
              "    </tr>\n",
              "    <tr>\n",
              "      <th>3</th>\n",
              "      <td>0.691383</td>\n",
              "      <td>0.044967</td>\n",
              "      <td>0.138578</td>\n",
              "      <td>0.008824</td>\n",
              "      <td>0.0</td>\n",
              "      <td>0.0</td>\n",
              "      <td>0.0</td>\n",
              "      <td>0.614040</td>\n",
              "      <td>0.633805</td>\n",
              "    </tr>\n",
              "    <tr>\n",
              "      <th>4</th>\n",
              "      <td>0.733467</td>\n",
              "      <td>0.469379</td>\n",
              "      <td>0.022712</td>\n",
              "      <td>0.001749</td>\n",
              "      <td>0.0</td>\n",
              "      <td>0.0</td>\n",
              "      <td>0.0</td>\n",
              "      <td>0.138959</td>\n",
              "      <td>0.214701</td>\n",
              "    </tr>\n",
              "  </tbody>\n",
              "</table>\n",
              "</div>\n",
              "      <button class=\"colab-df-convert\" onclick=\"convertToInteractive('df-1d70fa50-bb6f-415c-8ee1-8443e6af85f6')\"\n",
              "              title=\"Convert this dataframe to an interactive table.\"\n",
              "              style=\"display:none;\">\n",
              "        \n",
              "  <svg xmlns=\"http://www.w3.org/2000/svg\" height=\"24px\"viewBox=\"0 0 24 24\"\n",
              "       width=\"24px\">\n",
              "    <path d=\"M0 0h24v24H0V0z\" fill=\"none\"/>\n",
              "    <path d=\"M18.56 5.44l.94 2.06.94-2.06 2.06-.94-2.06-.94-.94-2.06-.94 2.06-2.06.94zm-11 1L8.5 8.5l.94-2.06 2.06-.94-2.06-.94L8.5 2.5l-.94 2.06-2.06.94zm10 10l.94 2.06.94-2.06 2.06-.94-2.06-.94-.94-2.06-.94 2.06-2.06.94z\"/><path d=\"M17.41 7.96l-1.37-1.37c-.4-.4-.92-.59-1.43-.59-.52 0-1.04.2-1.43.59L10.3 9.45l-7.72 7.72c-.78.78-.78 2.05 0 2.83L4 21.41c.39.39.9.59 1.41.59.51 0 1.02-.2 1.41-.59l7.78-7.78 2.81-2.81c.8-.78.8-2.07 0-2.86zM5.41 20L4 18.59l7.72-7.72 1.47 1.35L5.41 20z\"/>\n",
              "  </svg>\n",
              "      </button>\n",
              "      \n",
              "  <style>\n",
              "    .colab-df-container {\n",
              "      display:flex;\n",
              "      flex-wrap:wrap;\n",
              "      gap: 12px;\n",
              "    }\n",
              "\n",
              "    .colab-df-convert {\n",
              "      background-color: #E8F0FE;\n",
              "      border: none;\n",
              "      border-radius: 50%;\n",
              "      cursor: pointer;\n",
              "      display: none;\n",
              "      fill: #1967D2;\n",
              "      height: 32px;\n",
              "      padding: 0 0 0 0;\n",
              "      width: 32px;\n",
              "    }\n",
              "\n",
              "    .colab-df-convert:hover {\n",
              "      background-color: #E2EBFA;\n",
              "      box-shadow: 0px 1px 2px rgba(60, 64, 67, 0.3), 0px 1px 3px 1px rgba(60, 64, 67, 0.15);\n",
              "      fill: #174EA6;\n",
              "    }\n",
              "\n",
              "    [theme=dark] .colab-df-convert {\n",
              "      background-color: #3B4455;\n",
              "      fill: #D2E3FC;\n",
              "    }\n",
              "\n",
              "    [theme=dark] .colab-df-convert:hover {\n",
              "      background-color: #434B5C;\n",
              "      box-shadow: 0px 1px 3px 1px rgba(0, 0, 0, 0.15);\n",
              "      filter: drop-shadow(0px 1px 2px rgba(0, 0, 0, 0.3));\n",
              "      fill: #FFFFFF;\n",
              "    }\n",
              "  </style>\n",
              "\n",
              "      <script>\n",
              "        const buttonEl =\n",
              "          document.querySelector('#df-1d70fa50-bb6f-415c-8ee1-8443e6af85f6 button.colab-df-convert');\n",
              "        buttonEl.style.display =\n",
              "          google.colab.kernel.accessAllowed ? 'block' : 'none';\n",
              "\n",
              "        async function convertToInteractive(key) {\n",
              "          const element = document.querySelector('#df-1d70fa50-bb6f-415c-8ee1-8443e6af85f6');\n",
              "          const dataTable =\n",
              "            await google.colab.kernel.invokeFunction('convertToInteractive',\n",
              "                                                     [key], {});\n",
              "          if (!dataTable) return;\n",
              "\n",
              "          const docLinkHtml = 'Like what you see? Visit the ' +\n",
              "            '<a target=\"_blank\" href=https://colab.research.google.com/notebooks/data_table.ipynb>data table notebook</a>'\n",
              "            + ' to learn more about interactive tables.';\n",
              "          element.innerHTML = '';\n",
              "          dataTable['output_type'] = 'display_data';\n",
              "          await google.colab.output.renderOutput(dataTable, element);\n",
              "          const docLink = document.createElement('div');\n",
              "          docLink.innerHTML = docLinkHtml;\n",
              "          element.appendChild(docLink);\n",
              "        }\n",
              "      </script>\n",
              "    </div>\n",
              "  </div>\n",
              "  "
            ]
          },
          "metadata": {},
          "execution_count": 84
        }
      ]
    },
    {
      "cell_type": "code",
      "source": [
        "x_train_new.head()"
      ],
      "metadata": {
        "colab": {
          "base_uri": "https://localhost:8080/"
        },
        "id": "YorF7enZq_P_",
        "outputId": "a9c5464b-2c1a-4d3f-a832-b4f6fa886e9f"
      },
      "execution_count": null,
      "outputs": [
        {
          "output_type": "execute_result",
          "data": {
            "text/plain": [
              "   dropped_frames_mean  dropped_frames_std  dropped_frames_max  bitrate_mean  \\\n",
              "0                  0.0                 0.0                 0.0      0.330419   \n",
              "1                  0.0                 0.0                 0.0      0.342458   \n",
              "2                  0.0                 0.0                 0.0      0.792454   \n",
              "3                  0.0                 0.0                 0.0      0.316446   \n",
              "4                  0.0                 0.0                 0.0      0.383055   \n",
              "\n",
              "   bitrate_std  \n",
              "0     0.396295  \n",
              "1     0.170310  \n",
              "2     0.340452  \n",
              "3     0.295950  \n",
              "4     0.244640  "
            ],
            "text/html": [
              "\n",
              "  <div id=\"df-f8506450-28b8-436e-b731-02a63522a02a\">\n",
              "    <div class=\"colab-df-container\">\n",
              "      <div>\n",
              "<style scoped>\n",
              "    .dataframe tbody tr th:only-of-type {\n",
              "        vertical-align: middle;\n",
              "    }\n",
              "\n",
              "    .dataframe tbody tr th {\n",
              "        vertical-align: top;\n",
              "    }\n",
              "\n",
              "    .dataframe thead th {\n",
              "        text-align: right;\n",
              "    }\n",
              "</style>\n",
              "<table border=\"1\" class=\"dataframe\">\n",
              "  <thead>\n",
              "    <tr style=\"text-align: right;\">\n",
              "      <th></th>\n",
              "      <th>dropped_frames_mean</th>\n",
              "      <th>dropped_frames_std</th>\n",
              "      <th>dropped_frames_max</th>\n",
              "      <th>bitrate_mean</th>\n",
              "      <th>bitrate_std</th>\n",
              "    </tr>\n",
              "  </thead>\n",
              "  <tbody>\n",
              "    <tr>\n",
              "      <th>0</th>\n",
              "      <td>0.0</td>\n",
              "      <td>0.0</td>\n",
              "      <td>0.0</td>\n",
              "      <td>0.330419</td>\n",
              "      <td>0.396295</td>\n",
              "    </tr>\n",
              "    <tr>\n",
              "      <th>1</th>\n",
              "      <td>0.0</td>\n",
              "      <td>0.0</td>\n",
              "      <td>0.0</td>\n",
              "      <td>0.342458</td>\n",
              "      <td>0.170310</td>\n",
              "    </tr>\n",
              "    <tr>\n",
              "      <th>2</th>\n",
              "      <td>0.0</td>\n",
              "      <td>0.0</td>\n",
              "      <td>0.0</td>\n",
              "      <td>0.792454</td>\n",
              "      <td>0.340452</td>\n",
              "    </tr>\n",
              "    <tr>\n",
              "      <th>3</th>\n",
              "      <td>0.0</td>\n",
              "      <td>0.0</td>\n",
              "      <td>0.0</td>\n",
              "      <td>0.316446</td>\n",
              "      <td>0.295950</td>\n",
              "    </tr>\n",
              "    <tr>\n",
              "      <th>4</th>\n",
              "      <td>0.0</td>\n",
              "      <td>0.0</td>\n",
              "      <td>0.0</td>\n",
              "      <td>0.383055</td>\n",
              "      <td>0.244640</td>\n",
              "    </tr>\n",
              "  </tbody>\n",
              "</table>\n",
              "</div>\n",
              "      <button class=\"colab-df-convert\" onclick=\"convertToInteractive('df-f8506450-28b8-436e-b731-02a63522a02a')\"\n",
              "              title=\"Convert this dataframe to an interactive table.\"\n",
              "              style=\"display:none;\">\n",
              "        \n",
              "  <svg xmlns=\"http://www.w3.org/2000/svg\" height=\"24px\"viewBox=\"0 0 24 24\"\n",
              "       width=\"24px\">\n",
              "    <path d=\"M0 0h24v24H0V0z\" fill=\"none\"/>\n",
              "    <path d=\"M18.56 5.44l.94 2.06.94-2.06 2.06-.94-2.06-.94-.94-2.06-.94 2.06-2.06.94zm-11 1L8.5 8.5l.94-2.06 2.06-.94-2.06-.94L8.5 2.5l-.94 2.06-2.06.94zm10 10l.94 2.06.94-2.06 2.06-.94-2.06-.94-.94-2.06-.94 2.06-2.06.94z\"/><path d=\"M17.41 7.96l-1.37-1.37c-.4-.4-.92-.59-1.43-.59-.52 0-1.04.2-1.43.59L10.3 9.45l-7.72 7.72c-.78.78-.78 2.05 0 2.83L4 21.41c.39.39.9.59 1.41.59.51 0 1.02-.2 1.41-.59l7.78-7.78 2.81-2.81c.8-.78.8-2.07 0-2.86zM5.41 20L4 18.59l7.72-7.72 1.47 1.35L5.41 20z\"/>\n",
              "  </svg>\n",
              "      </button>\n",
              "      \n",
              "  <style>\n",
              "    .colab-df-container {\n",
              "      display:flex;\n",
              "      flex-wrap:wrap;\n",
              "      gap: 12px;\n",
              "    }\n",
              "\n",
              "    .colab-df-convert {\n",
              "      background-color: #E8F0FE;\n",
              "      border: none;\n",
              "      border-radius: 50%;\n",
              "      cursor: pointer;\n",
              "      display: none;\n",
              "      fill: #1967D2;\n",
              "      height: 32px;\n",
              "      padding: 0 0 0 0;\n",
              "      width: 32px;\n",
              "    }\n",
              "\n",
              "    .colab-df-convert:hover {\n",
              "      background-color: #E2EBFA;\n",
              "      box-shadow: 0px 1px 2px rgba(60, 64, 67, 0.3), 0px 1px 3px 1px rgba(60, 64, 67, 0.15);\n",
              "      fill: #174EA6;\n",
              "    }\n",
              "\n",
              "    [theme=dark] .colab-df-convert {\n",
              "      background-color: #3B4455;\n",
              "      fill: #D2E3FC;\n",
              "    }\n",
              "\n",
              "    [theme=dark] .colab-df-convert:hover {\n",
              "      background-color: #434B5C;\n",
              "      box-shadow: 0px 1px 3px 1px rgba(0, 0, 0, 0.15);\n",
              "      filter: drop-shadow(0px 1px 2px rgba(0, 0, 0, 0.3));\n",
              "      fill: #FFFFFF;\n",
              "    }\n",
              "  </style>\n",
              "\n",
              "      <script>\n",
              "        const buttonEl =\n",
              "          document.querySelector('#df-f8506450-28b8-436e-b731-02a63522a02a button.colab-df-convert');\n",
              "        buttonEl.style.display =\n",
              "          google.colab.kernel.accessAllowed ? 'block' : 'none';\n",
              "\n",
              "        async function convertToInteractive(key) {\n",
              "          const element = document.querySelector('#df-f8506450-28b8-436e-b731-02a63522a02a');\n",
              "          const dataTable =\n",
              "            await google.colab.kernel.invokeFunction('convertToInteractive',\n",
              "                                                     [key], {});\n",
              "          if (!dataTable) return;\n",
              "\n",
              "          const docLinkHtml = 'Like what you see? Visit the ' +\n",
              "            '<a target=\"_blank\" href=https://colab.research.google.com/notebooks/data_table.ipynb>data table notebook</a>'\n",
              "            + ' to learn more about interactive tables.';\n",
              "          element.innerHTML = '';\n",
              "          dataTable['output_type'] = 'display_data';\n",
              "          await google.colab.output.renderOutput(dataTable, element);\n",
              "          const docLink = document.createElement('div');\n",
              "          docLink.innerHTML = docLinkHtml;\n",
              "          element.appendChild(docLink);\n",
              "        }\n",
              "      </script>\n",
              "    </div>\n",
              "  </div>\n",
              "  "
            ]
          },
          "metadata": {},
          "execution_count": 85
        }
      ]
    },
    {
      "cell_type": "code",
      "source": [
        "x_cv_new.head()"
      ],
      "metadata": {
        "colab": {
          "base_uri": "https://localhost:8080/"
        },
        "id": "fyaSG740rA2k",
        "outputId": "e6a68d13-5631-4fe3-c8ee-5e5ff313ee2a"
      },
      "execution_count": null,
      "outputs": [
        {
          "output_type": "execute_result",
          "data": {
            "text/plain": [
              "   dropped_frames_mean  dropped_frames_std  dropped_frames_max  bitrate_mean  \\\n",
              "0                  0.0                 0.0                 0.0      0.262643   \n",
              "1                  0.0                 0.0                 0.0      0.017873   \n",
              "2                  0.0                 0.0                 0.0      0.089213   \n",
              "3                  0.0                 0.0                 0.0      0.614040   \n",
              "4                  0.0                 0.0                 0.0      0.138959   \n",
              "\n",
              "   bitrate_std  \n",
              "0     0.423221  \n",
              "1     0.001787  \n",
              "2     0.338057  \n",
              "3     0.633805  \n",
              "4     0.214701  "
            ],
            "text/html": [
              "\n",
              "  <div id=\"df-52b41852-e51b-4ab7-9b22-48ae12b0836b\">\n",
              "    <div class=\"colab-df-container\">\n",
              "      <div>\n",
              "<style scoped>\n",
              "    .dataframe tbody tr th:only-of-type {\n",
              "        vertical-align: middle;\n",
              "    }\n",
              "\n",
              "    .dataframe tbody tr th {\n",
              "        vertical-align: top;\n",
              "    }\n",
              "\n",
              "    .dataframe thead th {\n",
              "        text-align: right;\n",
              "    }\n",
              "</style>\n",
              "<table border=\"1\" class=\"dataframe\">\n",
              "  <thead>\n",
              "    <tr style=\"text-align: right;\">\n",
              "      <th></th>\n",
              "      <th>dropped_frames_mean</th>\n",
              "      <th>dropped_frames_std</th>\n",
              "      <th>dropped_frames_max</th>\n",
              "      <th>bitrate_mean</th>\n",
              "      <th>bitrate_std</th>\n",
              "    </tr>\n",
              "  </thead>\n",
              "  <tbody>\n",
              "    <tr>\n",
              "      <th>0</th>\n",
              "      <td>0.0</td>\n",
              "      <td>0.0</td>\n",
              "      <td>0.0</td>\n",
              "      <td>0.262643</td>\n",
              "      <td>0.423221</td>\n",
              "    </tr>\n",
              "    <tr>\n",
              "      <th>1</th>\n",
              "      <td>0.0</td>\n",
              "      <td>0.0</td>\n",
              "      <td>0.0</td>\n",
              "      <td>0.017873</td>\n",
              "      <td>0.001787</td>\n",
              "    </tr>\n",
              "    <tr>\n",
              "      <th>2</th>\n",
              "      <td>0.0</td>\n",
              "      <td>0.0</td>\n",
              "      <td>0.0</td>\n",
              "      <td>0.089213</td>\n",
              "      <td>0.338057</td>\n",
              "    </tr>\n",
              "    <tr>\n",
              "      <th>3</th>\n",
              "      <td>0.0</td>\n",
              "      <td>0.0</td>\n",
              "      <td>0.0</td>\n",
              "      <td>0.614040</td>\n",
              "      <td>0.633805</td>\n",
              "    </tr>\n",
              "    <tr>\n",
              "      <th>4</th>\n",
              "      <td>0.0</td>\n",
              "      <td>0.0</td>\n",
              "      <td>0.0</td>\n",
              "      <td>0.138959</td>\n",
              "      <td>0.214701</td>\n",
              "    </tr>\n",
              "  </tbody>\n",
              "</table>\n",
              "</div>\n",
              "      <button class=\"colab-df-convert\" onclick=\"convertToInteractive('df-52b41852-e51b-4ab7-9b22-48ae12b0836b')\"\n",
              "              title=\"Convert this dataframe to an interactive table.\"\n",
              "              style=\"display:none;\">\n",
              "        \n",
              "  <svg xmlns=\"http://www.w3.org/2000/svg\" height=\"24px\"viewBox=\"0 0 24 24\"\n",
              "       width=\"24px\">\n",
              "    <path d=\"M0 0h24v24H0V0z\" fill=\"none\"/>\n",
              "    <path d=\"M18.56 5.44l.94 2.06.94-2.06 2.06-.94-2.06-.94-.94-2.06-.94 2.06-2.06.94zm-11 1L8.5 8.5l.94-2.06 2.06-.94-2.06-.94L8.5 2.5l-.94 2.06-2.06.94zm10 10l.94 2.06.94-2.06 2.06-.94-2.06-.94-.94-2.06-.94 2.06-2.06.94z\"/><path d=\"M17.41 7.96l-1.37-1.37c-.4-.4-.92-.59-1.43-.59-.52 0-1.04.2-1.43.59L10.3 9.45l-7.72 7.72c-.78.78-.78 2.05 0 2.83L4 21.41c.39.39.9.59 1.41.59.51 0 1.02-.2 1.41-.59l7.78-7.78 2.81-2.81c.8-.78.8-2.07 0-2.86zM5.41 20L4 18.59l7.72-7.72 1.47 1.35L5.41 20z\"/>\n",
              "  </svg>\n",
              "      </button>\n",
              "      \n",
              "  <style>\n",
              "    .colab-df-container {\n",
              "      display:flex;\n",
              "      flex-wrap:wrap;\n",
              "      gap: 12px;\n",
              "    }\n",
              "\n",
              "    .colab-df-convert {\n",
              "      background-color: #E8F0FE;\n",
              "      border: none;\n",
              "      border-radius: 50%;\n",
              "      cursor: pointer;\n",
              "      display: none;\n",
              "      fill: #1967D2;\n",
              "      height: 32px;\n",
              "      padding: 0 0 0 0;\n",
              "      width: 32px;\n",
              "    }\n",
              "\n",
              "    .colab-df-convert:hover {\n",
              "      background-color: #E2EBFA;\n",
              "      box-shadow: 0px 1px 2px rgba(60, 64, 67, 0.3), 0px 1px 3px 1px rgba(60, 64, 67, 0.15);\n",
              "      fill: #174EA6;\n",
              "    }\n",
              "\n",
              "    [theme=dark] .colab-df-convert {\n",
              "      background-color: #3B4455;\n",
              "      fill: #D2E3FC;\n",
              "    }\n",
              "\n",
              "    [theme=dark] .colab-df-convert:hover {\n",
              "      background-color: #434B5C;\n",
              "      box-shadow: 0px 1px 3px 1px rgba(0, 0, 0, 0.15);\n",
              "      filter: drop-shadow(0px 1px 2px rgba(0, 0, 0, 0.3));\n",
              "      fill: #FFFFFF;\n",
              "    }\n",
              "  </style>\n",
              "\n",
              "      <script>\n",
              "        const buttonEl =\n",
              "          document.querySelector('#df-52b41852-e51b-4ab7-9b22-48ae12b0836b button.colab-df-convert');\n",
              "        buttonEl.style.display =\n",
              "          google.colab.kernel.accessAllowed ? 'block' : 'none';\n",
              "\n",
              "        async function convertToInteractive(key) {\n",
              "          const element = document.querySelector('#df-52b41852-e51b-4ab7-9b22-48ae12b0836b');\n",
              "          const dataTable =\n",
              "            await google.colab.kernel.invokeFunction('convertToInteractive',\n",
              "                                                     [key], {});\n",
              "          if (!dataTable) return;\n",
              "\n",
              "          const docLinkHtml = 'Like what you see? Visit the ' +\n",
              "            '<a target=\"_blank\" href=https://colab.research.google.com/notebooks/data_table.ipynb>data table notebook</a>'\n",
              "            + ' to learn more about interactive tables.';\n",
              "          element.innerHTML = '';\n",
              "          dataTable['output_type'] = 'display_data';\n",
              "          await google.colab.output.renderOutput(dataTable, element);\n",
              "          const docLink = document.createElement('div');\n",
              "          docLink.innerHTML = docLinkHtml;\n",
              "          element.appendChild(docLink);\n",
              "        }\n",
              "      </script>\n",
              "    </div>\n",
              "  </div>\n",
              "  "
            ]
          },
          "metadata": {},
          "execution_count": 86
        }
      ]
    },
    {
      "cell_type": "markdown",
      "source": [
        "# Bulding Models"
      ],
      "metadata": {
        "id": "TdhoDn-_s09t"
      }
    },
    {
      "cell_type": "markdown",
      "source": [
        "We will build 3 regression models as follow:\n",
        "\n",
        "1. Simple Linear Regression\n",
        "\n",
        "3. Lasso Regression\n",
        "\n",
        "2. Polynomial Linear Regression with Regularization\n",
        "\n",
        "We will apply each of them on selected features and on the whole dataset we have and then compare, as we have already eliminate the outliers we can use RMSE as metric to our performance."
      ],
      "metadata": {
        "id": "Cn1o_L0GpT8X"
      }
    },
    {
      "cell_type": "markdown",
      "source": [
        "The difference between R squared and adjusted R squared value is that R squared value assumes that all the independent variables considered affect the result of the model, whereas the adjusted R squared value considers only those independent variables which actually have, so we will implement Adjusted R2 as it's not defiened by SKLearn."
      ],
      "metadata": {
        "id": "BSHqeH0X2iU-"
      }
    },
    {
      "cell_type": "code",
      "source": [
        "def adjusted_r2(y_train, y_pred, x):\n",
        "  \"\"\"\n",
        "  Implement Adjusted R2\n",
        "  Parameters: y_train: ground truth target of the data\n",
        "              y_pred:  Predicted Target of the data\n",
        "              x: Actual Data\n",
        "  \"\"\"\n",
        "  return 1 - (1 - r2_score(y_train, y_pred)) * (len(y_train) - 1) / (len(y_train) - x.shape[1] - 1)"
      ],
      "metadata": {
        "id": "T-DgIosQ02NW"
      },
      "execution_count": null,
      "outputs": []
    },
    {
      "cell_type": "markdown",
      "source": [
        "### Simple Linear Regression"
      ],
      "metadata": {
        "id": "ZZbxENa6qCMw"
      }
    },
    {
      "cell_type": "code",
      "source": [
        "regressor = LinearRegression(n_jobs = -1)\n",
        "regressor.fit(x_train, y_train)\n",
        "y_train_pred = regressor.predict(x_train)\n",
        "y_cv_pred = regressor.predict(x_cv)"
      ],
      "metadata": {
        "id": "lRVY1iwtA4nX"
      },
      "execution_count": null,
      "outputs": []
    },
    {
      "cell_type": "code",
      "source": [
        "print(\"RMSE on train data =\", math.sqrt(mean_squared_error(y_train, y_train_pred)))\n",
        "print(\"RMSE on cv data =\", math.sqrt(mean_squared_error(y_cv, y_cv_pred)))"
      ],
      "metadata": {
        "colab": {
          "base_uri": "https://localhost:8080/"
        },
        "id": "7XEMM9DxB239",
        "outputId": "12cba919-f3e3-492d-c2c6-af8cb414115f"
      },
      "execution_count": null,
      "outputs": [
        {
          "output_type": "stream",
          "name": "stdout",
          "text": [
            "RMSE on train data = 1790.7896000160283\n",
            "RMSE on cv data = 1809.2649780114684\n"
          ]
        }
      ]
    },
    {
      "cell_type": "code",
      "source": [
        "print(\"Adjusted R2 on train data =\", adjusted_r2(y_train, y_train_pred, x_train))\n",
        "print(\"Adjusted R2 on cv data =\", adjusted_r2(y_cv, y_cv_pred, x_cv))"
      ],
      "metadata": {
        "colab": {
          "base_uri": "https://localhost:8080/"
        },
        "id": "hj0HFkccBmeN",
        "outputId": "11be9f89-0e99-4d81-89a9-bc6bd0ae5423"
      },
      "execution_count": null,
      "outputs": [
        {
          "output_type": "stream",
          "name": "stdout",
          "text": [
            "Adjusted R2 on train data = 0.8948821667285582\n",
            "Adjusted R2 on cv data = 0.8918266987044217\n"
          ]
        }
      ]
    },
    {
      "cell_type": "code",
      "source": [
        "# Cheking the coefficent of our LinearRegression\n",
        "print(regressor.coef_)"
      ],
      "metadata": {
        "colab": {
          "base_uri": "https://localhost:8080/"
        },
        "id": "tZ2xpYZdDEJv",
        "outputId": "53c8005c-24b7-4ec3-da41-9d72c6a98f6f"
      },
      "execution_count": null,
      "outputs": [
        {
          "output_type": "stream",
          "name": "stdout",
          "text": [
            "[ 4.82186079e+01  1.95901468e+02 -2.72046551e+02 -3.60954654e+02\n",
            " -1.18362792e+01 -2.38373253e+03  2.33606161e+03  2.41937017e+04\n",
            "  8.25645445e+02]\n"
          ]
        }
      ]
    },
    {
      "cell_type": "markdown",
      "source": [
        "### Linear Regression With L2 Regularization"
      ],
      "metadata": {
        "id": "O7VpdjMk6jvD"
      }
    },
    {
      "cell_type": "code",
      "source": [
        "alphas = [0.001, 0.01, 0.1, 1, 10]\n",
        "for alpha in alphas:\n",
        "  sgd = SGDRegressor(alpha = alpha, max_iter = 5000, tol = 1e-6)\n",
        "  sgd.fit(x_train, y_train)\n",
        "  y_pred_1 = sgd.predict(x_train)\n",
        "  y_cv_1 = sgd.predict(x_cv)\n",
        "  sgd.fit(x_train_new, y_train)\n",
        "  y_pred_2 = sgd.predict(x_train_new)\n",
        "  y_cv_2 = sgd.predict(x_cv_new)\n",
        "  print(f\"With alpha = {alpha} train mean squared error without feature selection =\", math.sqrt(mean_squared_error(y_train, y_pred_1)))\n",
        "  print(f\"With alpha = {alpha} train mean squared error with feature selection =\", math.sqrt(mean_squared_error(y_train, y_pred_2)))\n",
        "  print(f\"With alpha = {alpha} validation mean squared error without feature selection =\", math.sqrt(mean_squared_error(y_cv, y_cv_1)))\n",
        "  print(f\"With alpha = {alpha} validation mean squared error with feature selection =\", math.sqrt(mean_squared_error(y_cv, y_cv_2)))\n",
        "  print(\"*\" * 75)"
      ],
      "metadata": {
        "id": "VOlgaUY8s2d6",
        "colab": {
          "base_uri": "https://localhost:8080/"
        },
        "outputId": "b82a0497-c820-44cb-cc81-68e290afeb19"
      },
      "execution_count": null,
      "outputs": [
        {
          "output_type": "stream",
          "name": "stdout",
          "text": [
            "With alpha = 0.001 train mean squared error without feature selection = 1801.186284682275\n",
            "With alpha = 0.001 train mean squared error with feature selection = 1802.2611941001037\n",
            "With alpha = 0.001 validation mean squared error without feature selection = 1765.650940910148\n",
            "With alpha = 0.001 validation mean squared error with feature selection = 1766.023691432619\n",
            "***************************************************************************\n",
            "With alpha = 0.01 train mean squared error without feature selection = 2038.5062893841641\n",
            "With alpha = 0.01 train mean squared error with feature selection = 2037.6387875331902\n",
            "With alpha = 0.01 validation mean squared error without feature selection = 2019.949329135541\n",
            "With alpha = 0.01 validation mean squared error with feature selection = 2016.8160604018137\n",
            "***************************************************************************\n",
            "With alpha = 0.1 train mean squared error without feature selection = 3844.598586987766\n",
            "With alpha = 0.1 train mean squared error with feature selection = 3874.0146886030857\n",
            "With alpha = 0.1 validation mean squared error without feature selection = 3846.663161523548\n",
            "With alpha = 0.1 validation mean squared error with feature selection = 3874.0184174175233\n",
            "***************************************************************************\n",
            "With alpha = 1 train mean squared error without feature selection = 5256.321918038841\n",
            "With alpha = 1 train mean squared error with feature selection = 5256.407422056858\n",
            "With alpha = 1 validation mean squared error without feature selection = 5260.30349291066\n",
            "With alpha = 1 validation mean squared error with feature selection = 5259.95076781477\n",
            "***************************************************************************\n",
            "With alpha = 10 train mean squared error without feature selection = 5494.583631101973\n",
            "With alpha = 10 train mean squared error with feature selection = 5490.886983027789\n",
            "With alpha = 10 validation mean squared error without feature selection = 5498.917977424614\n",
            "With alpha = 10 validation mean squared error with feature selection = 5494.80556321856\n",
            "***************************************************************************\n"
          ]
        }
      ]
    },
    {
      "cell_type": "code",
      "source": [
        "for alpha in alphas:\n",
        "  sgd = SGDRegressor(alpha = alpha, max_iter = 5000, tol = 1e-6)\n",
        "  sgd.fit(x_train, y_train)\n",
        "  y_pred_1 = sgd.predict(x_train)\n",
        "  y_cv_1 = sgd.predict(x_cv)\n",
        "  sgd.fit(x_train_new, y_train)\n",
        "  y_pred_2 = sgd.predict(x_train_new)\n",
        "  y_cv_2 = sgd.predict(x_cv_new)\n",
        "  print(f\"With alpha = {alpha} train Adjusted R2 without feature selection =\", adjusted_r2(y_train, y_pred_1, x_train))\n",
        "  print(f\"With alpha = {alpha} train Adjusted R2 with feature selection =\", adjusted_r2(y_train, y_pred_2, x_train_new))\n",
        "  print(f\"With alpha = {alpha} validation Adjusted R2 without feature selection =\", adjusted_r2(y_cv, y_cv_1, x_cv))\n",
        "  print(f\"With alpha = {alpha} validation Adjusted R2 with feature selection =\", adjusted_r2(y_cv, y_cv_2, x_cv_new))\n",
        "  print(\"*\" * 75)"
      ],
      "metadata": {
        "colab": {
          "base_uri": "https://localhost:8080/"
        },
        "id": "GMHlVAIu28lY",
        "outputId": "c96bc465-a086-4cff-e03f-80cf46c758a0"
      },
      "execution_count": null,
      "outputs": [
        {
          "output_type": "stream",
          "name": "stdout",
          "text": [
            "With alpha = 0.001 train Adjusted R2 without feature selection = 0.8935314864460598\n",
            "With alpha = 0.001 train Adjusted R2 with feature selection = 0.8934106561158668\n",
            "With alpha = 0.001 validation Adjusted R2 without feature selection = 0.8978249569515351\n",
            "With alpha = 0.001 validation Adjusted R2 with feature selection = 0.897798502426147\n",
            "***************************************************************************\n",
            "With alpha = 0.01 train Adjusted R2 without feature selection = 0.8637748127514144\n",
            "With alpha = 0.01 train Adjusted R2 with feature selection = 0.8637722723229946\n",
            "With alpha = 0.01 validation Adjusted R2 without feature selection = 0.8664260392878709\n",
            "With alpha = 0.01 validation Adjusted R2 with feature selection = 0.8667291348301417\n",
            "***************************************************************************\n",
            "With alpha = 0.1 train Adjusted R2 without feature selection = 0.5137090031225156\n",
            "With alpha = 0.1 train Adjusted R2 with feature selection = 0.5086776361796073\n",
            "With alpha = 0.1 validation Adjusted R2 without feature selection = 0.5138438272887207\n",
            "With alpha = 0.1 validation Adjusted R2 with feature selection = 0.5093959268338195\n",
            "***************************************************************************\n",
            "With alpha = 1 train Adjusted R2 without feature selection = 0.09213659371077376\n",
            "With alpha = 1 train Adjusted R2 with feature selection = 0.09040969736509352\n",
            "With alpha = 1 validation Adjusted R2 without feature selection = 0.09188121489803336\n",
            "With alpha = 1 validation Adjusted R2 with feature selection = 0.0903749638339667\n",
            "***************************************************************************\n",
            "With alpha = 10 train Adjusted R2 without feature selection = 0.00883388531166418\n",
            "With alpha = 10 train Adjusted R2 with feature selection = 0.010420317142083357\n",
            "With alpha = 10 validation Adjusted R2 without feature selection = 0.008565908631104957\n",
            "With alpha = 10 validation Adjusted R2 with feature selection = 0.010354005963437163\n",
            "***************************************************************************\n"
          ]
        }
      ]
    },
    {
      "cell_type": "markdown",
      "source": [
        "The difference we gain from dropping and selecting some of features and keeping them all is not really worthy, so we will stick with complete dataset for now, as for our results we can see that Linear Regression with alpha = 0.001 is the best result on our cross validation data."
      ],
      "metadata": {
        "id": "d_RFWw0F5EDk"
      }
    },
    {
      "cell_type": "code",
      "source": [
        "sgd = SGDRegressor(alpha = 0.001, max_iter = 5000, tol = 1e-6)\n",
        "sgd.fit(x_train, y_train)\n",
        "y_pred = sgd.predict(x_train)\n",
        "y_cv_1 = sgd.predict(x_cv)\n",
        "\n",
        "print(f\"train Adjusted R2 =\", adjusted_r2(y_train, y_pred, x_train))\n",
        "print(f\"Cross Validation Adjusted R2 =\", adjusted_r2(y_cv, y_cv_1, x_cv))"
      ],
      "metadata": {
        "colab": {
          "base_uri": "https://localhost:8080/"
        },
        "id": "49OVY1Ia5X1Y",
        "outputId": "2461ac23-4375-419b-a806-7a9e7fd852f8"
      },
      "execution_count": null,
      "outputs": [
        {
          "output_type": "stream",
          "name": "stdout",
          "text": [
            "train Adjusted R2 = 0.8942693154821741\n",
            "Cross Validation Adjusted R2 = 0.8913119408513738\n"
          ]
        }
      ]
    },
    {
      "cell_type": "code",
      "source": [
        "# Cheking the coefficent of our SGDRegressor\n",
        "print(sgd.coef_)"
      ],
      "metadata": {
        "colab": {
          "base_uri": "https://localhost:8080/"
        },
        "id": "2MK2dlPsCvK8",
        "outputId": "2961b2be-d8cc-4089-c746-5142b4b2faa9"
      },
      "execution_count": null,
      "outputs": [
        {
          "output_type": "stream",
          "name": "stdout",
          "text": [
            "[ 1.67002786e+02  3.94375897e+01 -3.77760450e+02 -4.18297673e+02\n",
            "  8.69102186e+00  1.40466635e+01  1.76388045e+01  2.34527537e+04\n",
            "  1.21611531e+03]\n"
          ]
        }
      ]
    },
    {
      "cell_type": "markdown",
      "source": [
        "### Polynominal Linear Regression"
      ],
      "metadata": {
        "id": "GQ7ilivK6sux"
      }
    },
    {
      "cell_type": "markdown",
      "source": [
        "For polynominal linear regression, let's first create more higher order features using sklearn, we will design high order features with 2, 4 and 6 degree, no regularization will be used as we shall use LinearRegression Class in this part to clarify the additive power of polynominal features."
      ],
      "metadata": {
        "id": "YTEr9iHeFGAT"
      }
    },
    {
      "cell_type": "code",
      "source": [
        "polynomial_features = PolynomialFeatures(degree = 2)\n",
        "poly_regressor = LinearRegression()\n",
        "x_poly = polynomial_features.fit_transform(x_train)\n",
        "x_cv_poly = polynomial_features.transform(x_cv)\n",
        "poly_regressor.fit(x_poly, y_train)"
      ],
      "metadata": {
        "id": "AV5rLuK26vhH",
        "colab": {
          "base_uri": "https://localhost:8080/"
        },
        "outputId": "023de6dc-34c0-4b1e-b30e-5a1908ab91b6"
      },
      "execution_count": null,
      "outputs": [
        {
          "output_type": "execute_result",
          "data": {
            "text/plain": [
              "LinearRegression()"
            ]
          },
          "metadata": {},
          "execution_count": 83
        }
      ]
    },
    {
      "cell_type": "code",
      "source": [
        "y_pred = poly_regressor.predict(x_poly)\n",
        "rmse = np.sqrt(mean_squared_error(y_train, y_pred))\n",
        "print(\"Rmse for polynomial model on train data =\", rmse)\n",
        "r2 = adjusted_r2(y_train, y_pred, x_poly)\n",
        "print(\"Adjusted R2 for polynomial model on train data =\", r2)"
      ],
      "metadata": {
        "colab": {
          "base_uri": "https://localhost:8080/"
        },
        "id": "52Fjqgq9GnvD",
        "outputId": "168272c6-69d1-43fc-fe0b-7775d517cb2e"
      },
      "execution_count": null,
      "outputs": [
        {
          "output_type": "stream",
          "name": "stdout",
          "text": [
            "Rmse for polynomial model on train data = 1776.9020697760327\n",
            "Adjusted R2 for polynomial model on train data = 0.8964912627025967\n"
          ]
        }
      ]
    },
    {
      "cell_type": "code",
      "source": [
        "print(\"number of features in polynominal space =\", len(poly_regressor.coef_))"
      ],
      "metadata": {
        "colab": {
          "base_uri": "https://localhost:8080/"
        },
        "id": "hxQUtFlpzuGG",
        "outputId": "ccb5c7f7-9fab-4407-b7b2-f4c88601eb4a"
      },
      "execution_count": null,
      "outputs": [
        {
          "output_type": "stream",
          "name": "stdout",
          "text": [
            "number of features in polynominal space = 55\n"
          ]
        }
      ]
    },
    {
      "cell_type": "code",
      "source": [
        "print(poly_regressor.coef_)"
      ],
      "metadata": {
        "colab": {
          "base_uri": "https://localhost:8080/"
        },
        "id": "J9rl0jqrzeG4",
        "outputId": "fce29d4d-c11f-42f7-f2f4-d93088f72777"
      },
      "execution_count": null,
      "outputs": [
        {
          "output_type": "stream",
          "name": "stdout",
          "text": [
            "[-7.12618933e-10  9.66531501e+02  1.17965379e+03 -1.67313929e+02\n",
            " -2.09564719e+02 -1.97701368e+03  2.15177270e+04 -2.04978111e+04\n",
            "  2.52471991e+04  1.91065285e+03 -6.77647036e+02 -7.88897495e+01\n",
            " -2.07557594e+02 -4.28746102e+02  2.93424078e+04 -1.03397427e+05\n",
            "  7.59280184e+04 -8.40902983e+02  7.60476628e+02 -5.85699237e+02\n",
            " -6.07779606e+02  6.53937912e+02  6.25686888e+04 -2.30571484e+05\n",
            "  1.72145225e+05 -1.80027338e+03 -2.43991369e+02  4.08785454e+02\n",
            " -9.93763191e+02 -8.18636727e+03  8.08987413e+03  5.41898754e+02\n",
            "  5.26941759e+02 -1.74624887e+03  1.32790608e+03 -6.57071708e+03\n",
            "  1.24229834e+04 -7.00729968e+03  8.89478407e+02 -3.09122607e+03\n",
            " -2.12785198e+05 -1.63307519e+06  2.04474226e+06 -1.27386114e+04\n",
            " -3.02491027e+04  2.85782912e+06 -3.05384095e+06  4.60040712e+04\n",
            "  9.17149170e+04 -2.80210857e+03 -3.31143509e+04 -6.26564245e+04\n",
            "  1.10039144e+03 -5.93499110e+03  1.59370149e+03]\n"
          ]
        }
      ]
    },
    {
      "cell_type": "markdown",
      "source": [
        "### Testing Models on Test Data"
      ],
      "metadata": {
        "id": "LP-_EYwEO390"
      }
    },
    {
      "cell_type": "code",
      "source": [
        "test_df = pd.read_csv(\"bitrate_test.csv\")"
      ],
      "metadata": {
        "id": "yQWLwmtLO6Dh"
      },
      "execution_count": null,
      "outputs": []
    },
    {
      "cell_type": "code",
      "source": [
        "x_test, y_test = test_df[test_df.columns[:-1]], test_df[\"target\"]"
      ],
      "metadata": {
        "id": "yvn10N3Y2FoG"
      },
      "execution_count": null,
      "outputs": []
    },
    {
      "cell_type": "code",
      "source": [
        "print(\"Number of rows in test data\", x_test.shape[0])\n",
        "print(\"Number of column in test data\", x_test.shape[1])\n",
        "print(\"Number of rows in test target\", len(y_test))"
      ],
      "metadata": {
        "colab": {
          "base_uri": "https://localhost:8080/"
        },
        "id": "2Ir3MgJ22Uol",
        "outputId": "acd776bc-2a8b-4a1e-92fb-b5298123a2a1"
      },
      "execution_count": null,
      "outputs": [
        {
          "output_type": "stream",
          "name": "stdout",
          "text": [
            "Number of rows in test data 228145\n",
            "Number of column in test data 9\n",
            "Number of rows in test target 228145\n"
          ]
        }
      ]
    },
    {
      "cell_type": "code",
      "source": [
        "x_test = scaler.transform(x_test)"
      ],
      "metadata": {
        "id": "IOWcyCNF4hHB"
      },
      "execution_count": null,
      "outputs": []
    },
    {
      "cell_type": "markdown",
      "source": [
        "### Linear Regression on Test Data"
      ],
      "metadata": {
        "id": "jdcs151T4yNp"
      }
    },
    {
      "cell_type": "code",
      "source": [
        "print(\"RMSE on test data =\", math.sqrt(mean_squared_error(y_test, regressor.predict(x_test))))\n",
        "print(\"Adjusted R2 on test data =\", adjusted_r2(y_test, regressor.predict(x_test), x_test))"
      ],
      "metadata": {
        "colab": {
          "base_uri": "https://localhost:8080/"
        },
        "id": "JdRTYljc4z1y",
        "outputId": "563cda06-f6e6-4941-f721-ada3b89ecf91"
      },
      "execution_count": null,
      "outputs": [
        {
          "output_type": "stream",
          "name": "stdout",
          "text": [
            "RMSE on test data = 1959.24880084645\n",
            "Adjusted R2 on test data = 0.892351803268778\n"
          ]
        }
      ]
    },
    {
      "cell_type": "markdown",
      "source": [
        "### SGDRegressor on Test Data"
      ],
      "metadata": {
        "id": "wviYHPhE5GGB"
      }
    },
    {
      "cell_type": "code",
      "source": [
        "print(f\"test RMSE =\", math.sqrt(mean_squared_error(y_test, sgd.predict(x_test))))\n",
        "print(f\"test Adjusted R2 =\", adjusted_r2(y_test, sgd.predict(x_test), x_test))"
      ],
      "metadata": {
        "colab": {
          "base_uri": "https://localhost:8080/"
        },
        "id": "FvUbM3ab5Igo",
        "outputId": "899c988c-766c-4b4f-adb4-dd458db3f8ab"
      },
      "execution_count": null,
      "outputs": [
        {
          "output_type": "stream",
          "name": "stdout",
          "text": [
            "test RMSE = 1970.4408633458427\n",
            "test Adjusted R2 = 0.8911184259401459\n"
          ]
        }
      ]
    },
    {
      "cell_type": "markdown",
      "source": [
        "Polynomial Linear Regression on Test Data"
      ],
      "metadata": {
        "id": "6IJXDxEc5o2k"
      }
    },
    {
      "cell_type": "code",
      "source": [
        "x_test_poly = polynomial_features.transform(x_test)\n",
        "y_test_pred = poly_regressor.predict(x_test_poly)\n",
        "\n",
        "print(f\"test RMSE =\", math.sqrt(mean_squared_error(y_test, y_test_pred)))\n",
        "print(f\"test Adjusted R2 =\", adjusted_r2(y_test, y_test_pred, x_test_poly))"
      ],
      "metadata": {
        "colab": {
          "base_uri": "https://localhost:8080/"
        },
        "id": "_mCrngtp5rfT",
        "outputId": "3c3fa579-8b97-4b49-c87a-77bb0d3ab6b8"
      },
      "execution_count": null,
      "outputs": [
        {
          "output_type": "stream",
          "name": "stdout",
          "text": [
            "test RMSE = 106621.03443633649\n",
            "test Adjusted R2 = -317.86066032021284\n"
          ]
        }
      ]
    }
  ]
}